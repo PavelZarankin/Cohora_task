{
 "cells": [
  {
   "cell_type": "code",
   "execution_count": 189,
   "id": "56d8bf3c-7612-44c0-a85e-a9464d5af2c2",
   "metadata": {},
   "outputs": [],
   "source": [
    "import pandas as pd\n",
    "import numpy as np\n",
    "import seaborn as sns\n",
    "import matplotlib.pyplot as plt\n",
    "from collections import Counter\n",
    "from itertools import combinations\n",
    "\n",
    "%matplotlib inline"
   ]
  },
  {
   "cell_type": "code",
   "execution_count": 190,
   "id": "621e9f11-cd2a-4cbb-9889-d3c6f7a25626",
   "metadata": {},
   "outputs": [
    {
     "name": "stderr",
     "output_type": "stream",
     "text": [
      "C:\\Users\\user\\AppData\\Local\\Temp\\ipykernel_11044\\2084181180.py:1: FutureWarning: The argument 'date_parser' is deprecated and will be removed in a future version. Please use 'date_format' instead, or read your data in as 'object' dtype and then call 'to_datetime'.\n",
      "  df_customers = pd.read_csv('datasets/customers.csv', parse_dates=['created_at'],\n",
      "C:\\Users\\user\\AppData\\Local\\Temp\\ipykernel_11044\\2084181180.py:3: FutureWarning: The argument 'date_parser' is deprecated and will be removed in a future version. Please use 'date_format' instead, or read your data in as 'object' dtype and then call 'to_datetime'.\n",
      "  df_orders = pd.read_csv('datasets/order_items.csv', parse_dates=['created_at'],\n",
      "C:\\Users\\user\\AppData\\Local\\Temp\\ipykernel_11044\\2084181180.py:5: FutureWarning: The argument 'date_parser' is deprecated and will be removed in a future version. Please use 'date_format' instead, or read your data in as 'object' dtype and then call 'to_datetime'.\n",
      "  df_items = pd.read_csv('datasets/po_items.csv', parse_dates=['created_at'],\n",
      "C:\\Users\\user\\AppData\\Local\\Temp\\ipykernel_11044\\2084181180.py:7: FutureWarning: The argument 'date_parser' is deprecated and will be removed in a future version. Please use 'date_format' instead, or read your data in as 'object' dtype and then call 'to_datetime'.\n",
      "  df_reviews = pd.read_csv('datasets/Reviews_export_2024_09_10_14_47_09.783.csv', parse_dates=['Review Creation Date'],\n"
     ]
    }
   ],
   "source": [
    "df_customers = pd.read_csv('datasets/customers.csv', parse_dates=['created_at'],\n",
    "                          date_parser=lambda x: pd.to_datetime(x, format='%m/%d/%y %I:%M %p'))\n",
    "df_orders = pd.read_csv('datasets/order_items.csv', parse_dates=['created_at'],\n",
    "                          date_parser=lambda x: pd.to_datetime(x, format='%m/%d/%y %I:%M %p'))\n",
    "df_items = pd.read_csv('datasets/po_items.csv', parse_dates=['created_at'],\n",
    "                          date_parser=lambda x: pd.to_datetime(x, format='%m/%d/%y %I:%M %p'))\n",
    "df_reviews = pd.read_csv('datasets/Reviews_export_2024_09_10_14_47_09.783.csv', parse_dates=['Review Creation Date'],\n",
    "                          date_parser=lambda x: pd.to_datetime(x, format='%m/%d/%y %I:%M %p'))"
   ]
  },
  {
   "cell_type": "code",
   "execution_count": 191,
   "id": "f22d9a3b-42ef-44d3-8830-9827f3f655e2",
   "metadata": {},
   "outputs": [
    {
     "name": "stdout",
     "output_type": "stream",
     "text": [
      "<class 'pandas.core.frame.DataFrame'>\n",
      "RangeIndex: 260896 entries, 0 to 260895\n",
      "Data columns (total 14 columns):\n",
      " #   Column                 Non-Null Count   Dtype         \n",
      "---  ------                 --------------   -----         \n",
      " 0   id                     260896 non-null  int64         \n",
      " 1   order_id               260896 non-null  int64         \n",
      " 2   description            260895 non-null  object        \n",
      " 3   sku                    260896 non-null  object        \n",
      " 4   regular_price          260262 non-null  float64       \n",
      " 5   price                  260896 non-null  float64       \n",
      " 6   qty                    260896 non-null  int64         \n",
      " 7   subtotal               260896 non-null  float64       \n",
      " 8   total_discount_amount  260896 non-null  float64       \n",
      " 9   code                   1386 non-null    object        \n",
      " 10  description.1          48196 non-null   object        \n",
      " 11  tax_amount             260896 non-null  float64       \n",
      " 12  total                  260896 non-null  float64       \n",
      " 13  created_at             260893 non-null  datetime64[ns]\n",
      "dtypes: datetime64[ns](1), float64(6), int64(3), object(4)\n",
      "memory usage: 27.9+ MB\n"
     ]
    }
   ],
   "source": [
    "df_customers.info()"
   ]
  },
  {
   "cell_type": "code",
   "execution_count": 192,
   "id": "e5778707-8bf4-4714-b9a7-4dff7ce49ab6",
   "metadata": {},
   "outputs": [
    {
     "data": {
      "text/html": [
       "<div>\n",
       "<style scoped>\n",
       "    .dataframe tbody tr th:only-of-type {\n",
       "        vertical-align: middle;\n",
       "    }\n",
       "\n",
       "    .dataframe tbody tr th {\n",
       "        vertical-align: top;\n",
       "    }\n",
       "\n",
       "    .dataframe thead th {\n",
       "        text-align: right;\n",
       "    }\n",
       "</style>\n",
       "<table border=\"1\" class=\"dataframe\">\n",
       "  <thead>\n",
       "    <tr style=\"text-align: right;\">\n",
       "      <th></th>\n",
       "      <th>id</th>\n",
       "      <th>order_id</th>\n",
       "      <th>description</th>\n",
       "      <th>sku</th>\n",
       "      <th>regular_price</th>\n",
       "      <th>price</th>\n",
       "      <th>qty</th>\n",
       "      <th>subtotal</th>\n",
       "      <th>total_discount_amount</th>\n",
       "      <th>code</th>\n",
       "      <th>description.1</th>\n",
       "      <th>tax_amount</th>\n",
       "      <th>total</th>\n",
       "      <th>created_at</th>\n",
       "    </tr>\n",
       "  </thead>\n",
       "  <tbody>\n",
       "    <tr>\n",
       "      <th>0</th>\n",
       "      <td>679118</td>\n",
       "      <td>496977</td>\n",
       "      <td>TaylorMade SIM Max Iron Set 5-PW and AW Stiff ...</td>\n",
       "      <td>TM-S17427</td>\n",
       "      <td>799.99</td>\n",
       "      <td>799.99</td>\n",
       "      <td>1</td>\n",
       "      <td>799.99</td>\n",
       "      <td>0.0</td>\n",
       "      <td>NaN</td>\n",
       "      <td>NaN</td>\n",
       "      <td>40.00</td>\n",
       "      <td>839.99</td>\n",
       "      <td>2021-09-10 00:00:00</td>\n",
       "    </tr>\n",
       "    <tr>\n",
       "      <th>1</th>\n",
       "      <td>679119</td>\n",
       "      <td>496978</td>\n",
       "      <td>TaylorMade M4 Iron Set 5-PW and AW Regular Rig...</td>\n",
       "      <td>TM-S17574</td>\n",
       "      <td>699.99</td>\n",
       "      <td>699.99</td>\n",
       "      <td>1</td>\n",
       "      <td>699.99</td>\n",
       "      <td>70.0</td>\n",
       "      <td>NaN</td>\n",
       "      <td>2021-01 - 10% Welcome - Unique Codes</td>\n",
       "      <td>94.34</td>\n",
       "      <td>724.33</td>\n",
       "      <td>2021-09-10 00:04:00</td>\n",
       "    </tr>\n",
       "    <tr>\n",
       "      <th>2</th>\n",
       "      <td>679120</td>\n",
       "      <td>496978</td>\n",
       "      <td>Titleist 816H1 4 Hybrid 23¬∞ Regular Right-Han...</td>\n",
       "      <td>TS-H08614</td>\n",
       "      <td>109.99</td>\n",
       "      <td>109.99</td>\n",
       "      <td>1</td>\n",
       "      <td>109.99</td>\n",
       "      <td>11.0</td>\n",
       "      <td>NaN</td>\n",
       "      <td>2021-01 - 10% Welcome - Unique Codes</td>\n",
       "      <td>14.82</td>\n",
       "      <td>113.81</td>\n",
       "      <td>2021-09-10 00:04:00</td>\n",
       "    </tr>\n",
       "  </tbody>\n",
       "</table>\n",
       "</div>"
      ],
      "text/plain": [
       "       id  order_id                                        description  \\\n",
       "0  679118    496977  TaylorMade SIM Max Iron Set 5-PW and AW Stiff ...   \n",
       "1  679119    496978  TaylorMade M4 Iron Set 5-PW and AW Regular Rig...   \n",
       "2  679120    496978  Titleist 816H1 4 Hybrid 23¬∞ Regular Right-Han...   \n",
       "\n",
       "         sku  regular_price   price  qty  subtotal  total_discount_amount  \\\n",
       "0  TM-S17427         799.99  799.99    1    799.99                    0.0   \n",
       "1  TM-S17574         699.99  699.99    1    699.99                   70.0   \n",
       "2  TS-H08614         109.99  109.99    1    109.99                   11.0   \n",
       "\n",
       "  code                         description.1  tax_amount   total  \\\n",
       "0  NaN                                   NaN       40.00  839.99   \n",
       "1  NaN  2021-01 - 10% Welcome - Unique Codes       94.34  724.33   \n",
       "2  NaN  2021-01 - 10% Welcome - Unique Codes       14.82  113.81   \n",
       "\n",
       "           created_at  \n",
       "0 2021-09-10 00:00:00  \n",
       "1 2021-09-10 00:04:00  \n",
       "2 2021-09-10 00:04:00  "
      ]
     },
     "execution_count": 192,
     "metadata": {},
     "output_type": "execute_result"
    }
   ],
   "source": [
    "df_customers.head(3)"
   ]
  },
  {
   "cell_type": "code",
   "execution_count": 193,
   "id": "8dd54136-db0c-454a-8d7a-315e4b3c8245",
   "metadata": {},
   "outputs": [
    {
     "name": "stdout",
     "output_type": "stream",
     "text": [
      "<class 'pandas.core.frame.DataFrame'>\n",
      "RangeIndex: 261287 entries, 0 to 261286\n",
      "Data columns (total 20 columns):\n",
      " #   Column                 Non-Null Count   Dtype         \n",
      "---  ------                 --------------   -----         \n",
      " 0   id                     261287 non-null  int64         \n",
      " 1   order_id               261287 non-null  int64         \n",
      " 2   customer_id            261287 non-null  int64         \n",
      " 3   description            261286 non-null  object        \n",
      " 4   model                  260950 non-null  object        \n",
      " 5   brand                  260950 non-null  object        \n",
      " 6   type                   260950 non-null  object        \n",
      " 7   model_id               260950 non-null  float64       \n",
      " 8   sku                    261287 non-null  object        \n",
      " 9   currency               261287 non-null  object        \n",
      " 10  regular_price          260653 non-null  float64       \n",
      " 11  price                  261287 non-null  float64       \n",
      " 12  qty                    261287 non-null  int64         \n",
      " 13  subtotal               261287 non-null  float64       \n",
      " 14  total_discount_amount  261287 non-null  float64       \n",
      " 15  code                   1386 non-null    object        \n",
      " 16  description.1          48208 non-null   object        \n",
      " 17  tax_amount             261287 non-null  float64       \n",
      " 18  total                  261287 non-null  float64       \n",
      " 19  created_at             261284 non-null  datetime64[ns]\n",
      "dtypes: datetime64[ns](1), float64(7), int64(4), object(8)\n",
      "memory usage: 39.9+ MB\n"
     ]
    }
   ],
   "source": [
    "df_orders.info()"
   ]
  },
  {
   "cell_type": "code",
   "execution_count": 194,
   "id": "5764900e-9a28-404e-b335-ccd6eed57450",
   "metadata": {},
   "outputs": [
    {
     "data": {
      "text/html": [
       "<div>\n",
       "<style scoped>\n",
       "    .dataframe tbody tr th:only-of-type {\n",
       "        vertical-align: middle;\n",
       "    }\n",
       "\n",
       "    .dataframe tbody tr th {\n",
       "        vertical-align: top;\n",
       "    }\n",
       "\n",
       "    .dataframe thead th {\n",
       "        text-align: right;\n",
       "    }\n",
       "</style>\n",
       "<table border=\"1\" class=\"dataframe\">\n",
       "  <thead>\n",
       "    <tr style=\"text-align: right;\">\n",
       "      <th></th>\n",
       "      <th>id</th>\n",
       "      <th>order_id</th>\n",
       "      <th>customer_id</th>\n",
       "      <th>description</th>\n",
       "      <th>model</th>\n",
       "      <th>brand</th>\n",
       "      <th>type</th>\n",
       "      <th>model_id</th>\n",
       "      <th>sku</th>\n",
       "      <th>currency</th>\n",
       "      <th>regular_price</th>\n",
       "      <th>price</th>\n",
       "      <th>qty</th>\n",
       "      <th>subtotal</th>\n",
       "      <th>total_discount_amount</th>\n",
       "      <th>code</th>\n",
       "      <th>description.1</th>\n",
       "      <th>tax_amount</th>\n",
       "      <th>total</th>\n",
       "      <th>created_at</th>\n",
       "    </tr>\n",
       "  </thead>\n",
       "  <tbody>\n",
       "    <tr>\n",
       "      <th>0</th>\n",
       "      <td>679118</td>\n",
       "      <td>496977</td>\n",
       "      <td>329221</td>\n",
       "      <td>TaylorMade SIM Max Iron Set 5-PW and AW Stiff ...</td>\n",
       "      <td>SIM Max</td>\n",
       "      <td>TaylorMade</td>\n",
       "      <td>Iron Set</td>\n",
       "      <td>11150.0</td>\n",
       "      <td>TM-S17427</td>\n",
       "      <td>CAD</td>\n",
       "      <td>799.99</td>\n",
       "      <td>799.99</td>\n",
       "      <td>1</td>\n",
       "      <td>799.99</td>\n",
       "      <td>0.0</td>\n",
       "      <td>NaN</td>\n",
       "      <td>NaN</td>\n",
       "      <td>40.00</td>\n",
       "      <td>839.99</td>\n",
       "      <td>2021-09-10 00:00:00</td>\n",
       "    </tr>\n",
       "    <tr>\n",
       "      <th>1</th>\n",
       "      <td>679119</td>\n",
       "      <td>496978</td>\n",
       "      <td>416222</td>\n",
       "      <td>TaylorMade M4 Iron Set 5-PW and AW Regular Rig...</td>\n",
       "      <td>M4</td>\n",
       "      <td>TaylorMade</td>\n",
       "      <td>Iron Set</td>\n",
       "      <td>9277.0</td>\n",
       "      <td>TM-S17574</td>\n",
       "      <td>CAD</td>\n",
       "      <td>699.99</td>\n",
       "      <td>699.99</td>\n",
       "      <td>1</td>\n",
       "      <td>699.99</td>\n",
       "      <td>70.0</td>\n",
       "      <td>NaN</td>\n",
       "      <td>2021-01 - 10% Welcome - Unique Codes</td>\n",
       "      <td>94.34</td>\n",
       "      <td>724.33</td>\n",
       "      <td>2021-09-10 00:05:00</td>\n",
       "    </tr>\n",
       "    <tr>\n",
       "      <th>2</th>\n",
       "      <td>679120</td>\n",
       "      <td>496978</td>\n",
       "      <td>416222</td>\n",
       "      <td>Titleist 816H1 4 Hybrid 23¬∞ Regular Right-Han...</td>\n",
       "      <td>816H1</td>\n",
       "      <td>Titleist</td>\n",
       "      <td>Hybrid</td>\n",
       "      <td>7562.0</td>\n",
       "      <td>TS-H08614</td>\n",
       "      <td>CAD</td>\n",
       "      <td>109.99</td>\n",
       "      <td>109.99</td>\n",
       "      <td>1</td>\n",
       "      <td>109.99</td>\n",
       "      <td>11.0</td>\n",
       "      <td>NaN</td>\n",
       "      <td>2021-01 - 10% Welcome - Unique Codes</td>\n",
       "      <td>14.82</td>\n",
       "      <td>113.81</td>\n",
       "      <td>2021-09-10 00:05:00</td>\n",
       "    </tr>\n",
       "  </tbody>\n",
       "</table>\n",
       "</div>"
      ],
      "text/plain": [
       "       id  order_id  customer_id  \\\n",
       "0  679118    496977       329221   \n",
       "1  679119    496978       416222   \n",
       "2  679120    496978       416222   \n",
       "\n",
       "                                         description    model       brand  \\\n",
       "0  TaylorMade SIM Max Iron Set 5-PW and AW Stiff ...  SIM Max  TaylorMade   \n",
       "1  TaylorMade M4 Iron Set 5-PW and AW Regular Rig...       M4  TaylorMade   \n",
       "2  Titleist 816H1 4 Hybrid 23¬∞ Regular Right-Han...    816H1    Titleist   \n",
       "\n",
       "       type  model_id        sku currency  regular_price   price  qty  \\\n",
       "0  Iron Set   11150.0  TM-S17427      CAD         799.99  799.99    1   \n",
       "1  Iron Set    9277.0  TM-S17574      CAD         699.99  699.99    1   \n",
       "2    Hybrid    7562.0  TS-H08614      CAD         109.99  109.99    1   \n",
       "\n",
       "   subtotal  total_discount_amount code                         description.1  \\\n",
       "0    799.99                    0.0  NaN                                   NaN   \n",
       "1    699.99                   70.0  NaN  2021-01 - 10% Welcome - Unique Codes   \n",
       "2    109.99                   11.0  NaN  2021-01 - 10% Welcome - Unique Codes   \n",
       "\n",
       "   tax_amount   total          created_at  \n",
       "0       40.00  839.99 2021-09-10 00:00:00  \n",
       "1       94.34  724.33 2021-09-10 00:05:00  \n",
       "2       14.82  113.81 2021-09-10 00:05:00  "
      ]
     },
     "execution_count": 194,
     "metadata": {},
     "output_type": "execute_result"
    }
   ],
   "source": [
    "df_orders.head(3)"
   ]
  },
  {
   "cell_type": "code",
   "execution_count": 195,
   "id": "ba05e687-406a-4538-899c-f8f1714c9a97",
   "metadata": {},
   "outputs": [
    {
     "name": "stdout",
     "output_type": "stream",
     "text": [
      "<class 'pandas.core.frame.DataFrame'>\n",
      "RangeIndex: 235854 entries, 0 to 235853\n",
      "Data columns (total 19 columns):\n",
      " #   Column             Non-Null Count   Dtype         \n",
      "---  ------             --------------   -----         \n",
      " 0   id                 235854 non-null  int64         \n",
      " 1   customer_id        235854 non-null  int64         \n",
      " 2   purchase_order_id  235854 non-null  int64         \n",
      " 3   status             235854 non-null  object        \n",
      " 4   model              235854 non-null  object        \n",
      " 5   product_type       235854 non-null  object        \n",
      " 6   brand              235854 non-null  object        \n",
      " 7   model_id           235854 non-null  int64         \n",
      " 8   brand_id           235854 non-null  int64         \n",
      " 9   product_type_id    235854 non-null  int64         \n",
      " 10  price              235854 non-null  float64       \n",
      " 11  currency           235854 non-null  object        \n",
      " 12  subtotal           0 non-null       float64       \n",
      " 13  margin_total       235854 non-null  float64       \n",
      " 14  bonus_total        235854 non-null  float64       \n",
      " 15  total              235854 non-null  float64       \n",
      " 16  created_at         235854 non-null  datetime64[ns]\n",
      " 17  received_at        0 non-null       float64       \n",
      " 18  inspected_at       103382 non-null  object        \n",
      "dtypes: datetime64[ns](1), float64(6), int64(6), object(6)\n",
      "memory usage: 34.2+ MB\n"
     ]
    }
   ],
   "source": [
    "df_items.info()"
   ]
  },
  {
   "cell_type": "code",
   "execution_count": 196,
   "id": "f60f230a-cef2-4606-bbc0-97c7c1390888",
   "metadata": {},
   "outputs": [],
   "source": [
    "df_items['received_at'] = pd.to_datetime(df_items['received_at'], format='%m/%d/%y %I:%M %p', errors='coerce')\n",
    "df_items['inspected_at'] = pd.to_datetime(df_items['inspected_at'], format='%m/%d/%y %I:%M %p', errors='coerce')"
   ]
  },
  {
   "cell_type": "code",
   "execution_count": 197,
   "id": "16e97bd3-eeb0-4504-97e5-210c4f94be3a",
   "metadata": {},
   "outputs": [
    {
     "data": {
      "text/html": [
       "<div>\n",
       "<style scoped>\n",
       "    .dataframe tbody tr th:only-of-type {\n",
       "        vertical-align: middle;\n",
       "    }\n",
       "\n",
       "    .dataframe tbody tr th {\n",
       "        vertical-align: top;\n",
       "    }\n",
       "\n",
       "    .dataframe thead th {\n",
       "        text-align: right;\n",
       "    }\n",
       "</style>\n",
       "<table border=\"1\" class=\"dataframe\">\n",
       "  <thead>\n",
       "    <tr style=\"text-align: right;\">\n",
       "      <th></th>\n",
       "      <th>id</th>\n",
       "      <th>customer_id</th>\n",
       "      <th>purchase_order_id</th>\n",
       "      <th>status</th>\n",
       "      <th>model</th>\n",
       "      <th>product_type</th>\n",
       "      <th>brand</th>\n",
       "      <th>model_id</th>\n",
       "      <th>brand_id</th>\n",
       "      <th>product_type_id</th>\n",
       "      <th>price</th>\n",
       "      <th>currency</th>\n",
       "      <th>subtotal</th>\n",
       "      <th>margin_total</th>\n",
       "      <th>bonus_total</th>\n",
       "      <th>total</th>\n",
       "      <th>created_at</th>\n",
       "      <th>received_at</th>\n",
       "      <th>inspected_at</th>\n",
       "    </tr>\n",
       "  </thead>\n",
       "  <tbody>\n",
       "    <tr>\n",
       "      <th>0</th>\n",
       "      <td>767181</td>\n",
       "      <td>416193</td>\n",
       "      <td>43112</td>\n",
       "      <td>Rejected</td>\n",
       "      <td>XR</td>\n",
       "      <td>Driver</td>\n",
       "      <td>Callaway</td>\n",
       "      <td>5622</td>\n",
       "      <td>5</td>\n",
       "      <td>2</td>\n",
       "      <td>95.0</td>\n",
       "      <td>CAD</td>\n",
       "      <td>NaN</td>\n",
       "      <td>0.0</td>\n",
       "      <td>9.5</td>\n",
       "      <td>104.5</td>\n",
       "      <td>2021-09-10 00:30:00</td>\n",
       "      <td>NaT</td>\n",
       "      <td>NaT</td>\n",
       "    </tr>\n",
       "    <tr>\n",
       "      <th>1</th>\n",
       "      <td>767182</td>\n",
       "      <td>416228</td>\n",
       "      <td>43113</td>\n",
       "      <td>Open</td>\n",
       "      <td>M3</td>\n",
       "      <td>Driver</td>\n",
       "      <td>TaylorMade</td>\n",
       "      <td>9265</td>\n",
       "      <td>28</td>\n",
       "      <td>2</td>\n",
       "      <td>150.0</td>\n",
       "      <td>USD</td>\n",
       "      <td>NaN</td>\n",
       "      <td>0.0</td>\n",
       "      <td>15.0</td>\n",
       "      <td>165.0</td>\n",
       "      <td>2021-09-10 01:30:00</td>\n",
       "      <td>NaT</td>\n",
       "      <td>NaT</td>\n",
       "    </tr>\n",
       "    <tr>\n",
       "      <th>2</th>\n",
       "      <td>767183</td>\n",
       "      <td>416228</td>\n",
       "      <td>43113</td>\n",
       "      <td>Open</td>\n",
       "      <td>AP2 716 Forged</td>\n",
       "      <td>Iron Set</td>\n",
       "      <td>Titleist</td>\n",
       "      <td>7505</td>\n",
       "      <td>30</td>\n",
       "      <td>4</td>\n",
       "      <td>390.0</td>\n",
       "      <td>USD</td>\n",
       "      <td>NaN</td>\n",
       "      <td>0.0</td>\n",
       "      <td>39.0</td>\n",
       "      <td>429.0</td>\n",
       "      <td>2021-09-10 01:30:00</td>\n",
       "      <td>NaT</td>\n",
       "      <td>NaT</td>\n",
       "    </tr>\n",
       "    <tr>\n",
       "      <th>3</th>\n",
       "      <td>767184</td>\n",
       "      <td>415077</td>\n",
       "      <td>43114</td>\n",
       "      <td>Open</td>\n",
       "      <td>SIM Max</td>\n",
       "      <td>Iron Set</td>\n",
       "      <td>TaylorMade</td>\n",
       "      <td>11150</td>\n",
       "      <td>28</td>\n",
       "      <td>4</td>\n",
       "      <td>325.0</td>\n",
       "      <td>USD</td>\n",
       "      <td>NaN</td>\n",
       "      <td>0.0</td>\n",
       "      <td>65.0</td>\n",
       "      <td>390.0</td>\n",
       "      <td>2021-09-10 01:30:00</td>\n",
       "      <td>NaT</td>\n",
       "      <td>NaT</td>\n",
       "    </tr>\n",
       "    <tr>\n",
       "      <th>4</th>\n",
       "      <td>767185</td>\n",
       "      <td>416235</td>\n",
       "      <td>43115</td>\n",
       "      <td>Open</td>\n",
       "      <td>Blueprint</td>\n",
       "      <td>Iron Set</td>\n",
       "      <td>Ping</td>\n",
       "      <td>11197</td>\n",
       "      <td>21</td>\n",
       "      <td>4</td>\n",
       "      <td>645.0</td>\n",
       "      <td>USD</td>\n",
       "      <td>NaN</td>\n",
       "      <td>0.0</td>\n",
       "      <td>129.0</td>\n",
       "      <td>774.0</td>\n",
       "      <td>2021-09-10 01:30:00</td>\n",
       "      <td>NaT</td>\n",
       "      <td>NaT</td>\n",
       "    </tr>\n",
       "    <tr>\n",
       "      <th>5</th>\n",
       "      <td>767186</td>\n",
       "      <td>317142</td>\n",
       "      <td>43116</td>\n",
       "      <td>Open</td>\n",
       "      <td>718 AP1</td>\n",
       "      <td>Iron Set</td>\n",
       "      <td>Titleist</td>\n",
       "      <td>8815</td>\n",
       "      <td>30</td>\n",
       "      <td>4</td>\n",
       "      <td>460.0</td>\n",
       "      <td>CAD</td>\n",
       "      <td>NaN</td>\n",
       "      <td>0.0</td>\n",
       "      <td>46.0</td>\n",
       "      <td>506.0</td>\n",
       "      <td>2021-09-10 02:00:00</td>\n",
       "      <td>NaT</td>\n",
       "      <td>NaT</td>\n",
       "    </tr>\n",
       "    <tr>\n",
       "      <th>6</th>\n",
       "      <td>767187</td>\n",
       "      <td>416249</td>\n",
       "      <td>43117</td>\n",
       "      <td>Accepted</td>\n",
       "      <td>M1 460 2017</td>\n",
       "      <td>Driver</td>\n",
       "      <td>TaylorMade</td>\n",
       "      <td>8285</td>\n",
       "      <td>28</td>\n",
       "      <td>2</td>\n",
       "      <td>175.0</td>\n",
       "      <td>CAD</td>\n",
       "      <td>NaN</td>\n",
       "      <td>0.0</td>\n",
       "      <td>17.5</td>\n",
       "      <td>192.5</td>\n",
       "      <td>2021-09-10 02:30:00</td>\n",
       "      <td>NaT</td>\n",
       "      <td>2021-09-23 12:15:00</td>\n",
       "    </tr>\n",
       "    <tr>\n",
       "      <th>7</th>\n",
       "      <td>767188</td>\n",
       "      <td>392519</td>\n",
       "      <td>43118</td>\n",
       "      <td>Accepted</td>\n",
       "      <td>Huntington Beach Soft 4</td>\n",
       "      <td>Putter</td>\n",
       "      <td>Cleveland</td>\n",
       "      <td>34902</td>\n",
       "      <td>7</td>\n",
       "      <td>6</td>\n",
       "      <td>60.0</td>\n",
       "      <td>CAD</td>\n",
       "      <td>NaN</td>\n",
       "      <td>0.0</td>\n",
       "      <td>6.0</td>\n",
       "      <td>66.0</td>\n",
       "      <td>2021-09-10 02:30:00</td>\n",
       "      <td>NaT</td>\n",
       "      <td>2021-09-23 14:33:00</td>\n",
       "    </tr>\n",
       "    <tr>\n",
       "      <th>8</th>\n",
       "      <td>767189</td>\n",
       "      <td>392519</td>\n",
       "      <td>43118</td>\n",
       "      <td>Accepted</td>\n",
       "      <td>G SF Tec</td>\n",
       "      <td>Driver</td>\n",
       "      <td>Ping</td>\n",
       "      <td>7773</td>\n",
       "      <td>21</td>\n",
       "      <td>2</td>\n",
       "      <td>165.0</td>\n",
       "      <td>CAD</td>\n",
       "      <td>NaN</td>\n",
       "      <td>0.0</td>\n",
       "      <td>16.5</td>\n",
       "      <td>181.5</td>\n",
       "      <td>2021-09-10 02:30:00</td>\n",
       "      <td>NaT</td>\n",
       "      <td>2021-09-23 14:32:00</td>\n",
       "    </tr>\n",
       "  </tbody>\n",
       "</table>\n",
       "</div>"
      ],
      "text/plain": [
       "       id  customer_id  purchase_order_id    status                    model  \\\n",
       "0  767181       416193              43112  Rejected                       XR   \n",
       "1  767182       416228              43113      Open                       M3   \n",
       "2  767183       416228              43113      Open           AP2 716 Forged   \n",
       "3  767184       415077              43114      Open                  SIM Max   \n",
       "4  767185       416235              43115      Open                Blueprint   \n",
       "5  767186       317142              43116      Open                  718 AP1   \n",
       "6  767187       416249              43117  Accepted              M1 460 2017   \n",
       "7  767188       392519              43118  Accepted  Huntington Beach Soft 4   \n",
       "8  767189       392519              43118  Accepted                 G SF Tec   \n",
       "\n",
       "  product_type       brand  model_id  brand_id  product_type_id  price  \\\n",
       "0       Driver    Callaway      5622         5                2   95.0   \n",
       "1       Driver  TaylorMade      9265        28                2  150.0   \n",
       "2     Iron Set    Titleist      7505        30                4  390.0   \n",
       "3     Iron Set  TaylorMade     11150        28                4  325.0   \n",
       "4     Iron Set        Ping     11197        21                4  645.0   \n",
       "5     Iron Set    Titleist      8815        30                4  460.0   \n",
       "6       Driver  TaylorMade      8285        28                2  175.0   \n",
       "7       Putter   Cleveland     34902         7                6   60.0   \n",
       "8       Driver        Ping      7773        21                2  165.0   \n",
       "\n",
       "  currency  subtotal  margin_total  bonus_total  total          created_at  \\\n",
       "0      CAD       NaN           0.0          9.5  104.5 2021-09-10 00:30:00   \n",
       "1      USD       NaN           0.0         15.0  165.0 2021-09-10 01:30:00   \n",
       "2      USD       NaN           0.0         39.0  429.0 2021-09-10 01:30:00   \n",
       "3      USD       NaN           0.0         65.0  390.0 2021-09-10 01:30:00   \n",
       "4      USD       NaN           0.0        129.0  774.0 2021-09-10 01:30:00   \n",
       "5      CAD       NaN           0.0         46.0  506.0 2021-09-10 02:00:00   \n",
       "6      CAD       NaN           0.0         17.5  192.5 2021-09-10 02:30:00   \n",
       "7      CAD       NaN           0.0          6.0   66.0 2021-09-10 02:30:00   \n",
       "8      CAD       NaN           0.0         16.5  181.5 2021-09-10 02:30:00   \n",
       "\n",
       "  received_at        inspected_at  \n",
       "0         NaT                 NaT  \n",
       "1         NaT                 NaT  \n",
       "2         NaT                 NaT  \n",
       "3         NaT                 NaT  \n",
       "4         NaT                 NaT  \n",
       "5         NaT                 NaT  \n",
       "6         NaT 2021-09-23 12:15:00  \n",
       "7         NaT 2021-09-23 14:33:00  \n",
       "8         NaT 2021-09-23 14:32:00  "
      ]
     },
     "execution_count": 197,
     "metadata": {},
     "output_type": "execute_result"
    }
   ],
   "source": [
    "df_items.head(9)"
   ]
  },
  {
   "cell_type": "code",
   "execution_count": 198,
   "id": "32751ca2-ab60-45ff-beda-94c6087d3bb9",
   "metadata": {},
   "outputs": [
    {
     "data": {
      "text/plain": [
       "0"
      ]
     },
     "execution_count": 198,
     "metadata": {},
     "output_type": "execute_result"
    }
   ],
   "source": [
    "df_items.received_at.nunique()"
   ]
  },
  {
   "cell_type": "code",
   "execution_count": 199,
   "id": "8f8a7368-9bb3-4cb0-9558-fcb54a348c0f",
   "metadata": {},
   "outputs": [],
   "source": [
    "df_reviews['Order Date'] = pd.to_datetime(df_reviews['Order Date'], format='%m/%d/%Y')"
   ]
  },
  {
   "cell_type": "code",
   "execution_count": 200,
   "id": "699cc197-aa85-404c-89c0-881ce557d34d",
   "metadata": {},
   "outputs": [
    {
     "name": "stdout",
     "output_type": "stream",
     "text": [
      "<class 'pandas.core.frame.DataFrame'>\n",
      "RangeIndex: 10693 entries, 0 to 10692\n",
      "Data columns (total 44 columns):\n",
      " #   Column                  Non-Null Count  Dtype         \n",
      "---  ------                  --------------  -----         \n",
      " 0   Review ID               10693 non-null  int64         \n",
      " 1   Review Creation Date    10693 non-null  datetime64[ns]\n",
      " 2   Review Type             10693 non-null  object        \n",
      " 3   Review Status           10693 non-null  object        \n",
      " 4   Status Details          0 non-null      float64       \n",
      " 5   Review Source           10693 non-null  object        \n",
      " 6   Review Score            10693 non-null  int64         \n",
      " 7   Review Title            10691 non-null  object        \n",
      " 8   Review Content          10691 non-null  object        \n",
      " 9   Sentiment Score         10687 non-null  float64       \n",
      " 10  Profanity Flag          45 non-null     float64       \n",
      " 11  Published Image URLs    0 non-null      float64       \n",
      " 12  Unpublished Image URLs  139 non-null    object        \n",
      " 13  Published Video URLs    0 non-null      float64       \n",
      " 14  Unpublished Video URLs  6 non-null      object        \n",
      " 15  Comment Date            3 non-null      object        \n",
      " 16  Comment Content         3 non-null      object        \n",
      " 17  Comment Public          3 non-null      float64       \n",
      " 18  Review Tags             3 non-null      object        \n",
      " 19  Thumbs Up               10693 non-null  int64         \n",
      " 20  Thumbs Down             10693 non-null  int64         \n",
      " 21  Order ID                5941 non-null   float64       \n",
      " 22  Order Date              5941 non-null   datetime64[ns]\n",
      " 23  Pushed to Social        1 non-null      object        \n",
      " 24  Reviewer Display Name   10693 non-null  object        \n",
      " 25  Reviewer Email          10693 non-null  object        \n",
      " 26  Reviewer Type           10693 non-null  object        \n",
      " 27  Reviewer Country        6104 non-null   object        \n",
      " 28  Reviewer Device Type    6105 non-null   object        \n",
      " 29  Product ID              10693 non-null  object        \n",
      " 30  Product Title           10693 non-null  object        \n",
      " 31  Product Description     5161 non-null   object        \n",
      " 32  Product URL             5161 non-null   object        \n",
      " 33  Product Image URL       5138 non-null   object        \n",
      " 34  Product Handle          0 non-null      float64       \n",
      " 35  Product Group           0 non-null      float64       \n",
      " 36  Product Category        0 non-null      float64       \n",
      " 37  Product UPC             0 non-null      float64       \n",
      " 38  Product SKU             2721 non-null   object        \n",
      " 39  Product Brand           5159 non-null   object        \n",
      " 40  Product MPN             0 non-null      float64       \n",
      " 41  Product ISBN            0 non-null      float64       \n",
      " 42  Incentivized Flag       0 non-null      float64       \n",
      " 43  Metaobject handle       0 non-null      float64       \n",
      "dtypes: datetime64[ns](2), float64(15), int64(4), object(23)\n",
      "memory usage: 3.6+ MB\n"
     ]
    }
   ],
   "source": [
    "df_reviews.info()"
   ]
  },
  {
   "cell_type": "code",
   "execution_count": 201,
   "id": "fdde0d43-4add-4d22-8695-90a2cac5e69e",
   "metadata": {},
   "outputs": [
    {
     "data": {
      "text/html": [
       "<div>\n",
       "<style scoped>\n",
       "    .dataframe tbody tr th:only-of-type {\n",
       "        vertical-align: middle;\n",
       "    }\n",
       "\n",
       "    .dataframe tbody tr th {\n",
       "        vertical-align: top;\n",
       "    }\n",
       "\n",
       "    .dataframe thead th {\n",
       "        text-align: right;\n",
       "    }\n",
       "</style>\n",
       "<table border=\"1\" class=\"dataframe\">\n",
       "  <thead>\n",
       "    <tr style=\"text-align: right;\">\n",
       "      <th></th>\n",
       "      <th>Review ID</th>\n",
       "      <th>Review Creation Date</th>\n",
       "      <th>Review Type</th>\n",
       "      <th>Review Status</th>\n",
       "      <th>Status Details</th>\n",
       "      <th>Review Source</th>\n",
       "      <th>Review Score</th>\n",
       "      <th>Review Title</th>\n",
       "      <th>Review Content</th>\n",
       "      <th>Sentiment Score</th>\n",
       "      <th>...</th>\n",
       "      <th>Product Handle</th>\n",
       "      <th>Product Group</th>\n",
       "      <th>Product Category</th>\n",
       "      <th>Product UPC</th>\n",
       "      <th>Product SKU</th>\n",
       "      <th>Product Brand</th>\n",
       "      <th>Product MPN</th>\n",
       "      <th>Product ISBN</th>\n",
       "      <th>Incentivized Flag</th>\n",
       "      <th>Metaobject handle</th>\n",
       "    </tr>\n",
       "  </thead>\n",
       "  <tbody>\n",
       "    <tr>\n",
       "      <th>0</th>\n",
       "      <td>620130900</td>\n",
       "      <td>2024-09-09 20:07:00</td>\n",
       "      <td>site_review</td>\n",
       "      <td>Published</td>\n",
       "      <td>NaN</td>\n",
       "      <td>site_review_after_product</td>\n",
       "      <td>5</td>\n",
       "      <td>Great product and as promised</td>\n",
       "      <td>Great product and as promised delivery date. I...</td>\n",
       "      <td>0.991433</td>\n",
       "      <td>...</td>\n",
       "      <td>NaN</td>\n",
       "      <td>NaN</td>\n",
       "      <td>NaN</td>\n",
       "      <td>NaN</td>\n",
       "      <td>NaN</td>\n",
       "      <td>NaN</td>\n",
       "      <td>NaN</td>\n",
       "      <td>NaN</td>\n",
       "      <td>NaN</td>\n",
       "      <td>NaN</td>\n",
       "    </tr>\n",
       "    <tr>\n",
       "      <th>1</th>\n",
       "      <td>620130775</td>\n",
       "      <td>2024-09-09 20:05:00</td>\n",
       "      <td>product_review</td>\n",
       "      <td>Published</td>\n",
       "      <td>NaN</td>\n",
       "      <td>reminder</td>\n",
       "      <td>5</td>\n",
       "      <td>Great clubs and in very</td>\n",
       "      <td>Great clubs and in very good condition at a gr...</td>\n",
       "      <td>0.985991</td>\n",
       "      <td>...</td>\n",
       "      <td>NaN</td>\n",
       "      <td>NaN</td>\n",
       "      <td>NaN</td>\n",
       "      <td>NaN</td>\n",
       "      <td>5-763#</td>\n",
       "      <td>Callaway</td>\n",
       "      <td>NaN</td>\n",
       "      <td>NaN</td>\n",
       "      <td>NaN</td>\n",
       "      <td>NaN</td>\n",
       "    </tr>\n",
       "    <tr>\n",
       "      <th>2</th>\n",
       "      <td>620125988</td>\n",
       "      <td>2024-09-09 19:35:00</td>\n",
       "      <td>product_review</td>\n",
       "      <td>Published</td>\n",
       "      <td>NaN</td>\n",
       "      <td>syndication</td>\n",
       "      <td>5</td>\n",
       "      <td>I love them and they</td>\n",
       "      <td>I love them and they are in great condition</td>\n",
       "      <td>0.979976</td>\n",
       "      <td>...</td>\n",
       "      <td>NaN</td>\n",
       "      <td>NaN</td>\n",
       "      <td>NaN</td>\n",
       "      <td>NaN</td>\n",
       "      <td>NaN</td>\n",
       "      <td>Titleist</td>\n",
       "      <td>NaN</td>\n",
       "      <td>NaN</td>\n",
       "      <td>NaN</td>\n",
       "      <td>NaN</td>\n",
       "    </tr>\n",
       "  </tbody>\n",
       "</table>\n",
       "<p>3 rows × 44 columns</p>\n",
       "</div>"
      ],
      "text/plain": [
       "   Review ID Review Creation Date     Review Type Review Status  \\\n",
       "0  620130900  2024-09-09 20:07:00     site_review     Published   \n",
       "1  620130775  2024-09-09 20:05:00  product_review     Published   \n",
       "2  620125988  2024-09-09 19:35:00  product_review     Published   \n",
       "\n",
       "   Status Details              Review Source  Review Score  \\\n",
       "0             NaN  site_review_after_product             5   \n",
       "1             NaN                   reminder             5   \n",
       "2             NaN                syndication             5   \n",
       "\n",
       "                    Review Title  \\\n",
       "0  Great product and as promised   \n",
       "1        Great clubs and in very   \n",
       "2           I love them and they   \n",
       "\n",
       "                                      Review Content  Sentiment Score  ...  \\\n",
       "0  Great product and as promised delivery date. I...         0.991433  ...   \n",
       "1  Great clubs and in very good condition at a gr...         0.985991  ...   \n",
       "2        I love them and they are in great condition         0.979976  ...   \n",
       "\n",
       "   Product Handle  Product Group Product Category  Product UPC Product SKU  \\\n",
       "0             NaN            NaN              NaN          NaN         NaN   \n",
       "1             NaN            NaN              NaN          NaN      5-763#   \n",
       "2             NaN            NaN              NaN          NaN         NaN   \n",
       "\n",
       "  Product Brand Product MPN  Product ISBN Incentivized Flag  Metaobject handle  \n",
       "0           NaN         NaN           NaN               NaN                NaN  \n",
       "1      Callaway         NaN           NaN               NaN                NaN  \n",
       "2      Titleist         NaN           NaN               NaN                NaN  \n",
       "\n",
       "[3 rows x 44 columns]"
      ]
     },
     "execution_count": 201,
     "metadata": {},
     "output_type": "execute_result"
    }
   ],
   "source": [
    "df_reviews.head(3)"
   ]
  },
  {
   "cell_type": "markdown",
   "id": "ab1753d0-9c3b-42eb-8530-8103789ebd6d",
   "metadata": {},
   "source": [
    "# 1. Who is Laps.com\n",
    "**Market place where people buy and sell or trade their golf clubs and others golfs items**\n",
    "\n",
    "A customer can be both a buyer and seller\n",
    "\n",
    "Do they buy only their branded golfs products they sell, or anyone can come and sell their golfs product even if they haven bought them with the brand?"
   ]
  },
  {
   "cell_type": "markdown",
   "id": "00f12050-1f06-4f9c-af27-780d44a0e66f",
   "metadata": {},
   "source": [
    "To answer this question, lets observe the clients that are both buyers and sellers, if any.\n",
    "\n",
    "The datasets df_customers and df_orders are connected by the id column, where the df_orders details the recordings about the orders from the df_customers.\n",
    "\n",
    "At the same time, the sku column is an indicator that the orders have stock keeping unit (unique identifier of a product).\n",
    "\n",
    "The df_items contains the orders of the buyers, judging by the column with statuses and columns with timestamps for the date of inspection and receipt.\n",
    "\n",
    "The relationship between df_orders and df_items is built on the column customer_id. So lets merge the datasets of sellers an buyers to observe whether "
   ]
  },
  {
   "cell_type": "code",
   "execution_count": 202,
   "id": "9c261426-9e45-4389-8099-25b3f586c2e0",
   "metadata": {},
   "outputs": [],
   "source": [
    "df_customers_orders = pd.merge(df_orders, df_items, on='customer_id', how='inner')"
   ]
  },
  {
   "cell_type": "code",
   "execution_count": 203,
   "id": "f1b2a9d8-9306-4559-babc-5bfce7cae8f0",
   "metadata": {},
   "outputs": [],
   "source": [
    "check_customers = df_customers_orders[['customer_id', 'brand_x', 'brand_y']].groupby(['customer_id', 'brand_x', 'brand_y'], as_index=False).size()\n",
    "check_customers['same_brand'] = check_customers['brand_x'] == check_customers['brand_y']"
   ]
  },
  {
   "cell_type": "code",
   "execution_count": 204,
   "id": "81b06ce7-71fc-4be7-9440-5ad8663e74de",
   "metadata": {},
   "outputs": [
    {
     "data": {
      "text/html": [
       "<div>\n",
       "<style scoped>\n",
       "    .dataframe tbody tr th:only-of-type {\n",
       "        vertical-align: middle;\n",
       "    }\n",
       "\n",
       "    .dataframe tbody tr th {\n",
       "        vertical-align: top;\n",
       "    }\n",
       "\n",
       "    .dataframe thead th {\n",
       "        text-align: right;\n",
       "    }\n",
       "</style>\n",
       "<table border=\"1\" class=\"dataframe\">\n",
       "  <thead>\n",
       "    <tr style=\"text-align: right;\">\n",
       "      <th></th>\n",
       "      <th>customer_id</th>\n",
       "      <th>brand_x</th>\n",
       "      <th>brand_y</th>\n",
       "    </tr>\n",
       "  </thead>\n",
       "  <tbody>\n",
       "    <tr>\n",
       "      <th>127</th>\n",
       "      <td>397347</td>\n",
       "      <td>Footjoy</td>\n",
       "      <td>Ping</td>\n",
       "    </tr>\n",
       "    <tr>\n",
       "      <th>129</th>\n",
       "      <td>416319</td>\n",
       "      <td>Wilson</td>\n",
       "      <td>Mizuno</td>\n",
       "    </tr>\n",
       "    <tr>\n",
       "      <th>139</th>\n",
       "      <td>265955</td>\n",
       "      <td>TaylorMade</td>\n",
       "      <td>Cleveland</td>\n",
       "    </tr>\n",
       "    <tr>\n",
       "      <th>141</th>\n",
       "      <td>265955</td>\n",
       "      <td>TaylorMade</td>\n",
       "      <td>Nike</td>\n",
       "    </tr>\n",
       "    <tr>\n",
       "      <th>142</th>\n",
       "      <td>265955</td>\n",
       "      <td>TaylorMade</td>\n",
       "      <td>Cobra</td>\n",
       "    </tr>\n",
       "    <tr>\n",
       "      <th>...</th>\n",
       "      <td>...</td>\n",
       "      <td>...</td>\n",
       "      <td>...</td>\n",
       "    </tr>\n",
       "    <tr>\n",
       "      <th>551685</th>\n",
       "      <td>1198330</td>\n",
       "      <td>Ping</td>\n",
       "      <td>PXG</td>\n",
       "    </tr>\n",
       "    <tr>\n",
       "      <th>551686</th>\n",
       "      <td>1198330</td>\n",
       "      <td>Ping</td>\n",
       "      <td>Tour Edge</td>\n",
       "    </tr>\n",
       "    <tr>\n",
       "      <th>551687</th>\n",
       "      <td>431862</td>\n",
       "      <td>TaylorMade</td>\n",
       "      <td>Ping</td>\n",
       "    </tr>\n",
       "    <tr>\n",
       "      <th>551688</th>\n",
       "      <td>1198371</td>\n",
       "      <td>Ping</td>\n",
       "      <td>TaylorMade</td>\n",
       "    </tr>\n",
       "    <tr>\n",
       "      <th>551768</th>\n",
       "      <td>439028</td>\n",
       "      <td>Ping</td>\n",
       "      <td>TaylorMade</td>\n",
       "    </tr>\n",
       "  </tbody>\n",
       "</table>\n",
       "<p>9101 rows × 3 columns</p>\n",
       "</div>"
      ],
      "text/plain": [
       "        customer_id     brand_x     brand_y\n",
       "127          397347     Footjoy        Ping\n",
       "129          416319      Wilson      Mizuno\n",
       "139          265955  TaylorMade   Cleveland\n",
       "141          265955  TaylorMade        Nike\n",
       "142          265955  TaylorMade       Cobra\n",
       "...             ...         ...         ...\n",
       "551685      1198330        Ping         PXG\n",
       "551686      1198330        Ping   Tour Edge\n",
       "551687       431862  TaylorMade        Ping\n",
       "551688      1198371        Ping  TaylorMade\n",
       "551768       439028        Ping  TaylorMade\n",
       "\n",
       "[9101 rows x 3 columns]"
      ]
     },
     "execution_count": 204,
     "metadata": {},
     "output_type": "execute_result"
    }
   ],
   "source": [
    "customers_with_no_true = check_customers.groupby('customer_id')['same_brand'].apply(lambda x: all(x == False))\n",
    "\n",
    "customers_with_no_true_ids = customers_with_no_true[customers_with_no_true].index\n",
    "\n",
    "df_filtered = df_customers_orders[df_customers_orders['customer_id'].isin(customers_with_no_true_ids)]\n",
    "\n",
    "brand_combinations = df_filtered[['customer_id', 'brand_x', 'brand_y']].drop_duplicates()\n",
    "brand_combinations"
   ]
  },
  {
   "cell_type": "code",
   "execution_count": 205,
   "id": "d3b93ce0-9ed8-44e9-bd8e-72a01ad2b835",
   "metadata": {},
   "outputs": [],
   "source": [
    "# Count unique customers in Dataset 1\n",
    "unique_customers_df1 = df_orders['customer_id'].nunique()\n",
    "\n",
    "# Count unique customers in Dataset 2\n",
    "unique_customers_df2 = df_items['customer_id'].nunique()\n",
    "\n",
    "unique_customers_intersection = df_customers_orders['customer_id'].nunique()"
   ]
  },
  {
   "cell_type": "code",
   "execution_count": 206,
   "id": "77af370c-329c-4a06-b76e-bd502c967637",
   "metadata": {},
   "outputs": [
    {
     "name": "stderr",
     "output_type": "stream",
     "text": [
      "C:\\Users\\user\\AppData\\Local\\Temp\\ipykernel_11044\\1837623678.py:8: FutureWarning: \n",
      "\n",
      "Passing `palette` without assigning `hue` is deprecated and will be removed in v0.14.0. Assign the `x` variable to `hue` and set `legend=False` for the same effect.\n",
      "\n",
      "  sns.barplot(x=list(customer_counts.keys()), y=list(customer_counts.values()), palette=\"Set2\")\n"
     ]
    },
    {
     "data": {
      "image/png": "[encoded data removed]",
      "text/plain": [
       "<Figure size 500x500 with 1 Axes>"
      ]
     },
     "metadata": {},
     "output_type": "display_data"
    }
   ],
   "source": [
    "customer_counts = {\n",
    "    'Sellers': unique_customers_df1,\n",
    "    'Buyers': unique_customers_df2,\n",
    "    'Both': unique_customers_intersection\n",
    "}\n",
    "\n",
    "plt.figure(figsize=(5, 5))\n",
    "sns.barplot(x=list(customer_counts.keys()), y=list(customer_counts.values()), palette=\"Set2\")\n",
    "\n",
    "# Customize plot\n",
    "plt.title(\"Types of customers\")\n",
    "plt.ylabel(\"Number of Customers\")\n",
    "plt.xlabel(\"Customer Type\")\n",
    "plt.savefig('unique_customers.png', dpi=300, bbox_inches='tight')  # Save as PNG file\n",
    "plt.show()  # Display the plot"
   ]
  },
  {
   "cell_type": "markdown",
   "id": "e85b73e0-df3f-4754-b477-745c6295daf6",
   "metadata": {},
   "source": [
    "Seemingly, some customers can sell the brands without previously buying any products with the same brand."
   ]
  },
  {
   "cell_type": "markdown",
   "id": "5ae7065e-23cc-4618-aeef-f53ae8304aec",
   "metadata": {},
   "source": [
    "# 2. We have .com and .co.uk  site \n",
    "**Are we getting both datasets**"
   ]
  },
  {
   "cell_type": "code",
   "execution_count": 207,
   "id": "7c85df6b-39fa-4240-9f80-b6338fbabf93",
   "metadata": {},
   "outputs": [
    {
     "data": {
      "text/plain": [
       "array(['CAD', 'USD'], dtype=object)"
      ]
     },
     "execution_count": 207,
     "metadata": {},
     "output_type": "execute_result"
    }
   ],
   "source": [
    "df_items.currency.unique()"
   ]
  },
  {
   "cell_type": "code",
   "execution_count": 208,
   "id": "76efa30a-8658-40d8-8db7-c70fc9a1747f",
   "metadata": {},
   "outputs": [
    {
     "data": {
      "text/plain": [
       "array(['CAD', 'USD'], dtype=object)"
      ]
     },
     "execution_count": 208,
     "metadata": {},
     "output_type": "execute_result"
    }
   ],
   "source": [
    "df_orders.currency.unique()"
   ]
  },
  {
   "cell_type": "markdown",
   "id": "1cccb71b-dfff-4f40-a059-778d5377586b",
   "metadata": {},
   "source": [
    "We cannot see the GBP code there, so we don't have the data from co.uk site, offering the prices in local currency."
   ]
  },
  {
   "cell_type": "markdown",
   "id": "65661d72-4fae-4cc4-8cd2-fc3ee45a8cd2",
   "metadata": {},
   "source": [
    "# 3. What is the customer lifetime span?"
   ]
  },
  {
   "cell_type": "code",
   "execution_count": 209,
   "id": "85f452df-beb7-4084-9e79-d3bb67c57f22",
   "metadata": {
    "scrolled": true
   },
   "outputs": [
    {
     "name": "stdout",
     "output_type": "stream",
     "text": [
      "Average customer lifetime span among sellers and buyers is 1 year\n"
     ]
    }
   ],
   "source": [
    "# Group by customer_id and calculate first and last purchase dates for orders\n",
    "df_orders_clv = df_orders.groupby('customer_id', as_index=False)['created_at'].agg(\n",
    "    first_purchase_date='min',\n",
    "    last_purchase_date='max'\n",
    ")\n",
    "\n",
    "# Group by customer_id and calculate first and last purchase dates for items\n",
    "df_items_clv = df_items.groupby('customer_id', as_index=False)['created_at'].agg(\n",
    "    first_purchase_date='min',\n",
    "    last_purchase_date='max'\n",
    ")\n",
    "\n",
    "# Merge the two DataFrames on customer_id\n",
    "df_clv_combined = pd.merge(df_orders_clv, df_items_clv, on='customer_id', suffixes=('_orders', '_items'))\n",
    "\n",
    "# Calculate the overall first and last purchase dates for CLV calculation\n",
    "df_clv_combined['overall_first_purchase_date'] = df_clv_combined[['first_purchase_date_orders', 'first_purchase_date_items']].min(axis=1)\n",
    "df_clv_combined['overall_last_purchase_date'] = df_clv_combined[['last_purchase_date_orders', 'last_purchase_date_items']].max(axis=1)\n",
    "\n",
    "# Calculate CLV in days\n",
    "df_clv_combined['clv_days'] = (df_clv_combined['overall_last_purchase_date'] - df_clv_combined['overall_first_purchase_date']).dt.days / 365\n",
    "\n",
    "print(f'Average customer lifetime span among sellers and buyers is {round(df_clv_combined.clv_days.mean())} year')"
   ]
  },
  {
   "cell_type": "markdown",
   "id": "66eb5ac3-e655-44ad-8642-404b23300a36",
   "metadata": {},
   "source": [
    "# 4. NPS Score is in the range of 70, which is quite good "
   ]
  },
  {
   "cell_type": "markdown",
   "id": "d6f021e3-19bb-4866-b0bc-fe6ccc63b848",
   "metadata": {},
   "source": [
    "**Need to  investigate the product review and their sentiment**"
   ]
  },
  {
   "cell_type": "code",
   "execution_count": 210,
   "id": "fa310f0d-7be9-4b4b-9abd-25f3b55a4d37",
   "metadata": {},
   "outputs": [
    {
     "name": "stdout",
     "output_type": "stream",
     "text": [
      "<class 'pandas.core.frame.DataFrame'>\n",
      "RangeIndex: 10693 entries, 0 to 10692\n",
      "Data columns (total 44 columns):\n",
      " #   Column                  Non-Null Count  Dtype         \n",
      "---  ------                  --------------  -----         \n",
      " 0   Review ID               10693 non-null  int64         \n",
      " 1   Review Creation Date    10693 non-null  datetime64[ns]\n",
      " 2   Review Type             10693 non-null  object        \n",
      " 3   Review Status           10693 non-null  object        \n",
      " 4   Status Details          0 non-null      float64       \n",
      " 5   Review Source           10693 non-null  object        \n",
      " 6   Review Score            10693 non-null  int64         \n",
      " 7   Review Title            10691 non-null  object        \n",
      " 8   Review Content          10691 non-null  object        \n",
      " 9   Sentiment Score         10687 non-null  float64       \n",
      " 10  Profanity Flag          45 non-null     float64       \n",
      " 11  Published Image URLs    0 non-null      float64       \n",
      " 12  Unpublished Image URLs  139 non-null    object        \n",
      " 13  Published Video URLs    0 non-null      float64       \n",
      " 14  Unpublished Video URLs  6 non-null      object        \n",
      " 15  Comment Date            3 non-null      object        \n",
      " 16  Comment Content         3 non-null      object        \n",
      " 17  Comment Public          3 non-null      float64       \n",
      " 18  Review Tags             3 non-null      object        \n",
      " 19  Thumbs Up               10693 non-null  int64         \n",
      " 20  Thumbs Down             10693 non-null  int64         \n",
      " 21  Order ID                5941 non-null   float64       \n",
      " 22  Order Date              5941 non-null   datetime64[ns]\n",
      " 23  Pushed to Social        1 non-null      object        \n",
      " 24  Reviewer Display Name   10693 non-null  object        \n",
      " 25  Reviewer Email          10693 non-null  object        \n",
      " 26  Reviewer Type           10693 non-null  object        \n",
      " 27  Reviewer Country        6104 non-null   object        \n",
      " 28  Reviewer Device Type    6105 non-null   object        \n",
      " 29  Product ID              10693 non-null  object        \n",
      " 30  Product Title           10693 non-null  object        \n",
      " 31  Product Description     5161 non-null   object        \n",
      " 32  Product URL             5161 non-null   object        \n",
      " 33  Product Image URL       5138 non-null   object        \n",
      " 34  Product Handle          0 non-null      float64       \n",
      " 35  Product Group           0 non-null      float64       \n",
      " 36  Product Category        0 non-null      float64       \n",
      " 37  Product UPC             0 non-null      float64       \n",
      " 38  Product SKU             2721 non-null   object        \n",
      " 39  Product Brand           5159 non-null   object        \n",
      " 40  Product MPN             0 non-null      float64       \n",
      " 41  Product ISBN            0 non-null      float64       \n",
      " 42  Incentivized Flag       0 non-null      float64       \n",
      " 43  Metaobject handle       0 non-null      float64       \n",
      "dtypes: datetime64[ns](2), float64(15), int64(4), object(23)\n",
      "memory usage: 3.6+ MB\n"
     ]
    }
   ],
   "source": [
    "df_reviews.info()"
   ]
  },
  {
   "cell_type": "code",
   "execution_count": 211,
   "id": "be045409-c955-459c-a63e-55f69c6b4bc6",
   "metadata": {},
   "outputs": [],
   "source": [
    "df_product_reviews = df_reviews[df_reviews['Review Type'] == 'product_review']"
   ]
  },
  {
   "cell_type": "code",
   "execution_count": 212,
   "id": "155c5343-f4ae-4de3-b594-49e438259ad4",
   "metadata": {},
   "outputs": [
    {
     "name": "stderr",
     "output_type": "stream",
     "text": [
      "C:\\Users\\user\\AppData\\Local\\Temp\\ipykernel_11044\\3263006893.py:5: SettingWithCopyWarning: \n",
      "A value is trying to be set on a copy of a slice from a DataFrame.\n",
      "Try using .loc[row_indexer,col_indexer] = value instead\n",
      "\n",
      "See the caveats in the documentation: https://pandas.pydata.org/pandas-docs/stable/user_guide/indexing.html#returning-a-view-versus-a-copy\n",
      "  df_product_reviews['Sentiment Category'] = pd.cut(df_product_reviews['Sentiment Score'], bins=bins, labels=labels)\n"
     ]
    }
   ],
   "source": [
    "bins = [-float('inf'), 0, 0.5, float('inf')]  # Bins for Negative, Neutral, Positive\n",
    "labels = ['Negative', 'Neutral', 'Positive']  # Corresponding labels\n",
    "\n",
    "# Categorize sentiment scores\n",
    "df_product_reviews['Sentiment Category'] = pd.cut(df_product_reviews['Sentiment Score'], bins=bins, labels=labels)"
   ]
  },
  {
   "cell_type": "code",
   "execution_count": 213,
   "id": "9f166338-fdb0-4ecd-9880-aa6ee2469101",
   "metadata": {},
   "outputs": [
    {
     "name": "stderr",
     "output_type": "stream",
     "text": [
      "C:\\Users\\user\\AppData\\Local\\Temp\\ipykernel_11044\\2677834134.py:1: FutureWarning: The default of observed=False is deprecated and will be changed to True in a future version of pandas. Pass observed=False to retain current behavior or observed=True to adopt the future default and silence this warning.\n",
      "  df_review_sentiment_scores = df_product_reviews.groupby('Sentiment Category', as_index=False).agg(count_of_reviews=('Review ID', 'count'))\n"
     ]
    },
    {
     "data": {
      "text/html": [
       "<div>\n",
       "<style scoped>\n",
       "    .dataframe tbody tr th:only-of-type {\n",
       "        vertical-align: middle;\n",
       "    }\n",
       "\n",
       "    .dataframe tbody tr th {\n",
       "        vertical-align: top;\n",
       "    }\n",
       "\n",
       "    .dataframe thead th {\n",
       "        text-align: right;\n",
       "    }\n",
       "</style>\n",
       "<table border=\"1\" class=\"dataframe\">\n",
       "  <thead>\n",
       "    <tr style=\"text-align: right;\">\n",
       "      <th></th>\n",
       "      <th>Sentiment Category</th>\n",
       "      <th>count_of_reviews</th>\n",
       "    </tr>\n",
       "  </thead>\n",
       "  <tbody>\n",
       "    <tr>\n",
       "      <th>0</th>\n",
       "      <td>Negative</td>\n",
       "      <td>27</td>\n",
       "    </tr>\n",
       "    <tr>\n",
       "      <th>1</th>\n",
       "      <td>Neutral</td>\n",
       "      <td>433</td>\n",
       "    </tr>\n",
       "    <tr>\n",
       "      <th>2</th>\n",
       "      <td>Positive</td>\n",
       "      <td>4698</td>\n",
       "    </tr>\n",
       "  </tbody>\n",
       "</table>\n",
       "</div>"
      ],
      "text/plain": [
       "  Sentiment Category  count_of_reviews\n",
       "0           Negative                27\n",
       "1            Neutral               433\n",
       "2           Positive              4698"
      ]
     },
     "execution_count": 213,
     "metadata": {},
     "output_type": "execute_result"
    }
   ],
   "source": [
    "df_review_sentiment_scores = df_product_reviews.groupby('Sentiment Category', as_index=False).agg(count_of_reviews=('Review ID', 'count'))\n",
    "df_review_sentiment_scores"
   ]
  },
  {
   "cell_type": "code",
   "execution_count": 214,
   "id": "4a930972-f550-4548-a88a-2c28a43af775",
   "metadata": {},
   "outputs": [
    {
     "data": {
      "image/png": "[encoded data removed]",
      "text/plain": [
       "<Figure size 600x600 with 3 Axes>"
      ]
     },
     "metadata": {},
     "output_type": "display_data"
    }
   ],
   "source": [
    "sns.jointplot(df_reviews['Sentiment Score'])\n",
    "plt.savefig('sentiment scores distribution.png', dpi=300, bbox_inches='tight')"
   ]
  },
  {
   "cell_type": "code",
   "execution_count": 215,
   "id": "832f4af7-18da-4d7b-a75d-1ae3635691b5",
   "metadata": {},
   "outputs": [
    {
     "data": {
      "image/png": "[encoded data removed]",
      "text/plain": [
       "<Figure size 640x480 with 1 Axes>"
      ]
     },
     "metadata": {},
     "output_type": "display_data"
    }
   ],
   "source": [
    "sns.barplot(data=df_review_sentiment_scores, x='Sentiment Category', y='count_of_reviews')\n",
    "plt.savefig('count of sent scores by categories.png', dpi=300, bbox_inches='tight')"
   ]
  },
  {
   "cell_type": "markdown",
   "id": "bddb9aa2-e282-408f-a3f5-31c35302e504",
   "metadata": {},
   "source": [
    "**What impact does a posive or negative review as on Sales or product sales**"
   ]
  },
  {
   "cell_type": "markdown",
   "id": "6bae1c46-814f-419b-826e-701ed54f7e37",
   "metadata": {},
   "source": [
    "To answer this question, we must be able to have common Order ID for the Dataset with Reviews and sold products to be able to precisely estimate the effect. \n",
    "\n",
    "However, we are enable to define the effect because of the missmatching IDs of Orders, leading to the inability to identify the specific entities."
   ]
  },
  {
   "cell_type": "markdown",
   "id": "1e18c0d6-b9cc-46d0-b50d-5c4b7ff31cb1",
   "metadata": {},
   "source": [
    "## 5. Total Customers around 1 M; however repeated rate is only 25% "
   ]
  },
  {
   "cell_type": "markdown",
   "id": "165edf26-8e6f-477d-90db-64bb512c549b",
   "metadata": {},
   "source": [
    "**Is that good for a company with such product lifespan ?**"
   ]
  },
  {
   "cell_type": "markdown",
   "id": "979037af-3c7c-494f-ae8f-1adfe8b98f43",
   "metadata": {},
   "source": [
    "We can calcualte Customer Lifetime Value (CLV) to answer this question. To do so we need to know Average Order Value (AOV)"
   ]
  },
  {
   "cell_type": "code",
   "execution_count": 216,
   "id": "49297883-2f59-440c-bab4-b0bae1716317",
   "metadata": {},
   "outputs": [],
   "source": [
    "conversion_rate = 0.75  # 1 CAD = 0.75 USD (you can update this to the current rate)\n",
    "\n",
    "# Create a new column with totals converted to USD\n",
    "df_items['total_in_usd'] = df_items.apply(lambda row: row['total'] * conversion_rate if row['currency'] == 'CAD' else row['total'], axis=1)"
   ]
  },
  {
   "cell_type": "code",
   "execution_count": 217,
   "id": "6ab20819-0842-42fb-bffe-b6023181914b",
   "metadata": {},
   "outputs": [
    {
     "data": {
      "text/plain": [
       "93.75"
      ]
     },
     "execution_count": 217,
     "metadata": {},
     "output_type": "execute_result"
    }
   ],
   "source": [
    "aov = df_items.total.median()\n",
    "aov = float(aov)\n",
    "aov"
   ]
  },
  {
   "cell_type": "code",
   "execution_count": 218,
   "id": "62d0675d-8e7e-445e-b364-068d64121817",
   "metadata": {},
   "outputs": [
    {
     "name": "stdout",
     "output_type": "stream",
     "text": [
      "CLV is 23.44. We need to compare it to Customer Aquisition Costs (CAC) to say whether we earn money from orders or spend more time on promotion.\n"
     ]
    }
   ],
   "source": [
    "clv = round(aov * 0.25 * 1, 2)\n",
    "print(f'CLV is {clv}. We need to compare it to Customer Aquisition Costs (CAC) to say whether we earn money from orders or spend more time on promotion.')"
   ]
  },
  {
   "cell_type": "markdown",
   "id": "88234d54-6758-43bf-947a-0b2037faa408",
   "metadata": {},
   "source": [
    "We can also evaluate projected revenue with the following calcualtions"
   ]
  },
  {
   "cell_type": "code",
   "execution_count": 219,
   "id": "465a78ea-100a-4cb7-b5a8-65debf097d91",
   "metadata": {},
   "outputs": [],
   "source": [
    "total_expected_revenue = 1000000 * clv"
   ]
  },
  {
   "cell_type": "code",
   "execution_count": 220,
   "id": "501dfa50-905d-4381-8693-480f0dfc22ed",
   "metadata": {},
   "outputs": [
    {
     "name": "stdout",
     "output_type": "stream",
     "text": [
      "The Total Expected Revenue of the project is at least 23440000.0\n"
     ]
    }
   ],
   "source": [
    "print(f'The Total Expected Revenue of the project is at least {total_expected_revenue}')"
   ]
  },
  {
   "cell_type": "markdown",
   "id": "3f3e7211-59e7-4b9a-8166-f8e3c750e088",
   "metadata": {},
   "source": [
    "## 6. So from the date of purchase to the date of your golf club lifespan users buy what ?"
   ]
  },
  {
   "cell_type": "code",
   "execution_count": 221,
   "id": "c0b82f42-a5ab-4c3e-bde8-7a69c61247db",
   "metadata": {},
   "outputs": [
    {
     "name": "stderr",
     "output_type": "stream",
     "text": [
      "C:\\Users\\user\\AppData\\Local\\Temp\\ipykernel_11044\\3273739942.py:11: SettingWithCopyWarning: \n",
      "A value is trying to be set on a copy of a slice from a DataFrame.\n",
      "Try using .loc[row_indexer,col_indexer] = value instead\n",
      "\n",
      "See the caveats in the documentation: https://pandas.pydata.org/pandas-docs/stable/user_guide/indexing.html#returning-a-view-versus-a-copy\n",
      "  df_purchases['min_lifespan_days'] = df_purchases['product_type'].map(lifespan_mapping) * 365\n"
     ]
    }
   ],
   "source": [
    "lifespan_mapping = {\n",
    "    'Driver': 3,\n",
    "    'Iron Set': 5,\n",
    "    'Putter': 5,\n",
    "    'Fairway Wood': 5,\n",
    "    'Wedge': 5,\n",
    "    'Hybrid': 5,\n",
    "    'Club Set': 5\n",
    "}\n",
    "df_purchases = df_items[df_items.status == 'Accepted']\n",
    "df_purchases['min_lifespan_days'] = df_purchases['product_type'].map(lifespan_mapping) * 365\n",
    "\n",
    "# Get the first purchase date for each customer\n",
    "first_purchase_dates = df_purchases.sort_values('created_at').groupby('customer_id').first().reset_index()\n",
    "first_purchase_dates = first_purchase_dates[['customer_id', 'created_at', 'product_type']]\n",
    "first_purchase_dates.columns = ['customer_id', 'first_purchase_date', 'first_product_type']\n",
    "\n",
    "# Merge first purchase dates with original data\n",
    "df_merged = pd.merge(df_purchases, first_purchase_dates, on='customer_id')\n",
    "\n",
    "# Filter purchases within the minimum lifespan after the first purchase\n",
    "df_merged['within_lifespan'] = (df_merged['created_at'] >= df_merged['first_purchase_date']) & \\\n",
    "                                (df_merged['created_at'] <= df_merged['first_purchase_date'] + pd.to_timedelta(df_merged['min_lifespan_days'], unit='d'))\n",
    "\n",
    "# Collect subsequent purchases in a list\n",
    "subsequent_purchases = df_merged[df_merged['within_lifespan']].groupby('customer_id')['product_type'].apply(list).reset_index()\n",
    "subsequent_purchases.columns = ['customer_id', 'subsequent_purchases']\n",
    "\n",
    "# Merge the subsequent purchases back to the original DataFrame\n",
    "df_final = pd.merge(first_purchase_dates, subsequent_purchases, on='customer_id', how='left')\n",
    "\n",
    "# Fill NaN with empty lists\n",
    "df_final['subsequent_purchases'] = df_final['subsequent_purchases'].apply(lambda x: x if isinstance(x, list) else [])"
   ]
  },
  {
   "cell_type": "code",
   "execution_count": 222,
   "id": "e6a77ee8-1324-4b20-bba7-74e29f68bbac",
   "metadata": {},
   "outputs": [
    {
     "data": {
      "text/html": [
       "<div>\n",
       "<style scoped>\n",
       "    .dataframe tbody tr th:only-of-type {\n",
       "        vertical-align: middle;\n",
       "    }\n",
       "\n",
       "    .dataframe tbody tr th {\n",
       "        vertical-align: top;\n",
       "    }\n",
       "\n",
       "    .dataframe thead th {\n",
       "        text-align: right;\n",
       "    }\n",
       "</style>\n",
       "<table border=\"1\" class=\"dataframe\">\n",
       "  <thead>\n",
       "    <tr style=\"text-align: right;\">\n",
       "      <th></th>\n",
       "      <th>customer_id</th>\n",
       "      <th>first_purchase_date</th>\n",
       "      <th>first_product_type</th>\n",
       "      <th>subsequent_purchases</th>\n",
       "    </tr>\n",
       "  </thead>\n",
       "  <tbody>\n",
       "    <tr>\n",
       "      <th>0</th>\n",
       "      <td>7</td>\n",
       "      <td>2023-12-14 16:30:00</td>\n",
       "      <td>Driver</td>\n",
       "      <td>[Wedge, Wedge, Wedge, Driver, Hybrid, Wedge, W...</td>\n",
       "    </tr>\n",
       "    <tr>\n",
       "      <th>1</th>\n",
       "      <td>8</td>\n",
       "      <td>2024-04-04 19:05:00</td>\n",
       "      <td>Hybrid</td>\n",
       "      <td>[Fairway Wood, Putter, Hybrid, Hybrid, Hybrid,...</td>\n",
       "    </tr>\n",
       "    <tr>\n",
       "      <th>2</th>\n",
       "      <td>9</td>\n",
       "      <td>2024-06-27 20:20:00</td>\n",
       "      <td>Fairway Wood</td>\n",
       "      <td>[Driver, Driver, Fairway Wood, Driver, Driver,...</td>\n",
       "    </tr>\n",
       "    <tr>\n",
       "      <th>3</th>\n",
       "      <td>85</td>\n",
       "      <td>2021-12-22 22:00:00</td>\n",
       "      <td>Fairway Wood</td>\n",
       "      <td>[Fairway Wood, Driver, Iron Set, Fairway Wood,...</td>\n",
       "    </tr>\n",
       "    <tr>\n",
       "      <th>4</th>\n",
       "      <td>2253</td>\n",
       "      <td>2021-10-12 15:30:00</td>\n",
       "      <td>Driver</td>\n",
       "      <td>[Driver, Putter, Driver, Driver, Driver, Drive...</td>\n",
       "    </tr>\n",
       "    <tr>\n",
       "      <th>...</th>\n",
       "      <td>...</td>\n",
       "      <td>...</td>\n",
       "      <td>...</td>\n",
       "      <td>...</td>\n",
       "    </tr>\n",
       "    <tr>\n",
       "      <th>11486</th>\n",
       "      <td>1193839</td>\n",
       "      <td>2024-09-02 17:40:00</td>\n",
       "      <td>Iron Set</td>\n",
       "      <td>[Wedge, Wedge, Driver, Fairway Wood, Iron Set,...</td>\n",
       "    </tr>\n",
       "    <tr>\n",
       "      <th>11487</th>\n",
       "      <td>1194013</td>\n",
       "      <td>2024-09-02 22:35:00</td>\n",
       "      <td>Driver</td>\n",
       "      <td>[Driver, Driver]</td>\n",
       "    </tr>\n",
       "    <tr>\n",
       "      <th>11488</th>\n",
       "      <td>1194202</td>\n",
       "      <td>2024-09-03 15:00:00</td>\n",
       "      <td>Fairway Wood</td>\n",
       "      <td>[Fairway Wood]</td>\n",
       "    </tr>\n",
       "    <tr>\n",
       "      <th>11489</th>\n",
       "      <td>1194786</td>\n",
       "      <td>2024-09-04 12:25:00</td>\n",
       "      <td>Putter</td>\n",
       "      <td>[Putter]</td>\n",
       "    </tr>\n",
       "    <tr>\n",
       "      <th>11490</th>\n",
       "      <td>1194879</td>\n",
       "      <td>2024-09-10 13:15:00</td>\n",
       "      <td>Wedge</td>\n",
       "      <td>[Wedge, Iron Set, Iron Set, Iron Set, Iron Set...</td>\n",
       "    </tr>\n",
       "  </tbody>\n",
       "</table>\n",
       "<p>11491 rows × 4 columns</p>\n",
       "</div>"
      ],
      "text/plain": [
       "       customer_id first_purchase_date first_product_type  \\\n",
       "0                7 2023-12-14 16:30:00             Driver   \n",
       "1                8 2024-04-04 19:05:00             Hybrid   \n",
       "2                9 2024-06-27 20:20:00       Fairway Wood   \n",
       "3               85 2021-12-22 22:00:00       Fairway Wood   \n",
       "4             2253 2021-10-12 15:30:00             Driver   \n",
       "...            ...                 ...                ...   \n",
       "11486      1193839 2024-09-02 17:40:00           Iron Set   \n",
       "11487      1194013 2024-09-02 22:35:00             Driver   \n",
       "11488      1194202 2024-09-03 15:00:00       Fairway Wood   \n",
       "11489      1194786 2024-09-04 12:25:00             Putter   \n",
       "11490      1194879 2024-09-10 13:15:00              Wedge   \n",
       "\n",
       "                                    subsequent_purchases  \n",
       "0      [Wedge, Wedge, Wedge, Driver, Hybrid, Wedge, W...  \n",
       "1      [Fairway Wood, Putter, Hybrid, Hybrid, Hybrid,...  \n",
       "2      [Driver, Driver, Fairway Wood, Driver, Driver,...  \n",
       "3      [Fairway Wood, Driver, Iron Set, Fairway Wood,...  \n",
       "4      [Driver, Putter, Driver, Driver, Driver, Drive...  \n",
       "...                                                  ...  \n",
       "11486  [Wedge, Wedge, Driver, Fairway Wood, Iron Set,...  \n",
       "11487                                   [Driver, Driver]  \n",
       "11488                                     [Fairway Wood]  \n",
       "11489                                           [Putter]  \n",
       "11490  [Wedge, Iron Set, Iron Set, Iron Set, Iron Set...  \n",
       "\n",
       "[11491 rows x 4 columns]"
      ]
     },
     "execution_count": 222,
     "metadata": {},
     "output_type": "execute_result"
    }
   ],
   "source": [
    "df_final"
   ]
  },
  {
   "cell_type": "code",
   "execution_count": 223,
   "id": "74ac2464-9c7b-4707-8acd-b996b94e7275",
   "metadata": {},
   "outputs": [],
   "source": [
    "# Function to find the most popular post-sale product for each first product type\n",
    "def most_popular_subsequent(df):\n",
    "    # Group by the first product type\n",
    "    grouped = df.groupby('first_product_type')['subsequent_purchases'].apply(list).reset_index()\n",
    "\n",
    "    # Initialize a list to store the most popular product for each type\n",
    "    popular_products = []\n",
    "\n",
    "    for _, row in grouped.iterrows():\n",
    "        # Flatten the list of subsequent purchases for each first product type\n",
    "        flat_list = [item for sublist in row['subsequent_purchases'] for item in sublist]\n",
    "        if flat_list:  # If there are any subsequent purchases\n",
    "            # Count occurrences of each product and find the most common one\n",
    "            most_common_product = Counter(flat_list).most_common(1)[0][0]\n",
    "        else:\n",
    "            most_common_product = None  # No subsequent purchases\n",
    "\n",
    "        popular_products.append({\n",
    "            'first_product_type': row['first_product_type'],\n",
    "            'most_popular_post_sale': most_common_product\n",
    "        })\n",
    "\n",
    "    return pd.DataFrame(popular_products)\n",
    "\n",
    "# Get the most popular post-sale products for each first product type\n",
    "popular_products_df = most_popular_subsequent(df_final)"
   ]
  },
  {
   "cell_type": "code",
   "execution_count": 224,
   "id": "7a1891fc-3f01-4cec-8c92-88244ac36dc5",
   "metadata": {},
   "outputs": [
    {
     "data": {
      "text/html": [
       "<div>\n",
       "<style scoped>\n",
       "    .dataframe tbody tr th:only-of-type {\n",
       "        vertical-align: middle;\n",
       "    }\n",
       "\n",
       "    .dataframe tbody tr th {\n",
       "        vertical-align: top;\n",
       "    }\n",
       "\n",
       "    .dataframe thead th {\n",
       "        text-align: right;\n",
       "    }\n",
       "</style>\n",
       "<table border=\"1\" class=\"dataframe\">\n",
       "  <thead>\n",
       "    <tr style=\"text-align: right;\">\n",
       "      <th></th>\n",
       "      <th>first_product_type</th>\n",
       "      <th>most_popular_post_sale</th>\n",
       "    </tr>\n",
       "  </thead>\n",
       "  <tbody>\n",
       "    <tr>\n",
       "      <th>0</th>\n",
       "      <td>Club Set</td>\n",
       "      <td>Fairway Wood</td>\n",
       "    </tr>\n",
       "    <tr>\n",
       "      <th>1</th>\n",
       "      <td>Driver</td>\n",
       "      <td>Driver</td>\n",
       "    </tr>\n",
       "    <tr>\n",
       "      <th>2</th>\n",
       "      <td>Fairway Wood</td>\n",
       "      <td>Fairway Wood</td>\n",
       "    </tr>\n",
       "    <tr>\n",
       "      <th>3</th>\n",
       "      <td>Hybrid</td>\n",
       "      <td>Hybrid</td>\n",
       "    </tr>\n",
       "    <tr>\n",
       "      <th>4</th>\n",
       "      <td>Iron Set</td>\n",
       "      <td>Iron Set</td>\n",
       "    </tr>\n",
       "    <tr>\n",
       "      <th>5</th>\n",
       "      <td>Putter</td>\n",
       "      <td>Driver</td>\n",
       "    </tr>\n",
       "    <tr>\n",
       "      <th>6</th>\n",
       "      <td>Wedge</td>\n",
       "      <td>Wedge</td>\n",
       "    </tr>\n",
       "  </tbody>\n",
       "</table>\n",
       "</div>"
      ],
      "text/plain": [
       "  first_product_type most_popular_post_sale\n",
       "0           Club Set           Fairway Wood\n",
       "1             Driver                 Driver\n",
       "2       Fairway Wood           Fairway Wood\n",
       "3             Hybrid                 Hybrid\n",
       "4           Iron Set               Iron Set\n",
       "5             Putter                 Driver\n",
       "6              Wedge                  Wedge"
      ]
     },
     "execution_count": 224,
     "metadata": {},
     "output_type": "execute_result"
    }
   ],
   "source": [
    "popular_products_df"
   ]
  },
  {
   "cell_type": "markdown",
   "id": "500ae43b-c4ff-489e-ba0f-dc73303648ec",
   "metadata": {},
   "source": [
    "**What are they golf balls, bags**"
   ]
  },
  {
   "cell_type": "markdown",
   "id": "321a77f1-b46b-48d4-98c9-8087f9f1f359",
   "metadata": {},
   "source": [
    "According to Google, the average lifespan for golf balls is 1-2 months, while for bags its about 8 years."
   ]
  },
  {
   "cell_type": "markdown",
   "id": "792b0c63-cec7-4ed9-ab13-827801c42b97",
   "metadata": {},
   "source": [
    "**How do the brand keep intouch with it client during that 2-4 years ? Any campaign, what tool, get we get some campaign history ?**"
   ]
  },
  {
   "cell_type": "markdown",
   "id": "420645d4-32b6-446a-9fc8-a0bcac311cc6",
   "metadata": {},
   "source": [
    "The data itself give no extensive answer to this question. However the brand collects and studies the reviews of from the different sources to estimate the satisfaction rate of the clients.\n",
    "\n",
    "We don't have the campaign history itself. However, utilizing Google Tag Manager and Google Analytics 4 will help to study and adapt to the behavior of the site or app users. The tools also enable the companies to evaluate and optimize the efficiency of the campaigns."
   ]
  },
  {
   "cell_type": "markdown",
   "id": "7202430b-8082-47b8-b191-4e9303e549bc",
   "metadata": {},
   "source": [
    "# 7. Store credits are given based on transactions"
   ]
  },
  {
   "cell_type": "markdown",
   "id": "6d441973-c142-406f-a979-4c495129d585",
   "metadata": {},
   "source": [
    "only 40% of customers used the store credits. why?"
   ]
  },
  {
   "cell_type": "markdown",
   "id": "b572ee1b-81b5-4287-818b-28fe3e4a86d4",
   "metadata": {},
   "source": [
    "**Is credit too low, not appealing, brand power issues**"
   ]
  },
  {
   "cell_type": "markdown",
   "id": "a189b9bb-4d38-44ca-a271-26aab8686f80",
   "metadata": {},
   "source": [
    "The scope of the possible problems is the following:\n",
    "- Many customers might not be aware that they have earned store credits, either due to ineffective communication or unclear instructions;\n",
    "- If the amount of store credit earned is small relative to the total purchase value or if the discounts from credits are perceived as insignificant, customers may not be motivated to use them;\n",
    "- Customers who don't shop often may not accumulate enough credits to use, or they may forget about the store credits between long intervals between purchases;\n",
    "- Some customers may misunderstand how the credits work."
   ]
  },
  {
   "cell_type": "markdown",
   "id": "81e7e2f3-a48b-487d-b938-f57f546154ab",
   "metadata": {},
   "source": [
    "**Why people will keep buying these consumable with Laps.com in comparison to competitors**:\n",
    "\n",
    "For Casual Buyers:\n",
    "\n",
    "The platform provides the ability to find the best price for almost each golf product or sell the golf products themselves;\n",
    "\n",
    "For Professionals:\n",
    "\n",
    "The ability to select the golf products using the specific criteria. At the same time, the sellers can earn money on the platform by choosing the best price and analyzing other offers."
   ]
  },
  {
   "cell_type": "markdown",
   "id": "049e1814-0bfc-4528-9b64-c3632c2f9edb",
   "metadata": {},
   "source": [
    "**What the incentive ?**"
   ]
  },
  {
   "cell_type": "markdown",
   "id": "1a1c1e11-3b2f-42dd-9176-10cd271c6d33",
   "metadata": {},
   "source": [
    "- Subsription plan. The clients will regularly receive consumables by the end of the lifespan of products;\n",
    "- Personal offers. Provision of individual discounts to the specific segments of buyers;\n",
    "- Decrease commission for sellers. The sellers will get more money according to their account level;\n",
    "- Notifications. The clients may subscribe to specific products or categories of products to be notified when the new goods appear on the platform with special offer."
   ]
  },
  {
   "cell_type": "markdown",
   "id": "eae9ab0d-c8db-40e0-8515-7a0716105c70",
   "metadata": {},
   "source": [
    "# 8. All used golf products are resold as refurbished product with certified accrediation "
   ]
  },
  {
   "cell_type": "markdown",
   "id": "12983351-84da-486a-88aa-bcd601369d30",
   "metadata": {},
   "source": [
    "How many sales, revenue, aov, arpu , total customers "
   ]
  },
  {
   "cell_type": "code",
   "execution_count": 225,
   "id": "33ea8a94-cc59-4c76-9474-a97cb3cae7c8",
   "metadata": {},
   "outputs": [
    {
     "data": {
      "text/plain": [
       "24535"
      ]
     },
     "execution_count": 225,
     "metadata": {},
     "output_type": "execute_result"
    }
   ],
   "source": [
    "all_sales = df_purchases.purchase_order_id.nunique()\n",
    "all_sales"
   ]
  },
  {
   "cell_type": "code",
   "execution_count": 226,
   "id": "71363a16-ae82-4f5f-b7a2-55afcfb21ec0",
   "metadata": {},
   "outputs": [
    {
     "data": {
      "text/html": [
       "<div>\n",
       "<style scoped>\n",
       "    .dataframe tbody tr th:only-of-type {\n",
       "        vertical-align: middle;\n",
       "    }\n",
       "\n",
       "    .dataframe tbody tr th {\n",
       "        vertical-align: top;\n",
       "    }\n",
       "\n",
       "    .dataframe thead th {\n",
       "        text-align: right;\n",
       "    }\n",
       "</style>\n",
       "<table border=\"1\" class=\"dataframe\">\n",
       "  <thead>\n",
       "    <tr style=\"text-align: right;\">\n",
       "      <th></th>\n",
       "      <th>id</th>\n",
       "      <th>customer_id</th>\n",
       "      <th>purchase_order_id</th>\n",
       "      <th>status</th>\n",
       "      <th>model</th>\n",
       "      <th>product_type</th>\n",
       "      <th>brand</th>\n",
       "      <th>model_id</th>\n",
       "      <th>brand_id</th>\n",
       "      <th>product_type_id</th>\n",
       "      <th>...</th>\n",
       "      <th>currency</th>\n",
       "      <th>subtotal</th>\n",
       "      <th>margin_total</th>\n",
       "      <th>bonus_total</th>\n",
       "      <th>total</th>\n",
       "      <th>created_at</th>\n",
       "      <th>received_at</th>\n",
       "      <th>inspected_at</th>\n",
       "      <th>total_in_usd</th>\n",
       "      <th>min_lifespan_days</th>\n",
       "    </tr>\n",
       "  </thead>\n",
       "  <tbody>\n",
       "    <tr>\n",
       "      <th>6</th>\n",
       "      <td>767187</td>\n",
       "      <td>416249</td>\n",
       "      <td>43117</td>\n",
       "      <td>Accepted</td>\n",
       "      <td>M1 460 2017</td>\n",
       "      <td>Driver</td>\n",
       "      <td>TaylorMade</td>\n",
       "      <td>8285</td>\n",
       "      <td>28</td>\n",
       "      <td>2</td>\n",
       "      <td>...</td>\n",
       "      <td>CAD</td>\n",
       "      <td>NaN</td>\n",
       "      <td>0.0</td>\n",
       "      <td>17.5</td>\n",
       "      <td>192.5</td>\n",
       "      <td>2021-09-10 02:30:00</td>\n",
       "      <td>NaT</td>\n",
       "      <td>2021-09-23 12:15:00</td>\n",
       "      <td>144.375</td>\n",
       "      <td>1095</td>\n",
       "    </tr>\n",
       "    <tr>\n",
       "      <th>7</th>\n",
       "      <td>767188</td>\n",
       "      <td>392519</td>\n",
       "      <td>43118</td>\n",
       "      <td>Accepted</td>\n",
       "      <td>Huntington Beach Soft 4</td>\n",
       "      <td>Putter</td>\n",
       "      <td>Cleveland</td>\n",
       "      <td>34902</td>\n",
       "      <td>7</td>\n",
       "      <td>6</td>\n",
       "      <td>...</td>\n",
       "      <td>CAD</td>\n",
       "      <td>NaN</td>\n",
       "      <td>0.0</td>\n",
       "      <td>6.0</td>\n",
       "      <td>66.0</td>\n",
       "      <td>2021-09-10 02:30:00</td>\n",
       "      <td>NaT</td>\n",
       "      <td>2021-09-23 14:33:00</td>\n",
       "      <td>49.500</td>\n",
       "      <td>1825</td>\n",
       "    </tr>\n",
       "    <tr>\n",
       "      <th>8</th>\n",
       "      <td>767189</td>\n",
       "      <td>392519</td>\n",
       "      <td>43118</td>\n",
       "      <td>Accepted</td>\n",
       "      <td>G SF Tec</td>\n",
       "      <td>Driver</td>\n",
       "      <td>Ping</td>\n",
       "      <td>7773</td>\n",
       "      <td>21</td>\n",
       "      <td>2</td>\n",
       "      <td>...</td>\n",
       "      <td>CAD</td>\n",
       "      <td>NaN</td>\n",
       "      <td>0.0</td>\n",
       "      <td>16.5</td>\n",
       "      <td>181.5</td>\n",
       "      <td>2021-09-10 02:30:00</td>\n",
       "      <td>NaT</td>\n",
       "      <td>2021-09-23 14:32:00</td>\n",
       "      <td>136.125</td>\n",
       "      <td>1095</td>\n",
       "    </tr>\n",
       "  </tbody>\n",
       "</table>\n",
       "<p>3 rows × 21 columns</p>\n",
       "</div>"
      ],
      "text/plain": [
       "       id  customer_id  purchase_order_id    status                    model  \\\n",
       "6  767187       416249              43117  Accepted              M1 460 2017   \n",
       "7  767188       392519              43118  Accepted  Huntington Beach Soft 4   \n",
       "8  767189       392519              43118  Accepted                 G SF Tec   \n",
       "\n",
       "  product_type       brand  model_id  brand_id  product_type_id  ...  \\\n",
       "6       Driver  TaylorMade      8285        28                2  ...   \n",
       "7       Putter   Cleveland     34902         7                6  ...   \n",
       "8       Driver        Ping      7773        21                2  ...   \n",
       "\n",
       "   currency subtotal  margin_total  bonus_total  total          created_at  \\\n",
       "6       CAD      NaN           0.0         17.5  192.5 2021-09-10 02:30:00   \n",
       "7       CAD      NaN           0.0          6.0   66.0 2021-09-10 02:30:00   \n",
       "8       CAD      NaN           0.0         16.5  181.5 2021-09-10 02:30:00   \n",
       "\n",
       "  received_at        inspected_at total_in_usd  min_lifespan_days  \n",
       "6         NaT 2021-09-23 12:15:00      144.375               1095  \n",
       "7         NaT 2021-09-23 14:33:00       49.500               1825  \n",
       "8         NaT 2021-09-23 14:32:00      136.125               1095  \n",
       "\n",
       "[3 rows x 21 columns]"
      ]
     },
     "execution_count": 226,
     "metadata": {},
     "output_type": "execute_result"
    }
   ],
   "source": [
    "df_purchases.head(3)"
   ]
  },
  {
   "cell_type": "code",
   "execution_count": 227,
   "id": "86ec14ea-0553-4fd7-9664-d3efa6368bbd",
   "metadata": {},
   "outputs": [
    {
     "name": "stderr",
     "output_type": "stream",
     "text": [
      "C:\\Users\\user\\AppData\\Local\\Temp\\ipykernel_11044\\2371199889.py:2: SettingWithCopyWarning: \n",
      "A value is trying to be set on a copy of a slice from a DataFrame.\n",
      "Try using .loc[row_indexer,col_indexer] = value instead\n",
      "\n",
      "See the caveats in the documentation: https://pandas.pydata.org/pandas-docs/stable/user_guide/indexing.html#returning-a-view-versus-a-copy\n",
      "  df_purchases['total_in_usd'] = df_purchases.apply(lambda row: round(row['total'] * conversion_rate, 2) if row['currency'] == 'CAD' else row['total'], axis=1)\n"
     ]
    }
   ],
   "source": [
    "conversion_rate = 0.75\n",
    "df_purchases['total_in_usd'] = df_purchases.apply(lambda row: round(row['total'] * conversion_rate, 2) if row['currency'] == 'CAD' else row['total'], axis=1)\n",
    "revenue = round(float(df_purchases.total_in_usd.sum()), 2)"
   ]
  },
  {
   "cell_type": "code",
   "execution_count": 228,
   "id": "b78f2720-8b7c-42b4-997a-4ef715a6d695",
   "metadata": {},
   "outputs": [
    {
     "data": {
      "text/plain": [
       "93.75"
      ]
     },
     "execution_count": 228,
     "metadata": {},
     "output_type": "execute_result"
    }
   ],
   "source": [
    "aov"
   ]
  },
  {
   "cell_type": "code",
   "execution_count": 229,
   "id": "372f6448-9206-4a5e-904d-809656927a9b",
   "metadata": {},
   "outputs": [],
   "source": [
    "arpu = revenue / df_purchases.customer_id.nunique()"
   ]
  },
  {
   "cell_type": "code",
   "execution_count": 230,
   "id": "10aeaf18-2a9c-443c-b929-881a54526745",
   "metadata": {},
   "outputs": [],
   "source": [
    "items_customers = df_items['customer_id']\n",
    "orders_customers = df_orders['customer_id']\n",
    "all_customers = pd.concat([items_customers, orders_customers])\n",
    "arpu = revenue / all_customers.nunique()"
   ]
  },
  {
   "cell_type": "code",
   "execution_count": 231,
   "id": "9f4b5eb0-917d-4a2a-9e6a-154e783b2882",
   "metadata": {},
   "outputs": [
    {
     "name": "stdout",
     "output_type": "stream",
     "text": [
      "\n",
      "Number of Sales - 24535\n",
      "Revenue - 17936642.18\n",
      "AOV - 93.75\n",
      "ARPU - 130.86708142419377\n",
      "Total Customers - 137060\n",
      "    \n"
     ]
    }
   ],
   "source": [
    "print(\n",
    "    f'''\n",
    "Number of Sales - {all_sales}\n",
    "Revenue - {revenue}\n",
    "AOV - {aov}\n",
    "ARPU - {arpu}\n",
    "Total Customers - {all_customers.nunique()}\n",
    "    ''')"
   ]
  },
  {
   "cell_type": "markdown",
   "id": "8e516ef8-3957-4205-ad42-fdca05583648",
   "metadata": {},
   "source": [
    "**Who are these customers , are they new customers or exisiting customers**\n",
    "\n",
    "Skip this questions, not enough information what to find here"
   ]
  },
  {
   "cell_type": "markdown",
   "id": "fe0c059b-b4a2-4200-be90-0951bb3246aa",
   "metadata": {},
   "source": [
    "**how many customers buiying the refurbish product comeback ?**"
   ]
  },
  {
   "cell_type": "code",
   "execution_count": 232,
   "id": "3bd07527-8844-4c28-b2b3-4bf47ccfcd5b",
   "metadata": {},
   "outputs": [
    {
     "data": {
      "image/png": "[encoded data removed]",
      "text/plain": [
       "<Figure size 640x480 with 1 Axes>"
      ]
     },
     "metadata": {},
     "output_type": "display_data"
    },
    {
     "data": {
      "text/plain": [
       "<Figure size 640x480 with 0 Axes>"
      ]
     },
     "metadata": {},
     "output_type": "display_data"
    }
   ],
   "source": [
    "customer_purchase_counts = df_purchases.groupby('customer_id').size()\n",
    "\n",
    "# Step 2: Identify repeat customers (more than 1 purchase)\n",
    "repeat_customers = customer_purchase_counts[customer_purchase_counts > 1].index\n",
    "\n",
    "# Step 3: Calculate the share of repeat customers\n",
    "total_customers = df_purchases['customer_id'].nunique()  # Total unique customers\n",
    "repeat_customer_count = len(repeat_customers)            # Count of repeat customers\n",
    "categories = ['Total Customers', 'Repeat Customers']\n",
    "counts = [total_customers, repeat_customer_count]\n",
    "plt.bar(categories, counts, color=['skyblue', 'lightgreen'])\n",
    "plt.ylabel('Number of Customers')\n",
    "plt.title('Total vs Repeat Customers')\n",
    "\n",
    "# Annotate the bar plot with values\n",
    "for i, count in enumerate(counts):\n",
    "    plt.text(i, count + 0.1, str(count), ha='center', va='bottom')\n",
    "\n",
    "# Display the plot\n",
    "plt.show()\n",
    "plt.savefig('repeat_customers.png', dpi=300, bbox_inches='tight')"
   ]
  },
  {
   "cell_type": "code",
   "execution_count": 233,
   "id": "2df44e04-7b66-4cd5-b634-562887e26a00",
   "metadata": {},
   "outputs": [
    {
     "name": "stdout",
     "output_type": "stream",
     "text": [
      "8370 customers has come back after the first buy.\n"
     ]
    }
   ],
   "source": [
    "print(f'{repeat_customer_count} customers has come back after the first buy.')"
   ]
  },
  {
   "cell_type": "markdown",
   "id": "e7b734dd-49a8-4467-8737-ebc45a983007",
   "metadata": {},
   "source": [
    "**Has any of the customers buying refurbish used store credit , what %**\n",
    "\n",
    "**Has any of the customers buying refurbish bought new golf product , what %**\n",
    "\n",
    "Datasets doesn't indicate the information about the store credits and whether the products are new or refurbished, need to get more context to answer the questions."
   ]
  },
  {
   "cell_type": "markdown",
   "id": "9cfcfa88-68e5-4899-abbd-fc20ac79daa9",
   "metadata": {},
   "source": [
    "# 9. Type of customers"
   ]
  },
  {
   "cell_type": "markdown",
   "id": "08752564-5d8c-4986-a39f-e62e02fa3c0d",
   "metadata": {},
   "source": [
    "Customers buy refurbish/new/consumable golf product  , how many comback ?"
   ]
  },
  {
   "cell_type": "code",
   "execution_count": 234,
   "id": "4eb9ff22-4f35-436c-a38c-f51913d6f76c",
   "metadata": {},
   "outputs": [
    {
     "name": "stdout",
     "output_type": "stream",
     "text": [
      "8370 customers has come back after the first buy of refurbish/new/consumable golf products.\n"
     ]
    }
   ],
   "source": [
    "print(f'{repeat_customer_count} customers has come back after the first buy of refurbish/new/consumable golf products.')"
   ]
  },
  {
   "cell_type": "code",
   "execution_count": 235,
   "id": "9d92bf7e-9448-4913-a242-de35bcb63395",
   "metadata": {},
   "outputs": [],
   "source": [
    "customer_seller_counts = df_orders.groupby('customer_id').size()\n",
    "\n",
    "# Step 2: Identify repeat customers (more than 1 purchase)\n",
    "repeat_sellers = customer_seller_counts[customer_seller_counts > 1].index\n",
    "repeat_sellers_count = len(repeat_sellers)\n",
    "total_sellers = df_orders['customer_id'].nunique()  "
   ]
  },
  {
   "cell_type": "code",
   "execution_count": 236,
   "id": "1d7984e2-004b-4239-b027-2140d1623573",
   "metadata": {},
   "outputs": [
    {
     "data": {
      "image/png": "[encoded data removed]",
      "text/plain": [
       "<Figure size 640x480 with 1 Axes>"
      ]
     },
     "metadata": {},
     "output_type": "display_data"
    },
    {
     "data": {
      "text/plain": [
       "<Figure size 640x480 with 0 Axes>"
      ]
     },
     "metadata": {},
     "output_type": "display_data"
    }
   ],
   "source": [
    "categories = ['Total Sellers', 'Repeat Sellers']\n",
    "counts = [total_sellers, repeat_sellers_count]\n",
    "plt.bar(categories, counts)\n",
    "plt.ylabel('Number of Sellers')\n",
    "plt.title('Total vs Repeat Sellers')\n",
    "\n",
    "# Annotate the bar plot with values\n",
    "for i, count in enumerate(counts):\n",
    "    plt.text(i, count + 0.1, str(count), ha='center', va='bottom')\n",
    "\n",
    "# Display the plot\n",
    "plt.show()\n",
    "plt.savefig('repeat_sellers.png', dpi=300, bbox_inches='tight')"
   ]
  },
  {
   "cell_type": "code",
   "execution_count": 237,
   "id": "fa224c68-f449-4689-9a1f-8683172cd23e",
   "metadata": {},
   "outputs": [
    {
     "name": "stdout",
     "output_type": "stream",
     "text": [
      "50201 customers has come back after the first sell of golf products.\n"
     ]
    }
   ],
   "source": [
    "print(f'{repeat_sellers_count} customers has come back after the first sell of golf products.')"
   ]
  },
  {
   "cell_type": "markdown",
   "id": "e9c63163-91ab-4084-aa5a-895ed96c745b",
   "metadata": {},
   "source": [
    "# 10. Using analysis of customer movement to show how many customers are returning?"
   ]
  },
  {
   "cell_type": "code",
   "execution_count": 238,
   "id": "2f88e032-3dc7-4b04-b3aa-9f6f935f15d0",
   "metadata": {},
   "outputs": [],
   "source": [
    "# Convert 'created_at' to datetime\n",
    "df_orders['created_at'] = pd.to_datetime(df_orders['created_at'])\n",
    "\n",
    "# Step 1: Create cohort by identifying first purchase date\n",
    "df_orders['cohort'] = df_orders.groupby('customer_id')['created_at'].transform('min')\n",
    "\n",
    "# Step 2: Extract cohort year and month (without time)\n",
    "df_orders['cohort_year_month'] = df_orders['cohort'].dt.to_period('M')\n",
    "\n",
    "# Step 3: Extract purchase year and month (without time)\n",
    "df_orders['purchase_year_month'] = df_orders['created_at'].dt.to_period('M')\n",
    "\n",
    "# Step 4: Calculate the cohort index (the number of months between the cohort and the purchase)\n",
    "df_orders['cohort_index'] = df_orders.apply(\n",
    "    lambda row: (row['purchase_year_month'] - row['cohort_year_month']).n if pd.notna(row['purchase_year_month']) and pd.notna(row['cohort_year_month']) else None,\n",
    "    axis=1\n",
    ")\n",
    "\n",
    "# Convert cohort_index to integers\n",
    "df_orders['cohort_index'] = df_orders['cohort_index'].astype('Int64')\n",
    "\n",
    "# Step 5: Group by cohort and cohort index and count unique customers\n",
    "cohort_data = df_orders.groupby(['cohort_year_month', 'cohort_index'])['customer_id'].nunique().reset_index()\n",
    "\n",
    "# Step 6: Pivot the cohort_data to create a matrix for analysis\n",
    "cohort_pivot = cohort_data.pivot(index='cohort_year_month', columns='cohort_index', values='customer_id')\n",
    "\n",
    "# Step 7: Calculate the percentage of customers in each cohort index relative to the 0 period\n",
    "cohort_pivot_percentage = cohort_pivot.div(cohort_pivot[0], axis=0) * 100\n",
    "\n",
    "# Step 8: Select only the first 10 periods\n",
    "cohort_pivot_percentage = cohort_pivot_percentage.iloc[:, :11]  # Select first 10 periods plus the 0 period\n",
    "\n",
    "# Step 10: Limit the cohort to only include from Dec 2022 to Sep 2024\n",
    "cohort_pivot_percentage = cohort_pivot_percentage.loc[\n",
    "    (cohort_pivot_percentage.index >= '2022-12') & \n",
    "    (cohort_pivot_percentage.index <= '2024-09')\n",
    "]\n",
    "\n",
    "# Step 11: Apply conditional formatting to highlight min and max values\n",
    "def highlight_min_max(s):\n",
    "    is_min = s == s.min()\n",
    "    is_max = s == s.max()\n",
    "    return ['background-color: yellow' if v else 'background-color: lightgreen' if is_max.iloc[i] else '' for i, v in enumerate(is_min)]\n",
    "\n",
    "# Step 12: Format the DataFrame to display with 2 decimal places\n",
    "styled_cohort_sellers = cohort_pivot_percentage.style \\\n",
    "    .apply(highlight_min_max) \\\n",
    "    .format(\"{:.2f}\")  # Format to 2 decimal places"
   ]
  },
  {
   "cell_type": "code",
   "execution_count": 239,
   "id": "b4865de3-2d24-4c9d-9cb0-2acb54f9f6b9",
   "metadata": {},
   "outputs": [
    {
     "data": {
      "text/html": [
       "<style type=\"text/css\">\n",
       "#T_0b6b4_row0_col0, #T_0b6b4_row1_col0, #T_0b6b4_row2_col0, #T_0b6b4_row3_col0, #T_0b6b4_row4_col0, #T_0b6b4_row5_col0, #T_0b6b4_row5_col8, #T_0b6b4_row6_col0, #T_0b6b4_row7_col0, #T_0b6b4_row8_col0, #T_0b6b4_row9_col0, #T_0b6b4_row10_col0, #T_0b6b4_row11_col0, #T_0b6b4_row11_col10, #T_0b6b4_row12_col0, #T_0b6b4_row12_col9, #T_0b6b4_row13_col0, #T_0b6b4_row14_col0, #T_0b6b4_row14_col7, #T_0b6b4_row15_col0, #T_0b6b4_row15_col6, #T_0b6b4_row16_col0, #T_0b6b4_row16_col5, #T_0b6b4_row17_col0, #T_0b6b4_row17_col4, #T_0b6b4_row18_col0, #T_0b6b4_row18_col3, #T_0b6b4_row19_col0, #T_0b6b4_row19_col2, #T_0b6b4_row20_col0, #T_0b6b4_row20_col1, #T_0b6b4_row21_col0 {\n",
       "  background-color: yellow;\n",
       "}\n",
       "#T_0b6b4_row1_col5, #T_0b6b4_row2_col2, #T_0b6b4_row2_col4, #T_0b6b4_row3_col3, #T_0b6b4_row4_col1, #T_0b6b4_row9_col7, #T_0b6b4_row9_col8, #T_0b6b4_row9_col10, #T_0b6b4_row10_col6, #T_0b6b4_row10_col9 {\n",
       "  background-color: lightgreen;\n",
       "}\n",
       "</style>\n",
       "<table id=\"T_0b6b4\">\n",
       "  <thead>\n",
       "    <tr>\n",
       "      <th class=\"index_name level0\" >cohort_index</th>\n",
       "      <th id=\"T_0b6b4_level0_col0\" class=\"col_heading level0 col0\" >0</th>\n",
       "      <th id=\"T_0b6b4_level0_col1\" class=\"col_heading level0 col1\" >1</th>\n",
       "      <th id=\"T_0b6b4_level0_col2\" class=\"col_heading level0 col2\" >2</th>\n",
       "      <th id=\"T_0b6b4_level0_col3\" class=\"col_heading level0 col3\" >3</th>\n",
       "      <th id=\"T_0b6b4_level0_col4\" class=\"col_heading level0 col4\" >4</th>\n",
       "      <th id=\"T_0b6b4_level0_col5\" class=\"col_heading level0 col5\" >5</th>\n",
       "      <th id=\"T_0b6b4_level0_col6\" class=\"col_heading level0 col6\" >6</th>\n",
       "      <th id=\"T_0b6b4_level0_col7\" class=\"col_heading level0 col7\" >7</th>\n",
       "      <th id=\"T_0b6b4_level0_col8\" class=\"col_heading level0 col8\" >8</th>\n",
       "      <th id=\"T_0b6b4_level0_col9\" class=\"col_heading level0 col9\" >9</th>\n",
       "      <th id=\"T_0b6b4_level0_col10\" class=\"col_heading level0 col10\" >10</th>\n",
       "    </tr>\n",
       "    <tr>\n",
       "      <th class=\"index_name level0\" >cohort_year_month</th>\n",
       "      <th class=\"blank col0\" >&nbsp;</th>\n",
       "      <th class=\"blank col1\" >&nbsp;</th>\n",
       "      <th class=\"blank col2\" >&nbsp;</th>\n",
       "      <th class=\"blank col3\" >&nbsp;</th>\n",
       "      <th class=\"blank col4\" >&nbsp;</th>\n",
       "      <th class=\"blank col5\" >&nbsp;</th>\n",
       "      <th class=\"blank col6\" >&nbsp;</th>\n",
       "      <th class=\"blank col7\" >&nbsp;</th>\n",
       "      <th class=\"blank col8\" >&nbsp;</th>\n",
       "      <th class=\"blank col9\" >&nbsp;</th>\n",
       "      <th class=\"blank col10\" >&nbsp;</th>\n",
       "    </tr>\n",
       "  </thead>\n",
       "  <tbody>\n",
       "    <tr>\n",
       "      <th id=\"T_0b6b4_level0_row0\" class=\"row_heading level0 row0\" >2022-12</th>\n",
       "      <td id=\"T_0b6b4_row0_col0\" class=\"data row0 col0\" >100.00</td>\n",
       "      <td id=\"T_0b6b4_row0_col1\" class=\"data row0 col1\" >4.50</td>\n",
       "      <td id=\"T_0b6b4_row0_col2\" class=\"data row0 col2\" >1.70</td>\n",
       "      <td id=\"T_0b6b4_row0_col3\" class=\"data row0 col3\" >1.05</td>\n",
       "      <td id=\"T_0b6b4_row0_col4\" class=\"data row0 col4\" >2.43</td>\n",
       "      <td id=\"T_0b6b4_row0_col5\" class=\"data row0 col5\" >2.15</td>\n",
       "      <td id=\"T_0b6b4_row0_col6\" class=\"data row0 col6\" >2.07</td>\n",
       "      <td id=\"T_0b6b4_row0_col7\" class=\"data row0 col7\" >1.78</td>\n",
       "      <td id=\"T_0b6b4_row0_col8\" class=\"data row0 col8\" >1.09</td>\n",
       "      <td id=\"T_0b6b4_row0_col9\" class=\"data row0 col9\" >0.85</td>\n",
       "      <td id=\"T_0b6b4_row0_col10\" class=\"data row0 col10\" >0.77</td>\n",
       "    </tr>\n",
       "    <tr>\n",
       "      <th id=\"T_0b6b4_level0_row1\" class=\"row_heading level0 row1\" >2023-01</th>\n",
       "      <td id=\"T_0b6b4_row1_col0\" class=\"data row1 col0\" >100.00</td>\n",
       "      <td id=\"T_0b6b4_row1_col1\" class=\"data row1 col1\" >3.95</td>\n",
       "      <td id=\"T_0b6b4_row1_col2\" class=\"data row1 col2\" >3.02</td>\n",
       "      <td id=\"T_0b6b4_row1_col3\" class=\"data row1 col3\" >3.02</td>\n",
       "      <td id=\"T_0b6b4_row1_col4\" class=\"data row1 col4\" >2.32</td>\n",
       "      <td id=\"T_0b6b4_row1_col5\" class=\"data row1 col5\" >2.51</td>\n",
       "      <td id=\"T_0b6b4_row1_col6\" class=\"data row1 col6\" >1.95</td>\n",
       "      <td id=\"T_0b6b4_row1_col7\" class=\"data row1 col7\" >1.67</td>\n",
       "      <td id=\"T_0b6b4_row1_col8\" class=\"data row1 col8\" >1.11</td>\n",
       "      <td id=\"T_0b6b4_row1_col9\" class=\"data row1 col9\" >1.16</td>\n",
       "      <td id=\"T_0b6b4_row1_col10\" class=\"data row1 col10\" >1.21</td>\n",
       "    </tr>\n",
       "    <tr>\n",
       "      <th id=\"T_0b6b4_level0_row2\" class=\"row_heading level0 row2\" >2023-02</th>\n",
       "      <td id=\"T_0b6b4_row2_col0\" class=\"data row2 col0\" >100.00</td>\n",
       "      <td id=\"T_0b6b4_row2_col1\" class=\"data row2 col1\" >4.38</td>\n",
       "      <td id=\"T_0b6b4_row2_col2\" class=\"data row2 col2\" >4.12</td>\n",
       "      <td id=\"T_0b6b4_row2_col3\" class=\"data row2 col3\" >2.59</td>\n",
       "      <td id=\"T_0b6b4_row2_col4\" class=\"data row2 col4\" >2.80</td>\n",
       "      <td id=\"T_0b6b4_row2_col5\" class=\"data row2 col5\" >2.06</td>\n",
       "      <td id=\"T_0b6b4_row2_col6\" class=\"data row2 col6\" >1.64</td>\n",
       "      <td id=\"T_0b6b4_row2_col7\" class=\"data row2 col7\" >0.79</td>\n",
       "      <td id=\"T_0b6b4_row2_col8\" class=\"data row2 col8\" >1.06</td>\n",
       "      <td id=\"T_0b6b4_row2_col9\" class=\"data row2 col9\" >1.21</td>\n",
       "      <td id=\"T_0b6b4_row2_col10\" class=\"data row2 col10\" >1.53</td>\n",
       "    </tr>\n",
       "    <tr>\n",
       "      <th id=\"T_0b6b4_level0_row3\" class=\"row_heading level0 row3\" >2023-03</th>\n",
       "      <td id=\"T_0b6b4_row3_col0\" class=\"data row3 col0\" >100.00</td>\n",
       "      <td id=\"T_0b6b4_row3_col1\" class=\"data row3 col1\" >5.54</td>\n",
       "      <td id=\"T_0b6b4_row3_col2\" class=\"data row3 col2\" >4.06</td>\n",
       "      <td id=\"T_0b6b4_row3_col3\" class=\"data row3 col3\" >3.74</td>\n",
       "      <td id=\"T_0b6b4_row3_col4\" class=\"data row3 col4\" >2.77</td>\n",
       "      <td id=\"T_0b6b4_row3_col5\" class=\"data row3 col5\" >2.07</td>\n",
       "      <td id=\"T_0b6b4_row3_col6\" class=\"data row3 col6\" >1.13</td>\n",
       "      <td id=\"T_0b6b4_row3_col7\" class=\"data row3 col7\" >1.09</td>\n",
       "      <td id=\"T_0b6b4_row3_col8\" class=\"data row3 col8\" >0.90</td>\n",
       "      <td id=\"T_0b6b4_row3_col9\" class=\"data row3 col9\" >1.01</td>\n",
       "      <td id=\"T_0b6b4_row3_col10\" class=\"data row3 col10\" >1.01</td>\n",
       "    </tr>\n",
       "    <tr>\n",
       "      <th id=\"T_0b6b4_level0_row4\" class=\"row_heading level0 row4\" >2023-04</th>\n",
       "      <td id=\"T_0b6b4_row4_col0\" class=\"data row4 col0\" >100.00</td>\n",
       "      <td id=\"T_0b6b4_row4_col1\" class=\"data row4 col1\" >5.58</td>\n",
       "      <td id=\"T_0b6b4_row4_col2\" class=\"data row4 col2\" >4.02</td>\n",
       "      <td id=\"T_0b6b4_row4_col3\" class=\"data row4 col3\" >2.29</td>\n",
       "      <td id=\"T_0b6b4_row4_col4\" class=\"data row4 col4\" >2.21</td>\n",
       "      <td id=\"T_0b6b4_row4_col5\" class=\"data row4 col5\" >0.89</td>\n",
       "      <td id=\"T_0b6b4_row4_col6\" class=\"data row4 col6\" >1.04</td>\n",
       "      <td id=\"T_0b6b4_row4_col7\" class=\"data row4 col7\" >1.19</td>\n",
       "      <td id=\"T_0b6b4_row4_col8\" class=\"data row4 col8\" >1.00</td>\n",
       "      <td id=\"T_0b6b4_row4_col9\" class=\"data row4 col9\" >0.79</td>\n",
       "      <td id=\"T_0b6b4_row4_col10\" class=\"data row4 col10\" >0.96</td>\n",
       "    </tr>\n",
       "    <tr>\n",
       "      <th id=\"T_0b6b4_level0_row5\" class=\"row_heading level0 row5\" >2023-05</th>\n",
       "      <td id=\"T_0b6b4_row5_col0\" class=\"data row5 col0\" >100.00</td>\n",
       "      <td id=\"T_0b6b4_row5_col1\" class=\"data row5 col1\" >5.33</td>\n",
       "      <td id=\"T_0b6b4_row5_col2\" class=\"data row5 col2\" >4.09</td>\n",
       "      <td id=\"T_0b6b4_row5_col3\" class=\"data row5 col3\" >2.50</td>\n",
       "      <td id=\"T_0b6b4_row5_col4\" class=\"data row5 col4\" >1.46</td>\n",
       "      <td id=\"T_0b6b4_row5_col5\" class=\"data row5 col5\" >1.00</td>\n",
       "      <td id=\"T_0b6b4_row5_col6\" class=\"data row5 col6\" >1.09</td>\n",
       "      <td id=\"T_0b6b4_row5_col7\" class=\"data row5 col7\" >0.50</td>\n",
       "      <td id=\"T_0b6b4_row5_col8\" class=\"data row5 col8\" >0.48</td>\n",
       "      <td id=\"T_0b6b4_row5_col9\" class=\"data row5 col9\" >0.80</td>\n",
       "      <td id=\"T_0b6b4_row5_col10\" class=\"data row5 col10\" >1.29</td>\n",
       "    </tr>\n",
       "    <tr>\n",
       "      <th id=\"T_0b6b4_level0_row6\" class=\"row_heading level0 row6\" >2023-06</th>\n",
       "      <td id=\"T_0b6b4_row6_col0\" class=\"data row6 col0\" >100.00</td>\n",
       "      <td id=\"T_0b6b4_row6_col1\" class=\"data row6 col1\" >5.11</td>\n",
       "      <td id=\"T_0b6b4_row6_col2\" class=\"data row6 col2\" >3.43</td>\n",
       "      <td id=\"T_0b6b4_row6_col3\" class=\"data row6 col3\" >1.43</td>\n",
       "      <td id=\"T_0b6b4_row6_col4\" class=\"data row6 col4\" >1.13</td>\n",
       "      <td id=\"T_0b6b4_row6_col5\" class=\"data row6 col5\" >1.21</td>\n",
       "      <td id=\"T_0b6b4_row6_col6\" class=\"data row6 col6\" >0.77</td>\n",
       "      <td id=\"T_0b6b4_row6_col7\" class=\"data row6 col7\" >0.85</td>\n",
       "      <td id=\"T_0b6b4_row6_col8\" class=\"data row6 col8\" >0.85</td>\n",
       "      <td id=\"T_0b6b4_row6_col9\" class=\"data row6 col9\" >1.11</td>\n",
       "      <td id=\"T_0b6b4_row6_col10\" class=\"data row6 col10\" >1.53</td>\n",
       "    </tr>\n",
       "    <tr>\n",
       "      <th id=\"T_0b6b4_level0_row7\" class=\"row_heading level0 row7\" >2023-07</th>\n",
       "      <td id=\"T_0b6b4_row7_col0\" class=\"data row7 col0\" >100.00</td>\n",
       "      <td id=\"T_0b6b4_row7_col1\" class=\"data row7 col1\" >5.37</td>\n",
       "      <td id=\"T_0b6b4_row7_col2\" class=\"data row7 col2\" >2.37</td>\n",
       "      <td id=\"T_0b6b4_row7_col3\" class=\"data row7 col3\" >1.77</td>\n",
       "      <td id=\"T_0b6b4_row7_col4\" class=\"data row7 col4\" >1.84</td>\n",
       "      <td id=\"T_0b6b4_row7_col5\" class=\"data row7 col5\" >1.69</td>\n",
       "      <td id=\"T_0b6b4_row7_col6\" class=\"data row7 col6\" >1.13</td>\n",
       "      <td id=\"T_0b6b4_row7_col7\" class=\"data row7 col7\" >1.06</td>\n",
       "      <td id=\"T_0b6b4_row7_col8\" class=\"data row7 col8\" >1.44</td>\n",
       "      <td id=\"T_0b6b4_row7_col9\" class=\"data row7 col9\" >2.45</td>\n",
       "      <td id=\"T_0b6b4_row7_col10\" class=\"data row7 col10\" >2.09</td>\n",
       "    </tr>\n",
       "    <tr>\n",
       "      <th id=\"T_0b6b4_level0_row8\" class=\"row_heading level0 row8\" >2023-08</th>\n",
       "      <td id=\"T_0b6b4_row8_col0\" class=\"data row8 col0\" >100.00</td>\n",
       "      <td id=\"T_0b6b4_row8_col1\" class=\"data row8 col1\" >3.62</td>\n",
       "      <td id=\"T_0b6b4_row8_col2\" class=\"data row8 col2\" >2.21</td>\n",
       "      <td id=\"T_0b6b4_row8_col3\" class=\"data row8 col3\" >1.99</td>\n",
       "      <td id=\"T_0b6b4_row8_col4\" class=\"data row8 col4\" >1.11</td>\n",
       "      <td id=\"T_0b6b4_row8_col5\" class=\"data row8 col5\" >0.94</td>\n",
       "      <td id=\"T_0b6b4_row8_col6\" class=\"data row8 col6\" >1.27</td>\n",
       "      <td id=\"T_0b6b4_row8_col7\" class=\"data row8 col7\" >1.55</td>\n",
       "      <td id=\"T_0b6b4_row8_col8\" class=\"data row8 col8\" >1.77</td>\n",
       "      <td id=\"T_0b6b4_row8_col9\" class=\"data row8 col9\" >1.99</td>\n",
       "      <td id=\"T_0b6b4_row8_col10\" class=\"data row8 col10\" >1.83</td>\n",
       "    </tr>\n",
       "    <tr>\n",
       "      <th id=\"T_0b6b4_level0_row9\" class=\"row_heading level0 row9\" >2023-09</th>\n",
       "      <td id=\"T_0b6b4_row9_col0\" class=\"data row9 col0\" >100.00</td>\n",
       "      <td id=\"T_0b6b4_row9_col1\" class=\"data row9 col1\" >4.04</td>\n",
       "      <td id=\"T_0b6b4_row9_col2\" class=\"data row9 col2\" >2.69</td>\n",
       "      <td id=\"T_0b6b4_row9_col3\" class=\"data row9 col3\" >1.83</td>\n",
       "      <td id=\"T_0b6b4_row9_col4\" class=\"data row9 col4\" >0.81</td>\n",
       "      <td id=\"T_0b6b4_row9_col5\" class=\"data row9 col5\" >0.97</td>\n",
       "      <td id=\"T_0b6b4_row9_col6\" class=\"data row9 col6\" >1.35</td>\n",
       "      <td id=\"T_0b6b4_row9_col7\" class=\"data row9 col7\" >2.53</td>\n",
       "      <td id=\"T_0b6b4_row9_col8\" class=\"data row9 col8\" >2.31</td>\n",
       "      <td id=\"T_0b6b4_row9_col9\" class=\"data row9 col9\" >2.31</td>\n",
       "      <td id=\"T_0b6b4_row9_col10\" class=\"data row9 col10\" >2.42</td>\n",
       "    </tr>\n",
       "    <tr>\n",
       "      <th id=\"T_0b6b4_level0_row10\" class=\"row_heading level0 row10\" >2023-10</th>\n",
       "      <td id=\"T_0b6b4_row10_col0\" class=\"data row10 col0\" >100.00</td>\n",
       "      <td id=\"T_0b6b4_row10_col1\" class=\"data row10 col1\" >4.95</td>\n",
       "      <td id=\"T_0b6b4_row10_col2\" class=\"data row10 col2\" >2.25</td>\n",
       "      <td id=\"T_0b6b4_row10_col3\" class=\"data row10 col3\" >1.41</td>\n",
       "      <td id=\"T_0b6b4_row10_col4\" class=\"data row10 col4\" >1.48</td>\n",
       "      <td id=\"T_0b6b4_row10_col5\" class=\"data row10 col5\" >1.48</td>\n",
       "      <td id=\"T_0b6b4_row10_col6\" class=\"data row10 col6\" >2.57</td>\n",
       "      <td id=\"T_0b6b4_row10_col7\" class=\"data row10 col7\" >2.12</td>\n",
       "      <td id=\"T_0b6b4_row10_col8\" class=\"data row10 col8\" >1.35</td>\n",
       "      <td id=\"T_0b6b4_row10_col9\" class=\"data row10 col9\" >2.50</td>\n",
       "      <td id=\"T_0b6b4_row10_col10\" class=\"data row10 col10\" >1.73</td>\n",
       "    </tr>\n",
       "    <tr>\n",
       "      <th id=\"T_0b6b4_level0_row11\" class=\"row_heading level0 row11\" >2023-11</th>\n",
       "      <td id=\"T_0b6b4_row11_col0\" class=\"data row11 col0\" >100.00</td>\n",
       "      <td id=\"T_0b6b4_row11_col1\" class=\"data row11 col1\" >3.28</td>\n",
       "      <td id=\"T_0b6b4_row11_col2\" class=\"data row11 col2\" >1.56</td>\n",
       "      <td id=\"T_0b6b4_row11_col3\" class=\"data row11 col3\" >1.72</td>\n",
       "      <td id=\"T_0b6b4_row11_col4\" class=\"data row11 col4\" >1.44</td>\n",
       "      <td id=\"T_0b6b4_row11_col5\" class=\"data row11 col5\" >1.72</td>\n",
       "      <td id=\"T_0b6b4_row11_col6\" class=\"data row11 col6\" >1.36</td>\n",
       "      <td id=\"T_0b6b4_row11_col7\" class=\"data row11 col7\" >1.12</td>\n",
       "      <td id=\"T_0b6b4_row11_col8\" class=\"data row11 col8\" >1.08</td>\n",
       "      <td id=\"T_0b6b4_row11_col9\" class=\"data row11 col9\" >1.32</td>\n",
       "      <td id=\"T_0b6b4_row11_col10\" class=\"data row11 col10\" >0.36</td>\n",
       "    </tr>\n",
       "    <tr>\n",
       "      <th id=\"T_0b6b4_level0_row12\" class=\"row_heading level0 row12\" >2023-12</th>\n",
       "      <td id=\"T_0b6b4_row12_col0\" class=\"data row12 col0\" >100.00</td>\n",
       "      <td id=\"T_0b6b4_row12_col1\" class=\"data row12 col1\" >3.61</td>\n",
       "      <td id=\"T_0b6b4_row12_col2\" class=\"data row12 col2\" >1.47</td>\n",
       "      <td id=\"T_0b6b4_row12_col3\" class=\"data row12 col3\" >1.58</td>\n",
       "      <td id=\"T_0b6b4_row12_col4\" class=\"data row12 col4\" >1.47</td>\n",
       "      <td id=\"T_0b6b4_row12_col5\" class=\"data row12 col5\" >1.17</td>\n",
       "      <td id=\"T_0b6b4_row12_col6\" class=\"data row12 col6\" >1.58</td>\n",
       "      <td id=\"T_0b6b4_row12_col7\" class=\"data row12 col7\" >1.32</td>\n",
       "      <td id=\"T_0b6b4_row12_col8\" class=\"data row12 col8\" >1.27</td>\n",
       "      <td id=\"T_0b6b4_row12_col9\" class=\"data row12 col9\" >0.31</td>\n",
       "      <td id=\"T_0b6b4_row12_col10\" class=\"data row12 col10\" >nan</td>\n",
       "    </tr>\n",
       "    <tr>\n",
       "      <th id=\"T_0b6b4_level0_row13\" class=\"row_heading level0 row13\" >2024-01</th>\n",
       "      <td id=\"T_0b6b4_row13_col0\" class=\"data row13 col0\" >100.00</td>\n",
       "      <td id=\"T_0b6b4_row13_col1\" class=\"data row13 col1\" >4.74</td>\n",
       "      <td id=\"T_0b6b4_row13_col2\" class=\"data row13 col2\" >3.16</td>\n",
       "      <td id=\"T_0b6b4_row13_col3\" class=\"data row13 col3\" >3.29</td>\n",
       "      <td id=\"T_0b6b4_row13_col4\" class=\"data row13 col4\" >1.91</td>\n",
       "      <td id=\"T_0b6b4_row13_col5\" class=\"data row13 col5\" >1.78</td>\n",
       "      <td id=\"T_0b6b4_row13_col6\" class=\"data row13 col6\" >2.04</td>\n",
       "      <td id=\"T_0b6b4_row13_col7\" class=\"data row13 col7\" >2.17</td>\n",
       "      <td id=\"T_0b6b4_row13_col8\" class=\"data row13 col8\" >0.66</td>\n",
       "      <td id=\"T_0b6b4_row13_col9\" class=\"data row13 col9\" >nan</td>\n",
       "      <td id=\"T_0b6b4_row13_col10\" class=\"data row13 col10\" >nan</td>\n",
       "    </tr>\n",
       "    <tr>\n",
       "      <th id=\"T_0b6b4_level0_row14\" class=\"row_heading level0 row14\" >2024-02</th>\n",
       "      <td id=\"T_0b6b4_row14_col0\" class=\"data row14 col0\" >100.00</td>\n",
       "      <td id=\"T_0b6b4_row14_col1\" class=\"data row14 col1\" >3.43</td>\n",
       "      <td id=\"T_0b6b4_row14_col2\" class=\"data row14 col2\" >3.26</td>\n",
       "      <td id=\"T_0b6b4_row14_col3\" class=\"data row14 col3\" >2.19</td>\n",
       "      <td id=\"T_0b6b4_row14_col4\" class=\"data row14 col4\" >1.46</td>\n",
       "      <td id=\"T_0b6b4_row14_col5\" class=\"data row14 col5\" >1.80</td>\n",
       "      <td id=\"T_0b6b4_row14_col6\" class=\"data row14 col6\" >1.18</td>\n",
       "      <td id=\"T_0b6b4_row14_col7\" class=\"data row14 col7\" >0.34</td>\n",
       "      <td id=\"T_0b6b4_row14_col8\" class=\"data row14 col8\" >nan</td>\n",
       "      <td id=\"T_0b6b4_row14_col9\" class=\"data row14 col9\" >nan</td>\n",
       "      <td id=\"T_0b6b4_row14_col10\" class=\"data row14 col10\" >nan</td>\n",
       "    </tr>\n",
       "    <tr>\n",
       "      <th id=\"T_0b6b4_level0_row15\" class=\"row_heading level0 row15\" >2024-03</th>\n",
       "      <td id=\"T_0b6b4_row15_col0\" class=\"data row15 col0\" >100.00</td>\n",
       "      <td id=\"T_0b6b4_row15_col1\" class=\"data row15 col1\" >5.16</td>\n",
       "      <td id=\"T_0b6b4_row15_col2\" class=\"data row15 col2\" >2.92</td>\n",
       "      <td id=\"T_0b6b4_row15_col3\" class=\"data row15 col3\" >2.24</td>\n",
       "      <td id=\"T_0b6b4_row15_col4\" class=\"data row15 col4\" >1.86</td>\n",
       "      <td id=\"T_0b6b4_row15_col5\" class=\"data row15 col5\" >1.44</td>\n",
       "      <td id=\"T_0b6b4_row15_col6\" class=\"data row15 col6\" >0.55</td>\n",
       "      <td id=\"T_0b6b4_row15_col7\" class=\"data row15 col7\" >nan</td>\n",
       "      <td id=\"T_0b6b4_row15_col8\" class=\"data row15 col8\" >nan</td>\n",
       "      <td id=\"T_0b6b4_row15_col9\" class=\"data row15 col9\" >nan</td>\n",
       "      <td id=\"T_0b6b4_row15_col10\" class=\"data row15 col10\" >nan</td>\n",
       "    </tr>\n",
       "    <tr>\n",
       "      <th id=\"T_0b6b4_level0_row16\" class=\"row_heading level0 row16\" >2024-04</th>\n",
       "      <td id=\"T_0b6b4_row16_col0\" class=\"data row16 col0\" >100.00</td>\n",
       "      <td id=\"T_0b6b4_row16_col1\" class=\"data row16 col1\" >3.95</td>\n",
       "      <td id=\"T_0b6b4_row16_col2\" class=\"data row16 col2\" >2.25</td>\n",
       "      <td id=\"T_0b6b4_row16_col3\" class=\"data row16 col3\" >2.25</td>\n",
       "      <td id=\"T_0b6b4_row16_col4\" class=\"data row16 col4\" >1.70</td>\n",
       "      <td id=\"T_0b6b4_row16_col5\" class=\"data row16 col5\" >0.35</td>\n",
       "      <td id=\"T_0b6b4_row16_col6\" class=\"data row16 col6\" >nan</td>\n",
       "      <td id=\"T_0b6b4_row16_col7\" class=\"data row16 col7\" >nan</td>\n",
       "      <td id=\"T_0b6b4_row16_col8\" class=\"data row16 col8\" >nan</td>\n",
       "      <td id=\"T_0b6b4_row16_col9\" class=\"data row16 col9\" >nan</td>\n",
       "      <td id=\"T_0b6b4_row16_col10\" class=\"data row16 col10\" >nan</td>\n",
       "    </tr>\n",
       "    <tr>\n",
       "      <th id=\"T_0b6b4_level0_row17\" class=\"row_heading level0 row17\" >2024-05</th>\n",
       "      <td id=\"T_0b6b4_row17_col0\" class=\"data row17 col0\" >100.00</td>\n",
       "      <td id=\"T_0b6b4_row17_col1\" class=\"data row17 col1\" >3.88</td>\n",
       "      <td id=\"T_0b6b4_row17_col2\" class=\"data row17 col2\" >2.56</td>\n",
       "      <td id=\"T_0b6b4_row17_col3\" class=\"data row17 col3\" >1.89</td>\n",
       "      <td id=\"T_0b6b4_row17_col4\" class=\"data row17 col4\" >0.57</td>\n",
       "      <td id=\"T_0b6b4_row17_col5\" class=\"data row17 col5\" >nan</td>\n",
       "      <td id=\"T_0b6b4_row17_col6\" class=\"data row17 col6\" >nan</td>\n",
       "      <td id=\"T_0b6b4_row17_col7\" class=\"data row17 col7\" >nan</td>\n",
       "      <td id=\"T_0b6b4_row17_col8\" class=\"data row17 col8\" >nan</td>\n",
       "      <td id=\"T_0b6b4_row17_col9\" class=\"data row17 col9\" >nan</td>\n",
       "      <td id=\"T_0b6b4_row17_col10\" class=\"data row17 col10\" >nan</td>\n",
       "    </tr>\n",
       "    <tr>\n",
       "      <th id=\"T_0b6b4_level0_row18\" class=\"row_heading level0 row18\" >2024-06</th>\n",
       "      <td id=\"T_0b6b4_row18_col0\" class=\"data row18 col0\" >100.00</td>\n",
       "      <td id=\"T_0b6b4_row18_col1\" class=\"data row18 col1\" >5.43</td>\n",
       "      <td id=\"T_0b6b4_row18_col2\" class=\"data row18 col2\" >3.12</td>\n",
       "      <td id=\"T_0b6b4_row18_col3\" class=\"data row18 col3\" >0.72</td>\n",
       "      <td id=\"T_0b6b4_row18_col4\" class=\"data row18 col4\" >nan</td>\n",
       "      <td id=\"T_0b6b4_row18_col5\" class=\"data row18 col5\" >nan</td>\n",
       "      <td id=\"T_0b6b4_row18_col6\" class=\"data row18 col6\" >nan</td>\n",
       "      <td id=\"T_0b6b4_row18_col7\" class=\"data row18 col7\" >nan</td>\n",
       "      <td id=\"T_0b6b4_row18_col8\" class=\"data row18 col8\" >nan</td>\n",
       "      <td id=\"T_0b6b4_row18_col9\" class=\"data row18 col9\" >nan</td>\n",
       "      <td id=\"T_0b6b4_row18_col10\" class=\"data row18 col10\" >nan</td>\n",
       "    </tr>\n",
       "    <tr>\n",
       "      <th id=\"T_0b6b4_level0_row19\" class=\"row_heading level0 row19\" >2024-07</th>\n",
       "      <td id=\"T_0b6b4_row19_col0\" class=\"data row19 col0\" >100.00</td>\n",
       "      <td id=\"T_0b6b4_row19_col1\" class=\"data row19 col1\" >5.49</td>\n",
       "      <td id=\"T_0b6b4_row19_col2\" class=\"data row19 col2\" >0.92</td>\n",
       "      <td id=\"T_0b6b4_row19_col3\" class=\"data row19 col3\" >nan</td>\n",
       "      <td id=\"T_0b6b4_row19_col4\" class=\"data row19 col4\" >nan</td>\n",
       "      <td id=\"T_0b6b4_row19_col5\" class=\"data row19 col5\" >nan</td>\n",
       "      <td id=\"T_0b6b4_row19_col6\" class=\"data row19 col6\" >nan</td>\n",
       "      <td id=\"T_0b6b4_row19_col7\" class=\"data row19 col7\" >nan</td>\n",
       "      <td id=\"T_0b6b4_row19_col8\" class=\"data row19 col8\" >nan</td>\n",
       "      <td id=\"T_0b6b4_row19_col9\" class=\"data row19 col9\" >nan</td>\n",
       "      <td id=\"T_0b6b4_row19_col10\" class=\"data row19 col10\" >nan</td>\n",
       "    </tr>\n",
       "    <tr>\n",
       "      <th id=\"T_0b6b4_level0_row20\" class=\"row_heading level0 row20\" >2024-08</th>\n",
       "      <td id=\"T_0b6b4_row20_col0\" class=\"data row20 col0\" >100.00</td>\n",
       "      <td id=\"T_0b6b4_row20_col1\" class=\"data row20 col1\" >2.59</td>\n",
       "      <td id=\"T_0b6b4_row20_col2\" class=\"data row20 col2\" >nan</td>\n",
       "      <td id=\"T_0b6b4_row20_col3\" class=\"data row20 col3\" >nan</td>\n",
       "      <td id=\"T_0b6b4_row20_col4\" class=\"data row20 col4\" >nan</td>\n",
       "      <td id=\"T_0b6b4_row20_col5\" class=\"data row20 col5\" >nan</td>\n",
       "      <td id=\"T_0b6b4_row20_col6\" class=\"data row20 col6\" >nan</td>\n",
       "      <td id=\"T_0b6b4_row20_col7\" class=\"data row20 col7\" >nan</td>\n",
       "      <td id=\"T_0b6b4_row20_col8\" class=\"data row20 col8\" >nan</td>\n",
       "      <td id=\"T_0b6b4_row20_col9\" class=\"data row20 col9\" >nan</td>\n",
       "      <td id=\"T_0b6b4_row20_col10\" class=\"data row20 col10\" >nan</td>\n",
       "    </tr>\n",
       "    <tr>\n",
       "      <th id=\"T_0b6b4_level0_row21\" class=\"row_heading level0 row21\" >2024-09</th>\n",
       "      <td id=\"T_0b6b4_row21_col0\" class=\"data row21 col0\" >100.00</td>\n",
       "      <td id=\"T_0b6b4_row21_col1\" class=\"data row21 col1\" >nan</td>\n",
       "      <td id=\"T_0b6b4_row21_col2\" class=\"data row21 col2\" >nan</td>\n",
       "      <td id=\"T_0b6b4_row21_col3\" class=\"data row21 col3\" >nan</td>\n",
       "      <td id=\"T_0b6b4_row21_col4\" class=\"data row21 col4\" >nan</td>\n",
       "      <td id=\"T_0b6b4_row21_col5\" class=\"data row21 col5\" >nan</td>\n",
       "      <td id=\"T_0b6b4_row21_col6\" class=\"data row21 col6\" >nan</td>\n",
       "      <td id=\"T_0b6b4_row21_col7\" class=\"data row21 col7\" >nan</td>\n",
       "      <td id=\"T_0b6b4_row21_col8\" class=\"data row21 col8\" >nan</td>\n",
       "      <td id=\"T_0b6b4_row21_col9\" class=\"data row21 col9\" >nan</td>\n",
       "      <td id=\"T_0b6b4_row21_col10\" class=\"data row21 col10\" >nan</td>\n",
       "    </tr>\n",
       "  </tbody>\n",
       "</table>\n"
      ],
      "text/plain": [
       "<pandas.io.formats.style.Styler at 0x28b2973ba10>"
      ]
     },
     "execution_count": 239,
     "metadata": {},
     "output_type": "execute_result"
    }
   ],
   "source": [
    "styled_cohort"
   ]
  },
  {
   "cell_type": "code",
   "execution_count": 240,
   "id": "b9f10ae9-bf19-4c41-8fd1-cea50f00a999",
   "metadata": {},
   "outputs": [],
   "source": [
    "# Convert 'created_at' to datetime\n",
    "df_items['created_at'] = pd.to_datetime(df_items['created_at'])\n",
    "\n",
    "# Step 1: Create cohort by identifying first purchase date\n",
    "df_items['cohort'] = df_items.groupby('customer_id')['created_at'].transform('min')\n",
    "\n",
    "# Step 2: Extract cohort year and month (without time)\n",
    "df_items['cohort_year_month'] = df_items['cohort'].dt.to_period('M')\n",
    "\n",
    "# Step 3: Extract purchase year and month (without time)\n",
    "df_items['purchase_year_month'] = df_items['created_at'].dt.to_period('M')\n",
    "\n",
    "# Step 4: Calculate the cohort index (the number of months between the cohort and the purchase)\n",
    "df_items['cohort_index'] = df_items.apply(\n",
    "    lambda row: (row['purchase_year_month'] - row['cohort_year_month']).n if pd.notna(row['purchase_year_month']) and pd.notna(row['cohort_year_month']) else None,\n",
    "    axis=1\n",
    ")\n",
    "\n",
    "# Convert cohort_index to integers\n",
    "df_items['cohort_index'] = df_items['cohort_index'].astype('Int64')\n",
    "\n",
    "# Step 5: Group by cohort and cohort index and count unique customers\n",
    "cohort_data = df_items.groupby(['cohort_year_month', 'cohort_index'])['customer_id'].nunique().reset_index()\n",
    "\n",
    "# Step 6: Pivot the cohort_data to create a matrix for analysis\n",
    "cohort_pivot = cohort_data.pivot(index='cohort_year_month', columns='cohort_index', values='customer_id')\n",
    "\n",
    "# Step 7: Calculate the percentage of customers in each cohort index relative to the 0 period\n",
    "cohort_pivot_percentage = cohort_pivot.div(cohort_pivot[0], axis=0) * 100\n",
    "\n",
    "# Step 8: Select only the first 10 periods\n",
    "cohort_pivot_percentage = cohort_pivot_percentage.iloc[:, :11]  # Select first 10 periods plus the 0 period\n",
    "\n",
    "# Step 9: Round the values to 2 decimal places\n",
    "cohort_pivot_percentage = cohort_pivot_percentage.round(2)\n",
    "\n",
    "# Step 10: Limit the cohort to only include from Dec 2022 to Sep 2024\n",
    "cohort_pivot_percentage = cohort_pivot_percentage.loc[\n",
    "    (cohort_pivot_percentage.index >= '2022-12') & \n",
    "    (cohort_pivot_percentage.index <= '2024-09')\n",
    "]\n",
    "\n",
    "# Step 11: Apply conditional formatting to highlight min and max values\n",
    "def highlight_min_max(s):\n",
    "    is_min = s == s.min()\n",
    "    is_max = s == s.max()\n",
    "    return ['background-color: yellow' if v else 'background-color: lightgreen' if is_max.iloc[i] else '' for i, v in enumerate(is_min)]\n",
    "\n",
    "# Step 12: Format the DataFrame to display with 2 decimal places\n",
    "styled_cohort_buyers = cohort_pivot_percentage.style \\\n",
    "    .apply(highlight_min_max) \\\n",
    "    .format(\"{:.2f}\")  # Format to 2 decimal places"
   ]
  },
  {
   "cell_type": "code",
   "execution_count": 241,
   "id": "7f2f28fa-9d05-4fd4-b69e-0b823dda8a17",
   "metadata": {},
   "outputs": [
    {
     "data": {
      "text/html": [
       "<style type=\"text/css\">\n",
       "#T_2d5e9_row0_col0, #T_2d5e9_row1_col0, #T_2d5e9_row2_col0, #T_2d5e9_row2_col9, #T_2d5e9_row2_col10, #T_2d5e9_row3_col0, #T_2d5e9_row4_col0, #T_2d5e9_row5_col0, #T_2d5e9_row6_col0, #T_2d5e9_row7_col0, #T_2d5e9_row8_col0, #T_2d5e9_row8_col4, #T_2d5e9_row8_col5, #T_2d5e9_row9_col0, #T_2d5e9_row10_col0, #T_2d5e9_row11_col0, #T_2d5e9_row12_col0, #T_2d5e9_row12_col9, #T_2d5e9_row13_col0, #T_2d5e9_row13_col7, #T_2d5e9_row13_col8, #T_2d5e9_row14_col0, #T_2d5e9_row15_col0, #T_2d5e9_row15_col6, #T_2d5e9_row16_col0, #T_2d5e9_row17_col0, #T_2d5e9_row18_col0, #T_2d5e9_row18_col3, #T_2d5e9_row19_col0, #T_2d5e9_row19_col2, #T_2d5e9_row20_col0, #T_2d5e9_row20_col1, #T_2d5e9_row21_col0 {\n",
       "  background-color: yellow;\n",
       "}\n",
       "#T_2d5e9_row1_col8, #T_2d5e9_row3_col4, #T_2d5e9_row9_col9, #T_2d5e9_row10_col7, #T_2d5e9_row10_col10, #T_2d5e9_row12_col5, #T_2d5e9_row12_col6, #T_2d5e9_row16_col3, #T_2d5e9_row17_col2, #T_2d5e9_row18_col1 {\n",
       "  background-color: lightgreen;\n",
       "}\n",
       "</style>\n",
       "<table id=\"T_2d5e9\">\n",
       "  <thead>\n",
       "    <tr>\n",
       "      <th class=\"index_name level0\" >cohort_index</th>\n",
       "      <th id=\"T_2d5e9_level0_col0\" class=\"col_heading level0 col0\" >0</th>\n",
       "      <th id=\"T_2d5e9_level0_col1\" class=\"col_heading level0 col1\" >1</th>\n",
       "      <th id=\"T_2d5e9_level0_col2\" class=\"col_heading level0 col2\" >2</th>\n",
       "      <th id=\"T_2d5e9_level0_col3\" class=\"col_heading level0 col3\" >3</th>\n",
       "      <th id=\"T_2d5e9_level0_col4\" class=\"col_heading level0 col4\" >4</th>\n",
       "      <th id=\"T_2d5e9_level0_col5\" class=\"col_heading level0 col5\" >5</th>\n",
       "      <th id=\"T_2d5e9_level0_col6\" class=\"col_heading level0 col6\" >6</th>\n",
       "      <th id=\"T_2d5e9_level0_col7\" class=\"col_heading level0 col7\" >7</th>\n",
       "      <th id=\"T_2d5e9_level0_col8\" class=\"col_heading level0 col8\" >8</th>\n",
       "      <th id=\"T_2d5e9_level0_col9\" class=\"col_heading level0 col9\" >9</th>\n",
       "      <th id=\"T_2d5e9_level0_col10\" class=\"col_heading level0 col10\" >10</th>\n",
       "    </tr>\n",
       "    <tr>\n",
       "      <th class=\"index_name level0\" >cohort_year_month</th>\n",
       "      <th class=\"blank col0\" >&nbsp;</th>\n",
       "      <th class=\"blank col1\" >&nbsp;</th>\n",
       "      <th class=\"blank col2\" >&nbsp;</th>\n",
       "      <th class=\"blank col3\" >&nbsp;</th>\n",
       "      <th class=\"blank col4\" >&nbsp;</th>\n",
       "      <th class=\"blank col5\" >&nbsp;</th>\n",
       "      <th class=\"blank col6\" >&nbsp;</th>\n",
       "      <th class=\"blank col7\" >&nbsp;</th>\n",
       "      <th class=\"blank col8\" >&nbsp;</th>\n",
       "      <th class=\"blank col9\" >&nbsp;</th>\n",
       "      <th class=\"blank col10\" >&nbsp;</th>\n",
       "    </tr>\n",
       "  </thead>\n",
       "  <tbody>\n",
       "    <tr>\n",
       "      <th id=\"T_2d5e9_level0_row0\" class=\"row_heading level0 row0\" >2022-12</th>\n",
       "      <td id=\"T_2d5e9_row0_col0\" class=\"data row0 col0\" >100.00</td>\n",
       "      <td id=\"T_2d5e9_row0_col1\" class=\"data row0 col1\" >19.44</td>\n",
       "      <td id=\"T_2d5e9_row0_col2\" class=\"data row0 col2\" >1.85</td>\n",
       "      <td id=\"T_2d5e9_row0_col3\" class=\"data row0 col3\" >2.78</td>\n",
       "      <td id=\"T_2d5e9_row0_col4\" class=\"data row0 col4\" >1.85</td>\n",
       "      <td id=\"T_2d5e9_row0_col5\" class=\"data row0 col5\" >nan</td>\n",
       "      <td id=\"T_2d5e9_row0_col6\" class=\"data row0 col6\" >0.93</td>\n",
       "      <td id=\"T_2d5e9_row0_col7\" class=\"data row0 col7\" >1.85</td>\n",
       "      <td id=\"T_2d5e9_row0_col8\" class=\"data row0 col8\" >2.78</td>\n",
       "      <td id=\"T_2d5e9_row0_col9\" class=\"data row0 col9\" >2.78</td>\n",
       "      <td id=\"T_2d5e9_row0_col10\" class=\"data row0 col10\" >3.70</td>\n",
       "    </tr>\n",
       "    <tr>\n",
       "      <th id=\"T_2d5e9_level0_row1\" class=\"row_heading level0 row1\" >2023-01</th>\n",
       "      <td id=\"T_2d5e9_row1_col0\" class=\"data row1 col0\" >100.00</td>\n",
       "      <td id=\"T_2d5e9_row1_col1\" class=\"data row1 col1\" >21.30</td>\n",
       "      <td id=\"T_2d5e9_row1_col2\" class=\"data row1 col2\" >4.63</td>\n",
       "      <td id=\"T_2d5e9_row1_col3\" class=\"data row1 col3\" >2.78</td>\n",
       "      <td id=\"T_2d5e9_row1_col4\" class=\"data row1 col4\" >2.78</td>\n",
       "      <td id=\"T_2d5e9_row1_col5\" class=\"data row1 col5\" >4.63</td>\n",
       "      <td id=\"T_2d5e9_row1_col6\" class=\"data row1 col6\" >2.78</td>\n",
       "      <td id=\"T_2d5e9_row1_col7\" class=\"data row1 col7\" >3.70</td>\n",
       "      <td id=\"T_2d5e9_row1_col8\" class=\"data row1 col8\" >4.63</td>\n",
       "      <td id=\"T_2d5e9_row1_col9\" class=\"data row1 col9\" >2.78</td>\n",
       "      <td id=\"T_2d5e9_row1_col10\" class=\"data row1 col10\" >1.85</td>\n",
       "    </tr>\n",
       "    <tr>\n",
       "      <th id=\"T_2d5e9_level0_row2\" class=\"row_heading level0 row2\" >2023-02</th>\n",
       "      <td id=\"T_2d5e9_row2_col0\" class=\"data row2 col0\" >100.00</td>\n",
       "      <td id=\"T_2d5e9_row2_col1\" class=\"data row2 col1\" >13.74</td>\n",
       "      <td id=\"T_2d5e9_row2_col2\" class=\"data row2 col2\" >4.95</td>\n",
       "      <td id=\"T_2d5e9_row2_col3\" class=\"data row2 col3\" >3.85</td>\n",
       "      <td id=\"T_2d5e9_row2_col4\" class=\"data row2 col4\" >2.20</td>\n",
       "      <td id=\"T_2d5e9_row2_col5\" class=\"data row2 col5\" >1.65</td>\n",
       "      <td id=\"T_2d5e9_row2_col6\" class=\"data row2 col6\" >1.65</td>\n",
       "      <td id=\"T_2d5e9_row2_col7\" class=\"data row2 col7\" >2.75</td>\n",
       "      <td id=\"T_2d5e9_row2_col8\" class=\"data row2 col8\" >1.65</td>\n",
       "      <td id=\"T_2d5e9_row2_col9\" class=\"data row2 col9\" >0.55</td>\n",
       "      <td id=\"T_2d5e9_row2_col10\" class=\"data row2 col10\" >1.10</td>\n",
       "    </tr>\n",
       "    <tr>\n",
       "      <th id=\"T_2d5e9_level0_row3\" class=\"row_heading level0 row3\" >2023-03</th>\n",
       "      <td id=\"T_2d5e9_row3_col0\" class=\"data row3 col0\" >100.00</td>\n",
       "      <td id=\"T_2d5e9_row3_col1\" class=\"data row3 col1\" >16.10</td>\n",
       "      <td id=\"T_2d5e9_row3_col2\" class=\"data row3 col2\" >4.49</td>\n",
       "      <td id=\"T_2d5e9_row3_col3\" class=\"data row3 col3\" >2.62</td>\n",
       "      <td id=\"T_2d5e9_row3_col4\" class=\"data row3 col4\" >5.24</td>\n",
       "      <td id=\"T_2d5e9_row3_col5\" class=\"data row3 col5\" >5.24</td>\n",
       "      <td id=\"T_2d5e9_row3_col6\" class=\"data row3 col6\" >3.75</td>\n",
       "      <td id=\"T_2d5e9_row3_col7\" class=\"data row3 col7\" >3.00</td>\n",
       "      <td id=\"T_2d5e9_row3_col8\" class=\"data row3 col8\" >4.12</td>\n",
       "      <td id=\"T_2d5e9_row3_col9\" class=\"data row3 col9\" >1.50</td>\n",
       "      <td id=\"T_2d5e9_row3_col10\" class=\"data row3 col10\" >3.37</td>\n",
       "    </tr>\n",
       "    <tr>\n",
       "      <th id=\"T_2d5e9_level0_row4\" class=\"row_heading level0 row4\" >2023-04</th>\n",
       "      <td id=\"T_2d5e9_row4_col0\" class=\"data row4 col0\" >100.00</td>\n",
       "      <td id=\"T_2d5e9_row4_col1\" class=\"data row4 col1\" >11.54</td>\n",
       "      <td id=\"T_2d5e9_row4_col2\" class=\"data row4 col2\" >3.21</td>\n",
       "      <td id=\"T_2d5e9_row4_col3\" class=\"data row4 col3\" >4.06</td>\n",
       "      <td id=\"T_2d5e9_row4_col4\" class=\"data row4 col4\" >3.21</td>\n",
       "      <td id=\"T_2d5e9_row4_col5\" class=\"data row4 col5\" >2.56</td>\n",
       "      <td id=\"T_2d5e9_row4_col6\" class=\"data row4 col6\" >1.92</td>\n",
       "      <td id=\"T_2d5e9_row4_col7\" class=\"data row4 col7\" >1.92</td>\n",
       "      <td id=\"T_2d5e9_row4_col8\" class=\"data row4 col8\" >1.28</td>\n",
       "      <td id=\"T_2d5e9_row4_col9\" class=\"data row4 col9\" >2.14</td>\n",
       "      <td id=\"T_2d5e9_row4_col10\" class=\"data row4 col10\" >3.21</td>\n",
       "    </tr>\n",
       "    <tr>\n",
       "      <th id=\"T_2d5e9_level0_row5\" class=\"row_heading level0 row5\" >2023-05</th>\n",
       "      <td id=\"T_2d5e9_row5_col0\" class=\"data row5 col0\" >100.00</td>\n",
       "      <td id=\"T_2d5e9_row5_col1\" class=\"data row5 col1\" >14.86</td>\n",
       "      <td id=\"T_2d5e9_row5_col2\" class=\"data row5 col2\" >2.59</td>\n",
       "      <td id=\"T_2d5e9_row5_col3\" class=\"data row5 col3\" >4.01</td>\n",
       "      <td id=\"T_2d5e9_row5_col4\" class=\"data row5 col4\" >3.07</td>\n",
       "      <td id=\"T_2d5e9_row5_col5\" class=\"data row5 col5\" >1.89</td>\n",
       "      <td id=\"T_2d5e9_row5_col6\" class=\"data row5 col6\" >2.12</td>\n",
       "      <td id=\"T_2d5e9_row5_col7\" class=\"data row5 col7\" >1.65</td>\n",
       "      <td id=\"T_2d5e9_row5_col8\" class=\"data row5 col8\" >1.42</td>\n",
       "      <td id=\"T_2d5e9_row5_col9\" class=\"data row5 col9\" >2.59</td>\n",
       "      <td id=\"T_2d5e9_row5_col10\" class=\"data row5 col10\" >2.12</td>\n",
       "    </tr>\n",
       "    <tr>\n",
       "      <th id=\"T_2d5e9_level0_row6\" class=\"row_heading level0 row6\" >2023-06</th>\n",
       "      <td id=\"T_2d5e9_row6_col0\" class=\"data row6 col0\" >100.00</td>\n",
       "      <td id=\"T_2d5e9_row6_col1\" class=\"data row6 col1\" >17.36</td>\n",
       "      <td id=\"T_2d5e9_row6_col2\" class=\"data row6 col2\" >4.68</td>\n",
       "      <td id=\"T_2d5e9_row6_col3\" class=\"data row6 col3\" >3.31</td>\n",
       "      <td id=\"T_2d5e9_row6_col4\" class=\"data row6 col4\" >2.20</td>\n",
       "      <td id=\"T_2d5e9_row6_col5\" class=\"data row6 col5\" >1.38</td>\n",
       "      <td id=\"T_2d5e9_row6_col6\" class=\"data row6 col6\" >0.83</td>\n",
       "      <td id=\"T_2d5e9_row6_col7\" class=\"data row6 col7\" >0.83</td>\n",
       "      <td id=\"T_2d5e9_row6_col8\" class=\"data row6 col8\" >3.03</td>\n",
       "      <td id=\"T_2d5e9_row6_col9\" class=\"data row6 col9\" >1.38</td>\n",
       "      <td id=\"T_2d5e9_row6_col10\" class=\"data row6 col10\" >2.48</td>\n",
       "    </tr>\n",
       "    <tr>\n",
       "      <th id=\"T_2d5e9_level0_row7\" class=\"row_heading level0 row7\" >2023-07</th>\n",
       "      <td id=\"T_2d5e9_row7_col0\" class=\"data row7 col0\" >100.00</td>\n",
       "      <td id=\"T_2d5e9_row7_col1\" class=\"data row7 col1\" >17.93</td>\n",
       "      <td id=\"T_2d5e9_row7_col2\" class=\"data row7 col2\" >2.99</td>\n",
       "      <td id=\"T_2d5e9_row7_col3\" class=\"data row7 col3\" >3.91</td>\n",
       "      <td id=\"T_2d5e9_row7_col4\" class=\"data row7 col4\" >3.22</td>\n",
       "      <td id=\"T_2d5e9_row7_col5\" class=\"data row7 col5\" >2.07</td>\n",
       "      <td id=\"T_2d5e9_row7_col6\" class=\"data row7 col6\" >2.30</td>\n",
       "      <td id=\"T_2d5e9_row7_col7\" class=\"data row7 col7\" >2.30</td>\n",
       "      <td id=\"T_2d5e9_row7_col8\" class=\"data row7 col8\" >2.76</td>\n",
       "      <td id=\"T_2d5e9_row7_col9\" class=\"data row7 col9\" >2.76</td>\n",
       "      <td id=\"T_2d5e9_row7_col10\" class=\"data row7 col10\" >2.99</td>\n",
       "    </tr>\n",
       "    <tr>\n",
       "      <th id=\"T_2d5e9_level0_row8\" class=\"row_heading level0 row8\" >2023-08</th>\n",
       "      <td id=\"T_2d5e9_row8_col0\" class=\"data row8 col0\" >100.00</td>\n",
       "      <td id=\"T_2d5e9_row8_col1\" class=\"data row8 col1\" >16.46</td>\n",
       "      <td id=\"T_2d5e9_row8_col2\" class=\"data row8 col2\" >5.06</td>\n",
       "      <td id=\"T_2d5e9_row8_col3\" class=\"data row8 col3\" >3.38</td>\n",
       "      <td id=\"T_2d5e9_row8_col4\" class=\"data row8 col4\" >1.69</td>\n",
       "      <td id=\"T_2d5e9_row8_col5\" class=\"data row8 col5\" >1.27</td>\n",
       "      <td id=\"T_2d5e9_row8_col6\" class=\"data row8 col6\" >2.53</td>\n",
       "      <td id=\"T_2d5e9_row8_col7\" class=\"data row8 col7\" >1.90</td>\n",
       "      <td id=\"T_2d5e9_row8_col8\" class=\"data row8 col8\" >1.69</td>\n",
       "      <td id=\"T_2d5e9_row8_col9\" class=\"data row8 col9\" >4.22</td>\n",
       "      <td id=\"T_2d5e9_row8_col10\" class=\"data row8 col10\" >2.53</td>\n",
       "    </tr>\n",
       "    <tr>\n",
       "      <th id=\"T_2d5e9_level0_row9\" class=\"row_heading level0 row9\" >2023-09</th>\n",
       "      <td id=\"T_2d5e9_row9_col0\" class=\"data row9 col0\" >100.00</td>\n",
       "      <td id=\"T_2d5e9_row9_col1\" class=\"data row9 col1\" >20.91</td>\n",
       "      <td id=\"T_2d5e9_row9_col2\" class=\"data row9 col2\" >5.32</td>\n",
       "      <td id=\"T_2d5e9_row9_col3\" class=\"data row9 col3\" >2.66</td>\n",
       "      <td id=\"T_2d5e9_row9_col4\" class=\"data row9 col4\" >3.42</td>\n",
       "      <td id=\"T_2d5e9_row9_col5\" class=\"data row9 col5\" >3.80</td>\n",
       "      <td id=\"T_2d5e9_row9_col6\" class=\"data row9 col6\" >3.80</td>\n",
       "      <td id=\"T_2d5e9_row9_col7\" class=\"data row9 col7\" >4.56</td>\n",
       "      <td id=\"T_2d5e9_row9_col8\" class=\"data row9 col8\" >3.80</td>\n",
       "      <td id=\"T_2d5e9_row9_col9\" class=\"data row9 col9\" >4.56</td>\n",
       "      <td id=\"T_2d5e9_row9_col10\" class=\"data row9 col10\" >2.28</td>\n",
       "    </tr>\n",
       "    <tr>\n",
       "      <th id=\"T_2d5e9_level0_row10\" class=\"row_heading level0 row10\" >2023-10</th>\n",
       "      <td id=\"T_2d5e9_row10_col0\" class=\"data row10 col0\" >100.00</td>\n",
       "      <td id=\"T_2d5e9_row10_col1\" class=\"data row10 col1\" >18.63</td>\n",
       "      <td id=\"T_2d5e9_row10_col2\" class=\"data row10 col2\" >4.18</td>\n",
       "      <td id=\"T_2d5e9_row10_col3\" class=\"data row10 col3\" >4.56</td>\n",
       "      <td id=\"T_2d5e9_row10_col4\" class=\"data row10 col4\" >3.42</td>\n",
       "      <td id=\"T_2d5e9_row10_col5\" class=\"data row10 col5\" >2.28</td>\n",
       "      <td id=\"T_2d5e9_row10_col6\" class=\"data row10 col6\" >4.94</td>\n",
       "      <td id=\"T_2d5e9_row10_col7\" class=\"data row10 col7\" >5.70</td>\n",
       "      <td id=\"T_2d5e9_row10_col8\" class=\"data row10 col8\" >3.04</td>\n",
       "      <td id=\"T_2d5e9_row10_col9\" class=\"data row10 col9\" >2.66</td>\n",
       "      <td id=\"T_2d5e9_row10_col10\" class=\"data row10 col10\" >4.18</td>\n",
       "    </tr>\n",
       "    <tr>\n",
       "      <th id=\"T_2d5e9_level0_row11\" class=\"row_heading level0 row11\" >2023-11</th>\n",
       "      <td id=\"T_2d5e9_row11_col0\" class=\"data row11 col0\" >100.00</td>\n",
       "      <td id=\"T_2d5e9_row11_col1\" class=\"data row11 col1\" >17.85</td>\n",
       "      <td id=\"T_2d5e9_row11_col2\" class=\"data row11 col2\" >4.38</td>\n",
       "      <td id=\"T_2d5e9_row11_col3\" class=\"data row11 col3\" >3.37</td>\n",
       "      <td id=\"T_2d5e9_row11_col4\" class=\"data row11 col4\" >4.04</td>\n",
       "      <td id=\"T_2d5e9_row11_col5\" class=\"data row11 col5\" >2.69</td>\n",
       "      <td id=\"T_2d5e9_row11_col6\" class=\"data row11 col6\" >5.72</td>\n",
       "      <td id=\"T_2d5e9_row11_col7\" class=\"data row11 col7\" >4.38</td>\n",
       "      <td id=\"T_2d5e9_row11_col8\" class=\"data row11 col8\" >4.38</td>\n",
       "      <td id=\"T_2d5e9_row11_col9\" class=\"data row11 col9\" >2.36</td>\n",
       "      <td id=\"T_2d5e9_row11_col10\" class=\"data row11 col10\" >2.02</td>\n",
       "    </tr>\n",
       "    <tr>\n",
       "      <th id=\"T_2d5e9_level0_row12\" class=\"row_heading level0 row12\" >2023-12</th>\n",
       "      <td id=\"T_2d5e9_row12_col0\" class=\"data row12 col0\" >100.00</td>\n",
       "      <td id=\"T_2d5e9_row12_col1\" class=\"data row12 col1\" >19.89</td>\n",
       "      <td id=\"T_2d5e9_row12_col2\" class=\"data row12 col2\" >3.31</td>\n",
       "      <td id=\"T_2d5e9_row12_col3\" class=\"data row12 col3\" >3.31</td>\n",
       "      <td id=\"T_2d5e9_row12_col4\" class=\"data row12 col4\" >2.76</td>\n",
       "      <td id=\"T_2d5e9_row12_col5\" class=\"data row12 col5\" >7.18</td>\n",
       "      <td id=\"T_2d5e9_row12_col6\" class=\"data row12 col6\" >6.08</td>\n",
       "      <td id=\"T_2d5e9_row12_col7\" class=\"data row12 col7\" >2.21</td>\n",
       "      <td id=\"T_2d5e9_row12_col8\" class=\"data row12 col8\" >2.76</td>\n",
       "      <td id=\"T_2d5e9_row12_col9\" class=\"data row12 col9\" >0.55</td>\n",
       "      <td id=\"T_2d5e9_row12_col10\" class=\"data row12 col10\" >nan</td>\n",
       "    </tr>\n",
       "    <tr>\n",
       "      <th id=\"T_2d5e9_level0_row13\" class=\"row_heading level0 row13\" >2024-01</th>\n",
       "      <td id=\"T_2d5e9_row13_col0\" class=\"data row13 col0\" >100.00</td>\n",
       "      <td id=\"T_2d5e9_row13_col1\" class=\"data row13 col1\" >17.88</td>\n",
       "      <td id=\"T_2d5e9_row13_col2\" class=\"data row13 col2\" >4.74</td>\n",
       "      <td id=\"T_2d5e9_row13_col3\" class=\"data row13 col3\" >5.47</td>\n",
       "      <td id=\"T_2d5e9_row13_col4\" class=\"data row13 col4\" >3.65</td>\n",
       "      <td id=\"T_2d5e9_row13_col5\" class=\"data row13 col5\" >1.82</td>\n",
       "      <td id=\"T_2d5e9_row13_col6\" class=\"data row13 col6\" >2.92</td>\n",
       "      <td id=\"T_2d5e9_row13_col7\" class=\"data row13 col7\" >0.73</td>\n",
       "      <td id=\"T_2d5e9_row13_col8\" class=\"data row13 col8\" >0.36</td>\n",
       "      <td id=\"T_2d5e9_row13_col9\" class=\"data row13 col9\" >nan</td>\n",
       "      <td id=\"T_2d5e9_row13_col10\" class=\"data row13 col10\" >nan</td>\n",
       "    </tr>\n",
       "    <tr>\n",
       "      <th id=\"T_2d5e9_level0_row14\" class=\"row_heading level0 row14\" >2024-02</th>\n",
       "      <td id=\"T_2d5e9_row14_col0\" class=\"data row14 col0\" >100.00</td>\n",
       "      <td id=\"T_2d5e9_row14_col1\" class=\"data row14 col1\" >19.76</td>\n",
       "      <td id=\"T_2d5e9_row14_col2\" class=\"data row14 col2\" >3.95</td>\n",
       "      <td id=\"T_2d5e9_row14_col3\" class=\"data row14 col3\" >4.86</td>\n",
       "      <td id=\"T_2d5e9_row14_col4\" class=\"data row14 col4\" >3.34</td>\n",
       "      <td id=\"T_2d5e9_row14_col5\" class=\"data row14 col5\" >1.82</td>\n",
       "      <td id=\"T_2d5e9_row14_col6\" class=\"data row14 col6\" >3.95</td>\n",
       "      <td id=\"T_2d5e9_row14_col7\" class=\"data row14 col7\" >1.52</td>\n",
       "      <td id=\"T_2d5e9_row14_col8\" class=\"data row14 col8\" >nan</td>\n",
       "      <td id=\"T_2d5e9_row14_col9\" class=\"data row14 col9\" >nan</td>\n",
       "      <td id=\"T_2d5e9_row14_col10\" class=\"data row14 col10\" >nan</td>\n",
       "    </tr>\n",
       "    <tr>\n",
       "      <th id=\"T_2d5e9_level0_row15\" class=\"row_heading level0 row15\" >2024-03</th>\n",
       "      <td id=\"T_2d5e9_row15_col0\" class=\"data row15 col0\" >100.00</td>\n",
       "      <td id=\"T_2d5e9_row15_col1\" class=\"data row15 col1\" >16.20</td>\n",
       "      <td id=\"T_2d5e9_row15_col2\" class=\"data row15 col2\" >5.28</td>\n",
       "      <td id=\"T_2d5e9_row15_col3\" class=\"data row15 col3\" >3.17</td>\n",
       "      <td id=\"T_2d5e9_row15_col4\" class=\"data row15 col4\" >3.52</td>\n",
       "      <td id=\"T_2d5e9_row15_col5\" class=\"data row15 col5\" >2.82</td>\n",
       "      <td id=\"T_2d5e9_row15_col6\" class=\"data row15 col6\" >0.70</td>\n",
       "      <td id=\"T_2d5e9_row15_col7\" class=\"data row15 col7\" >nan</td>\n",
       "      <td id=\"T_2d5e9_row15_col8\" class=\"data row15 col8\" >nan</td>\n",
       "      <td id=\"T_2d5e9_row15_col9\" class=\"data row15 col9\" >nan</td>\n",
       "      <td id=\"T_2d5e9_row15_col10\" class=\"data row15 col10\" >nan</td>\n",
       "    </tr>\n",
       "    <tr>\n",
       "      <th id=\"T_2d5e9_level0_row16\" class=\"row_heading level0 row16\" >2024-04</th>\n",
       "      <td id=\"T_2d5e9_row16_col0\" class=\"data row16 col0\" >100.00</td>\n",
       "      <td id=\"T_2d5e9_row16_col1\" class=\"data row16 col1\" >17.16</td>\n",
       "      <td id=\"T_2d5e9_row16_col2\" class=\"data row16 col2\" >6.27</td>\n",
       "      <td id=\"T_2d5e9_row16_col3\" class=\"data row16 col3\" >5.61</td>\n",
       "      <td id=\"T_2d5e9_row16_col4\" class=\"data row16 col4\" >2.97</td>\n",
       "      <td id=\"T_2d5e9_row16_col5\" class=\"data row16 col5\" >2.97</td>\n",
       "      <td id=\"T_2d5e9_row16_col6\" class=\"data row16 col6\" >nan</td>\n",
       "      <td id=\"T_2d5e9_row16_col7\" class=\"data row16 col7\" >nan</td>\n",
       "      <td id=\"T_2d5e9_row16_col8\" class=\"data row16 col8\" >nan</td>\n",
       "      <td id=\"T_2d5e9_row16_col9\" class=\"data row16 col9\" >nan</td>\n",
       "      <td id=\"T_2d5e9_row16_col10\" class=\"data row16 col10\" >nan</td>\n",
       "    </tr>\n",
       "    <tr>\n",
       "      <th id=\"T_2d5e9_level0_row17\" class=\"row_heading level0 row17\" >2024-05</th>\n",
       "      <td id=\"T_2d5e9_row17_col0\" class=\"data row17 col0\" >100.00</td>\n",
       "      <td id=\"T_2d5e9_row17_col1\" class=\"data row17 col1\" >17.36</td>\n",
       "      <td id=\"T_2d5e9_row17_col2\" class=\"data row17 col2\" >6.99</td>\n",
       "      <td id=\"T_2d5e9_row17_col3\" class=\"data row17 col3\" >3.89</td>\n",
       "      <td id=\"T_2d5e9_row17_col4\" class=\"data row17 col4\" >1.81</td>\n",
       "      <td id=\"T_2d5e9_row17_col5\" class=\"data row17 col5\" >nan</td>\n",
       "      <td id=\"T_2d5e9_row17_col6\" class=\"data row17 col6\" >nan</td>\n",
       "      <td id=\"T_2d5e9_row17_col7\" class=\"data row17 col7\" >nan</td>\n",
       "      <td id=\"T_2d5e9_row17_col8\" class=\"data row17 col8\" >nan</td>\n",
       "      <td id=\"T_2d5e9_row17_col9\" class=\"data row17 col9\" >nan</td>\n",
       "      <td id=\"T_2d5e9_row17_col10\" class=\"data row17 col10\" >nan</td>\n",
       "    </tr>\n",
       "    <tr>\n",
       "      <th id=\"T_2d5e9_level0_row18\" class=\"row_heading level0 row18\" >2024-06</th>\n",
       "      <td id=\"T_2d5e9_row18_col0\" class=\"data row18 col0\" >100.00</td>\n",
       "      <td id=\"T_2d5e9_row18_col1\" class=\"data row18 col1\" >21.62</td>\n",
       "      <td id=\"T_2d5e9_row18_col2\" class=\"data row18 col2\" >5.71</td>\n",
       "      <td id=\"T_2d5e9_row18_col3\" class=\"data row18 col3\" >1.80</td>\n",
       "      <td id=\"T_2d5e9_row18_col4\" class=\"data row18 col4\" >nan</td>\n",
       "      <td id=\"T_2d5e9_row18_col5\" class=\"data row18 col5\" >nan</td>\n",
       "      <td id=\"T_2d5e9_row18_col6\" class=\"data row18 col6\" >nan</td>\n",
       "      <td id=\"T_2d5e9_row18_col7\" class=\"data row18 col7\" >nan</td>\n",
       "      <td id=\"T_2d5e9_row18_col8\" class=\"data row18 col8\" >nan</td>\n",
       "      <td id=\"T_2d5e9_row18_col9\" class=\"data row18 col9\" >nan</td>\n",
       "      <td id=\"T_2d5e9_row18_col10\" class=\"data row18 col10\" >nan</td>\n",
       "    </tr>\n",
       "    <tr>\n",
       "      <th id=\"T_2d5e9_level0_row19\" class=\"row_heading level0 row19\" >2024-07</th>\n",
       "      <td id=\"T_2d5e9_row19_col0\" class=\"data row19 col0\" >100.00</td>\n",
       "      <td id=\"T_2d5e9_row19_col1\" class=\"data row19 col1\" >14.21</td>\n",
       "      <td id=\"T_2d5e9_row19_col2\" class=\"data row19 col2\" >1.29</td>\n",
       "      <td id=\"T_2d5e9_row19_col3\" class=\"data row19 col3\" >nan</td>\n",
       "      <td id=\"T_2d5e9_row19_col4\" class=\"data row19 col4\" >nan</td>\n",
       "      <td id=\"T_2d5e9_row19_col5\" class=\"data row19 col5\" >nan</td>\n",
       "      <td id=\"T_2d5e9_row19_col6\" class=\"data row19 col6\" >nan</td>\n",
       "      <td id=\"T_2d5e9_row19_col7\" class=\"data row19 col7\" >nan</td>\n",
       "      <td id=\"T_2d5e9_row19_col8\" class=\"data row19 col8\" >nan</td>\n",
       "      <td id=\"T_2d5e9_row19_col9\" class=\"data row19 col9\" >nan</td>\n",
       "      <td id=\"T_2d5e9_row19_col10\" class=\"data row19 col10\" >nan</td>\n",
       "    </tr>\n",
       "    <tr>\n",
       "      <th id=\"T_2d5e9_level0_row20\" class=\"row_heading level0 row20\" >2024-08</th>\n",
       "      <td id=\"T_2d5e9_row20_col0\" class=\"data row20 col0\" >100.00</td>\n",
       "      <td id=\"T_2d5e9_row20_col1\" class=\"data row20 col1\" >10.65</td>\n",
       "      <td id=\"T_2d5e9_row20_col2\" class=\"data row20 col2\" >nan</td>\n",
       "      <td id=\"T_2d5e9_row20_col3\" class=\"data row20 col3\" >nan</td>\n",
       "      <td id=\"T_2d5e9_row20_col4\" class=\"data row20 col4\" >nan</td>\n",
       "      <td id=\"T_2d5e9_row20_col5\" class=\"data row20 col5\" >nan</td>\n",
       "      <td id=\"T_2d5e9_row20_col6\" class=\"data row20 col6\" >nan</td>\n",
       "      <td id=\"T_2d5e9_row20_col7\" class=\"data row20 col7\" >nan</td>\n",
       "      <td id=\"T_2d5e9_row20_col8\" class=\"data row20 col8\" >nan</td>\n",
       "      <td id=\"T_2d5e9_row20_col9\" class=\"data row20 col9\" >nan</td>\n",
       "      <td id=\"T_2d5e9_row20_col10\" class=\"data row20 col10\" >nan</td>\n",
       "    </tr>\n",
       "    <tr>\n",
       "      <th id=\"T_2d5e9_level0_row21\" class=\"row_heading level0 row21\" >2024-09</th>\n",
       "      <td id=\"T_2d5e9_row21_col0\" class=\"data row21 col0\" >100.00</td>\n",
       "      <td id=\"T_2d5e9_row21_col1\" class=\"data row21 col1\" >nan</td>\n",
       "      <td id=\"T_2d5e9_row21_col2\" class=\"data row21 col2\" >nan</td>\n",
       "      <td id=\"T_2d5e9_row21_col3\" class=\"data row21 col3\" >nan</td>\n",
       "      <td id=\"T_2d5e9_row21_col4\" class=\"data row21 col4\" >nan</td>\n",
       "      <td id=\"T_2d5e9_row21_col5\" class=\"data row21 col5\" >nan</td>\n",
       "      <td id=\"T_2d5e9_row21_col6\" class=\"data row21 col6\" >nan</td>\n",
       "      <td id=\"T_2d5e9_row21_col7\" class=\"data row21 col7\" >nan</td>\n",
       "      <td id=\"T_2d5e9_row21_col8\" class=\"data row21 col8\" >nan</td>\n",
       "      <td id=\"T_2d5e9_row21_col9\" class=\"data row21 col9\" >nan</td>\n",
       "      <td id=\"T_2d5e9_row21_col10\" class=\"data row21 col10\" >nan</td>\n",
       "    </tr>\n",
       "  </tbody>\n",
       "</table>\n"
      ],
      "text/plain": [
       "<pandas.io.formats.style.Styler at 0x28b008aeab0>"
      ]
     },
     "execution_count": 241,
     "metadata": {},
     "output_type": "execute_result"
    }
   ],
   "source": [
    "styled_cohort_buyers"
   ]
  },
  {
   "cell_type": "markdown",
   "id": "f8e02dba-e8dd-4f0f-bac6-8fe1c8762c00",
   "metadata": {},
   "source": [
    "# 11. Are we engaging customer to supply inventory"
   ]
  },
  {
   "cell_type": "markdown",
   "id": "a9f40ced-c518-44c0-bce6-3a524423f618",
   "metadata": {},
   "source": [
    "How many of these customers sold back to Laps.com after/before a purchase; meaning did they make their own equipment for sale"
   ]
  },
  {
   "cell_type": "code",
   "execution_count": 242,
   "id": "5c41dd86-c280-4e78-a1f1-6754a1c31db9",
   "metadata": {},
   "outputs": [
    {
     "name": "stdout",
     "output_type": "stream",
     "text": [
      "Number of customers appeared among sellers before becoming buyers: 8039\n",
      "Number of customers appeared among buyers before becoming sellers: 2434\n"
     ]
    },
    {
     "name": "stderr",
     "output_type": "stream",
     "text": [
      "C:\\Users\\user\\AppData\\Local\\Temp\\ipykernel_11044\\144558822.py:29: FutureWarning: \n",
      "\n",
      "Passing `palette` without assigning `hue` is deprecated and will be removed in v0.14.0. Assign the `y` variable to `hue` and set `legend=False` for the same effect.\n",
      "\n",
      "  sns.barplot(x=counts, y=labels, palette='viridis')\n"
     ]
    },
    {
     "data": {
      "text/plain": [
       "Text(0.5, 1.0, 'Customer Appearance Order Between Orders and Items')"
      ]
     },
     "execution_count": 242,
     "metadata": {},
     "output_type": "execute_result"
    },
    {
     "data": {
      "image/png": "[encoded data removed]",
      "text/plain": [
       "<Figure size 800x500 with 1 Axes>"
      ]
     },
     "metadata": {},
     "output_type": "display_data"
    }
   ],
   "source": [
    "# Step 1: Get the first appearance date of each customer in both datasets\n",
    "first_orders = df_orders.groupby('customer_id')['created_at'].min().reset_index()\n",
    "first_orders.columns = ['customer_id', 'first_order_date']\n",
    "\n",
    "first_items = df_items.groupby('customer_id')['created_at'].min().reset_index()\n",
    "first_items.columns = ['customer_id', 'first_item_date']\n",
    "\n",
    "# Step 2: Merge DataFrames to find the appearance order\n",
    "merged = pd.merge(first_orders, first_items, on='customer_id', how='outer')\n",
    "\n",
    "# Step 3: Determine the order of appearance\n",
    "merged['appeared_in_orders_first'] = merged['first_order_date'] < merged['first_item_date']\n",
    "merged['appeared_in_items_first'] = merged['first_item_date'] < merged['first_order_date']\n",
    "\n",
    "# Step 4: Count the unique customers based on the conditions\n",
    "customers_orders_first = merged['appeared_in_orders_first'].sum()\n",
    "customers_items_first = merged['appeared_in_items_first'].sum()\n",
    "\n",
    "# Result\n",
    "print(\"Number of customers appeared among sellers before becoming buyers:\", customers_orders_first)\n",
    "print(\"Number of customers appeared among buyers before becoming sellers:\", customers_items_first)\n",
    "\n",
    "# Step 5: Prepare data for visualization\n",
    "labels = ['Customers That are Sellers First', 'Customers That are Buyers First']\n",
    "counts = [customers_orders_first, customers_items_first]\n",
    "\n",
    "# Step 6: Create a bar plot\n",
    "plt.figure(figsize=(8, 5))\n",
    "sns.barplot(x=counts, y=labels, palette='viridis')\n",
    "\n",
    "# Add labels and title\n",
    "plt.xlabel('Count of Customers')\n",
    "plt.title('Customer Appearance Order Between Orders and Items')"
   ]
  },
  {
   "cell_type": "code",
   "execution_count": 243,
   "id": "7bdf548a-1831-4df5-aa62-9d9edeed7171",
   "metadata": {},
   "outputs": [
    {
     "data": {
      "text/plain": [
       "<Figure size 640x480 with 0 Axes>"
      ]
     },
     "metadata": {},
     "output_type": "display_data"
    }
   ],
   "source": [
    "plt.savefig('first_came_as.png', dpi=300, bbox_inches='tight')\n",
    "plt.show()"
   ]
  },
  {
   "cell_type": "markdown",
   "id": "c01676e7-7e2c-44fb-9b43-9bfca70718b5",
   "metadata": {},
   "source": [
    "**What percentage of purchases were driven by coupons**"
   ]
  },
  {
   "cell_type": "code",
   "execution_count": 244,
   "id": "54ce8bef-a8ad-4860-84d5-d87053aac71c",
   "metadata": {},
   "outputs": [
    {
     "name": "stdout",
     "output_type": "stream",
     "text": [
      "Total Orders: 261287\n",
      "Orders with Coupons: 1386\n",
      "Share of Orders with Coupons: 0.53%\n"
     ]
    },
    {
     "name": "stderr",
     "output_type": "stream",
     "text": [
      "C:\\Users\\user\\AppData\\Local\\Temp\\ipykernel_11044\\3592388292.py:21: FutureWarning: \n",
      "\n",
      "Passing `palette` without assigning `hue` is deprecated and will be removed in v0.14.0. Assign the `y` variable to `hue` and set `legend=False` for the same effect.\n",
      "\n",
      "  sns.barplot(x=counts, y=labels, palette='pastel')\n"
     ]
    },
    {
     "data": {
      "text/plain": [
       "Text(0.5, 1.0, 'Share of Orders with Coupons')"
      ]
     },
     "execution_count": 244,
     "metadata": {},
     "output_type": "execute_result"
    },
    {
     "data": {
      "image/png": "[encoded data removed]",
      "text/plain": [
       "<Figure size 800x500 with 1 Axes>"
      ]
     },
     "metadata": {},
     "output_type": "display_data"
    }
   ],
   "source": [
    "# Calculate the total number of orders\n",
    "total_orders = df_orders.shape[0]\n",
    "\n",
    "# Calculate the number of orders with coupons\n",
    "orders_with_coupons = df_orders['code'].notnull().sum()\n",
    "\n",
    "# Calculate the share of orders with coupons\n",
    "share_coupons = (orders_with_coupons / total_orders) * 100\n",
    "\n",
    "# Output the share\n",
    "print(f\"Total Orders: {total_orders}\")\n",
    "print(f\"Orders with Coupons: {orders_with_coupons}\")\n",
    "print(f\"Share of Orders with Coupons: {share_coupons:.2f}%\")\n",
    "\n",
    "# Prepare data for visualization\n",
    "labels = ['Orders with Coupons', 'Orders without Coupons']\n",
    "counts = [orders_with_coupons, total_orders - orders_with_coupons]\n",
    "\n",
    "# Create a bar plot\n",
    "plt.figure(figsize=(8, 5))\n",
    "sns.barplot(x=counts, y=labels, palette='pastel')\n",
    "\n",
    "# Add labels and title\n",
    "plt.xlabel('Count of Orders')\n",
    "plt.title('Share of Orders with Coupons')"
   ]
  },
  {
   "cell_type": "code",
   "execution_count": 245,
   "id": "2b7b3af6-fd52-40c6-94f1-02cc017b2e89",
   "metadata": {},
   "outputs": [
    {
     "data": {
      "text/plain": [
       "<Figure size 640x480 with 0 Axes>"
      ]
     },
     "metadata": {},
     "output_type": "display_data"
    }
   ],
   "source": [
    "plt.savefig('coupons_orders.png', dpi=300, bbox_inches='tight')\n",
    "plt.show()"
   ]
  },
  {
   "cell_type": "markdown",
   "id": "e5946472-38bf-4461-85a0-d45b72e9e7c6",
   "metadata": {},
   "source": [
    "**What is their repeat rate i.e. power of promotions/coupons for 1st, 2nd 3rd purchase....**"
   ]
  },
  {
   "cell_type": "code",
   "execution_count": 246,
   "id": "5b9a4407-79a4-45d5-91f5-6bef8546a0e7",
   "metadata": {},
   "outputs": [
    {
     "data": {
      "text/plain": [
       "Text(0, 0.5, 'Repeat Rate')"
      ]
     },
     "execution_count": 246,
     "metadata": {},
     "output_type": "execute_result"
    },
    {
     "data": {
      "image/png": "[encoded data removed]",
      "text/plain": [
       "<Figure size 1200x600 with 1 Axes>"
      ]
     },
     "metadata": {},
     "output_type": "display_data"
    }
   ],
   "source": [
    "# Calculate purchase counts and coupon usage\n",
    "df_orders['purchase_count'] = df_orders.groupby('customer_id').cumcount() + 1  # Start counting from 1\n",
    "df_orders['used_coupon'] = df_orders['code'].notnull().astype(int) | df_orders['description.1'].notnull().astype(int)\n",
    "\n",
    "# Group by purchase count to get total purchases\n",
    "repeat_rate = df_orders.groupby('purchase_count').agg(\n",
    "    total_purchases=('customer_id', 'count'),\n",
    "    total_with_coupon=('used_coupon', 'sum')\n",
    ").reset_index()\n",
    "\n",
    "# Calculate repeat rate\n",
    "repeat_rate['repeat_rate'] = repeat_rate['total_with_coupon'] / repeat_rate['total_purchases']\n",
    "\n",
    "# Filter to include only up to the 10th purchase\n",
    "repeat_rate_filtered = repeat_rate[repeat_rate['purchase_count'] <= 10]\n",
    "\n",
    "# Set the style for the plots\n",
    "sns.set(style=\"whitegrid\")\n",
    "\n",
    "# Create a figure and axis\n",
    "plt.figure(figsize=(12, 6))\n",
    "\n",
    "# Plot repeat rate\n",
    "sns.lineplot(data=repeat_rate_filtered, x='purchase_count', y='repeat_rate', marker='o', color='green')\n",
    "\n",
    "# Set labels and title\n",
    "plt.title('Repeat Rate by Purchase Count (Up to 10th Purchase)', fontsize=16)\n",
    "plt.xlabel('Purchase Count', fontsize=14)\n",
    "plt.ylabel('Repeat Rate', fontsize=14)\n"
   ]
  },
  {
   "cell_type": "code",
   "execution_count": 247,
   "id": "2c6d66a3-ce2f-46f6-b2da-1520f692aa7c",
   "metadata": {},
   "outputs": [
    {
     "data": {
      "text/plain": [
       "<Figure size 640x480 with 0 Axes>"
      ]
     },
     "metadata": {},
     "output_type": "display_data"
    }
   ],
   "source": [
    "plt.savefig('repeat_rate.png', dpi=300, bbox_inches='tight')\n",
    "plt.show()"
   ]
  },
  {
   "cell_type": "markdown",
   "id": "87419d2d-b05b-454b-8aae-04cc522962ec",
   "metadata": {},
   "source": [
    "**Does the data contain goldbidder/golf avenue**"
   ]
  },
  {
   "cell_type": "code",
   "execution_count": 248,
   "id": "62461367-f9d4-4fbb-b060-414f26d4e2b2",
   "metadata": {},
   "outputs": [
    {
     "name": "stdout",
     "output_type": "stream",
     "text": [
      "Gold Avenue in among sold goods:\n",
      "           id        brand\n",
      "689   680160  Golf Avenue\n",
      "755   680988  Golf Avenue\n",
      "2829  684084  Golf Avenue\n",
      "\n",
      "Gold Avenue in among bought goods:\n",
      "              id        brand\n",
      "117173  1654299  Golf Avenue\n",
      "117174  1654300  Golf Avenue\n",
      "117175  1654301  Golf Avenue\n",
      "\n",
      "Goldbidder in among sold goods:\n",
      " None\n",
      "\n",
      "Goldbidder in among bought goods:\n",
      " None\n"
     ]
    }
   ],
   "source": [
    "# Function to check for brands and display results\n",
    "def check_brands(df, brand_name):\n",
    "    filtered_data = df[df['brand'] == brand_name][['id', 'brand']]\n",
    "    return filtered_data.head(3) if not filtered_data.empty else None\n",
    "\n",
    "# Check for 'Gold Avenue' in both DataFrames\n",
    "gold_avenue_orders = check_brands(df_orders, 'Golf Avenue')\n",
    "gold_avenue_items = check_brands(df_items, 'Golf Avenue')\n",
    "\n",
    "# Check for 'Goldbidder' in both DataFrames\n",
    "goldbidder_orders = check_brands(df_orders, 'Golfbidder')\n",
    "goldbidder_items = check_brands(df_items, 'Golfbidder')\n",
    "\n",
    "# Display results\n",
    "print(\"Gold Avenue in among sold goods:\\n\", gold_avenue_orders)\n",
    "print(\"\\nGold Avenue in among bought goods:\\n\", gold_avenue_items)\n",
    "print(\"\\nGoldbidder in among sold goods:\\n\", goldbidder_orders)\n",
    "print(\"\\nGoldbidder in among bought goods:\\n\", goldbidder_items)"
   ]
  },
  {
   "cell_type": "markdown",
   "id": "767cf637-f868-4108-9af8-5d62b44b239b",
   "metadata": {},
   "source": [
    "**Define the consumables**"
   ]
  },
  {
   "cell_type": "markdown",
   "id": "ea44e40e-96b4-4044-a181-b347c7809248",
   "metadata": {},
   "source": [
    "- Golf Balls\n",
    "\n",
    "- Golf Grips\n",
    "\n",
    "- Golf Towels\n",
    "\n",
    "- Ball Markers\n",
    "\n",
    "- Gloves\n",
    "\n",
    "- Putter Covers"
   ]
  },
  {
   "cell_type": "code",
   "execution_count": 249,
   "id": "eed4206b-8035-4086-a419-11d47a35b6dc",
   "metadata": {},
   "outputs": [
    {
     "data": {
      "text/plain": [
       "array(['Iron Set', 'Hybrid', 'Individual Iron', 'Driver', 'Golf Bag',\n",
       "       'Fairway Wood', 'Wedge', 'Putter', 'Shorts', 'Golf Shoes', 'Glove',\n",
       "       'Golf Balls', nan, 'Headwear', 'Top', 'Pants', 'Club Set', 'Towel',\n",
       "       'Water Bottle', 'Tradein Package', 'Accessory', 'GPS Watch',\n",
       "       'Headcover', 'Golf Cart', 'Outerwear', 'Umbrella', 'Tool',\n",
       "       'Range Finder', 'Putting Mat', 'Launch Monitor', 'Travel Cover',\n",
       "       'Tees', 'Skirt', 'Belt', 'Golf Socks', 'Speaker'], dtype=object)"
      ]
     },
     "execution_count": 249,
     "metadata": {},
     "output_type": "execute_result"
    }
   ],
   "source": [
    "df_orders.type.unique()"
   ]
  },
  {
   "cell_type": "code",
   "execution_count": 250,
   "id": "adf92f3c-25ce-47cd-aeca-b9a2fb134c46",
   "metadata": {},
   "outputs": [
    {
     "name": "stdout",
     "output_type": "stream",
     "text": [
      "Top 3 Combos of Consumables and Equipment:\n",
      "(Golf Balls, Top)      428\n",
      "(Golf Balls, Wedge)    326\n",
      "(Glove, Top)           300\n",
      "Name: count, dtype: int64\n"
     ]
    },
    {
     "data": {
      "image/png": "[encoded data removed]",
      "text/plain": [
       "<Figure size 1000x500 with 1 Axes>"
      ]
     },
     "metadata": {},
     "output_type": "display_data"
    }
   ],
   "source": [
    "# Assuming df_orders is already defined and loaded\n",
    "\n",
    "# Define consumables\n",
    "consumables = ['Golf Balls', 'Tees', 'Glove', 'Towel', 'Water Bottle']\n",
    "\n",
    "# Get all unique types from the DataFrame\n",
    "all_types = df_orders['type'].unique()\n",
    "\n",
    "# Define equipment as all types that are not consumables\n",
    "equipment = [item for item in all_types if item not in consumables]\n",
    "\n",
    "# Filter orders with consumables\n",
    "df_consumables = df_orders[df_orders['type'].isin(consumables)]\n",
    "\n",
    "# Create a DataFrame that contains only orders with consumables\n",
    "combined_df = df_orders[df_orders['order_id'].isin(df_consumables['order_id'])]\n",
    "\n",
    "# Group by order_id and aggregate the types\n",
    "grouped = combined_df.groupby('order_id')['type'].apply(list).reset_index()\n",
    "\n",
    "# Create a list to store combinations\n",
    "combo_list = []\n",
    "\n",
    "# Create combinations of consumables and equipment from each order\n",
    "for index, row in grouped.iterrows():\n",
    "    items = row['type']\n",
    "    combos = [combo for combo in combinations(items, 2) if combo[0] in consumables and combo[1] in equipment]\n",
    "    combo_list.extend(combos)\n",
    "\n",
    "# Count the frequency of each combination\n",
    "combo_counts = pd.Series(combo_list).value_counts()\n",
    "\n",
    "# Get the top 3 combinations\n",
    "top_combos = combo_counts.head(3)\n",
    "\n",
    "# Print out the top combinations\n",
    "print(\"Top 3 Combos of Consumables and Equipment:\")\n",
    "print(top_combos)\n",
    "\n",
    "# Visualize the results\n",
    "plt.figure(figsize=(10, 5))\n",
    "top_combos.plot(kind='bar', color=['lightblue', 'lightgreen', 'salmon'])\n",
    "plt.title('Top 3 Combos of Consumables and Equipment')\n",
    "plt.xlabel('Combination of Consumables and Equipment')\n",
    "plt.ylabel('Frequency')\n",
    "plt.xticks(rotation=45)\n",
    "plt.tight_layout()"
   ]
  },
  {
   "cell_type": "code",
   "execution_count": 251,
   "id": "283c068e-322a-4829-8b16-833a0a54d5e4",
   "metadata": {},
   "outputs": [
    {
     "data": {
      "text/plain": [
       "<Figure size 640x480 with 0 Axes>"
      ]
     },
     "metadata": {},
     "output_type": "display_data"
    }
   ],
   "source": [
    "plt.savefig('combos.png', dpi=300, bbox_inches='tight')\n",
    "plt.show()"
   ]
  },
  {
   "cell_type": "markdown",
   "id": "07a191d0-c126-40c3-8db5-38ba62852a0a",
   "metadata": {},
   "source": [
    "**People who bought drivers vs a set of clubs, multiple drivers**"
   ]
  },
  {
   "cell_type": "code",
   "execution_count": 252,
   "id": "efb12985-8d59-41f0-a4da-9eea470e9e58",
   "metadata": {},
   "outputs": [
    {
     "data": {
      "image/png": "[encoded data removed]",
      "text/plain": [
       "<Figure size 1000x500 with 1 Axes>"
      ]
     },
     "metadata": {},
     "output_type": "display_data"
    }
   ],
   "source": [
    "# Define categories of interest\n",
    "drivers = 'Driver'\n",
    "club_set = 'Club Set'\n",
    "\n",
    "# Filter orders for drivers and club sets\n",
    "df_drivers = df_orders[df_orders['type'] == drivers]\n",
    "df_club_sets = df_orders[df_orders['type'] == club_set]\n",
    "\n",
    "# Count unique customers who bought drivers\n",
    "unique_customers_drivers = df_drivers['customer_id'].nunique()\n",
    "\n",
    "# Count unique customers who bought club sets\n",
    "unique_customers_club_sets = df_club_sets['customer_id'].nunique()\n",
    "\n",
    "# Identify customers who bought multiple drivers\n",
    "multiple_drivers_customers = df_drivers['customer_id'].value_counts()\n",
    "customers_multiple_drivers = multiple_drivers_customers[multiple_drivers_customers > 1].count()\n",
    "\n",
    "# Prepare data for visualization\n",
    "data = {\n",
    "    'Drivers': unique_customers_drivers,\n",
    "    'Club Sets': unique_customers_club_sets,\n",
    "    'Multiple Drivers': customers_multiple_drivers\n",
    "}\n",
    "\n",
    "# Create a DataFrame for visualization\n",
    "summary_df = pd.DataFrame(data.items(), columns=['Category', 'Unique Customers'])\n",
    "\n",
    "# Define colors for each category\n",
    "colors = ['lightblue', 'lightgreen', 'salmon']\n",
    "\n",
    "# Visualize the results\n",
    "plt.figure(figsize=(10, 5))\n",
    "plt.bar(summary_df['Category'], summary_df['Unique Customers'], color=colors)\n",
    "plt.title('Unique Customers Buying Drivers vs Club Sets and Multiple Drivers')\n",
    "plt.xlabel('Product Category')\n",
    "plt.ylabel('Number of Unique Customers')\n",
    "plt.xticks(rotation=45)\n",
    "plt.tight_layout()"
   ]
  },
  {
   "cell_type": "code",
   "execution_count": 253,
   "id": "45f9fe52-b209-4638-a727-2e6d1509e204",
   "metadata": {},
   "outputs": [
    {
     "data": {
      "text/plain": [
       "<Figure size 640x480 with 0 Axes>"
      ]
     },
     "metadata": {},
     "output_type": "display_data"
    }
   ],
   "source": [
    "plt.savefig('drivers.png', dpi=300, bbox_inches='tight')\n",
    "plt.show()"
   ]
  },
  {
   "cell_type": "markdown",
   "id": "8ee1ba3d-16f7-4aeb-9665-22b85b7980b3",
   "metadata": {},
   "source": [
    "**Inference novice vs. expert**"
   ]
  },
  {
   "cell_type": "code",
   "execution_count": 254,
   "id": "151e42a1-fe6b-4e83-b06b-4034c2f30d97",
   "metadata": {},
   "outputs": [],
   "source": [
    "# For Buyers (df_orders)\n",
    "buyers = df_orders.groupby('customer_id').agg({\n",
    "    'purchase_count': 'sum',\n",
    "    'total': 'sum',\n",
    "    'type': pd.Series.nunique\n",
    "}).reset_index()\n",
    "\n",
    "# For Sellers (df_items)\n",
    "sellers = df_items.groupby('customer_id').agg({\n",
    "    'purchase_order_id': 'count',\n",
    "    'total_in_usd': 'sum',\n",
    "    'product_type': pd.Series.nunique\n",
    "}).reset_index()\n",
    "\n",
    "# Define thresholds for novice vs expert (you can adjust these thresholds)\n",
    "buyer_threshold = buyers['purchase_count'].quantile(0.75)\n",
    "seller_threshold = sellers['purchase_order_id'].quantile(0.75)\n",
    "\n",
    "# Classify Novice vs Expert\n",
    "buyers['classification'] = buyers['purchase_count'].apply(lambda x: 'Expert' if x > buyer_threshold else 'Novice')\n",
    "sellers['classification'] = sellers['purchase_order_id'].apply(lambda x: 'Expert' if x > seller_threshold else 'Novice')\n",
    "\n",
    "# Identify customers who are both buyers and sellers\n",
    "both = pd.merge(buyers, sellers, on='customer_id', how='inner', suffixes=('_buyer', '_seller'))\n",
    "\n",
    "# Visualization (e.g., using Venn Diagram or bar charts)"
   ]
  },
  {
   "cell_type": "code",
   "execution_count": 255,
   "id": "d888eafe-8e31-48c8-9c11-293459665089",
   "metadata": {},
   "outputs": [
    {
     "data": {
      "text/plain": [
       "<Figure size 800x600 with 0 Axes>"
      ]
     },
     "metadata": {},
     "output_type": "display_data"
    },
    {
     "data": {
      "image/png": "[encoded data removed]",
      "text/plain": [
       "<Figure size 640x480 with 1 Axes>"
      ]
     },
     "metadata": {},
     "output_type": "display_data"
    }
   ],
   "source": [
    "buyer_counts = buyers['classification'].value_counts()\n",
    "\n",
    "# Count the number of novice and expert sellers\n",
    "seller_counts = sellers['classification'].value_counts()\n",
    "\n",
    "# Combine the two counts into one dataframe for comparison\n",
    "classification_counts = pd.DataFrame({\n",
    "    'Buyers': buyer_counts,\n",
    "    'Sellers': seller_counts\n",
    "}).T\n",
    "\n",
    "# Plot the bar chart\n",
    "plt.figure(figsize=(8, 6))\n",
    "classification_counts.plot(kind='bar', stacked=False, color=['#3498db', '#2ecc71'], edgecolor='black')\n",
    "\n",
    "# Customize the plot\n",
    "plt.title(\"Novice vs Expert Buyers and Sellers\", fontsize=16)\n",
    "plt.ylabel(\"Number of Customers\", fontsize=12)\n",
    "plt.xlabel(\"Customer Type\", fontsize=12)\n",
    "plt.xticks(rotation=0)\n",
    "plt.legend(title=\"Classification\", loc='upper right')\n",
    "plt.grid(True, linestyle='--', alpha=0.6)\n",
    "\n",
    "# Save as PNG file and show the plot\n",
    "plt.savefig('novice_expert_classification.png', dpi=300, bbox_inches='tight')\n",
    "plt.show()"
   ]
  }
 ],
 "metadata": {
  "kernelspec": {
   "display_name": "Python 3 (ipykernel)",
   "language": "python",
   "name": "python3"
  },
  "language_info": {
   "codemirror_mode": {
    "name": "ipython",
    "version": 3
   },
   "file_extension": ".py",
   "mimetype": "text/x-python",
   "name": "python",
   "nbconvert_exporter": "python",
   "pygments_lexer": "ipython3",
   "version": "3.12.2"
  }
 },
 "nbformat": 4,
 "nbformat_minor": 5
}
