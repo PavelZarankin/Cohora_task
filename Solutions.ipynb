{
 "cells": [
  {
   "cell_type": "code",
   "execution_count": 3,
   "id": "56d8bf3c-7612-44c0-a85e-a9464d5af2c2",
   "metadata": {},
   "outputs": [],
   "source": [
    "import pandas as pd\n",
    "import numpy as np\n",
    "import seaborn as sns\n",
    "import matplotlib.pyplot as plt\n",
    "from collections import Counter\n",
    "\n",
    "%matplotlib inline"
   ]
  },
  {
   "cell_type": "code",
   "execution_count": 4,
   "id": "621e9f11-cd2a-4cbb-9889-d3c6f7a25626",
   "metadata": {},
   "outputs": [
    {
     "name": "stderr",
     "output_type": "stream",
     "text": [
      "C:\\Users\\user\\AppData\\Local\\Temp\\ipykernel_11044\\2084181180.py:1: FutureWarning: The argument 'date_parser' is deprecated and will be removed in a future version. Please use 'date_format' instead, or read your data in as 'object' dtype and then call 'to_datetime'.\n",
      "  df_customers = pd.read_csv('datasets/customers.csv', parse_dates=['created_at'],\n",
      "C:\\Users\\user\\AppData\\Local\\Temp\\ipykernel_11044\\2084181180.py:3: FutureWarning: The argument 'date_parser' is deprecated and will be removed in a future version. Please use 'date_format' instead, or read your data in as 'object' dtype and then call 'to_datetime'.\n",
      "  df_orders = pd.read_csv('datasets/order_items.csv', parse_dates=['created_at'],\n",
      "C:\\Users\\user\\AppData\\Local\\Temp\\ipykernel_11044\\2084181180.py:5: FutureWarning: The argument 'date_parser' is deprecated and will be removed in a future version. Please use 'date_format' instead, or read your data in as 'object' dtype and then call 'to_datetime'.\n",
      "  df_items = pd.read_csv('datasets/po_items.csv', parse_dates=['created_at'],\n",
      "C:\\Users\\user\\AppData\\Local\\Temp\\ipykernel_11044\\2084181180.py:7: FutureWarning: The argument 'date_parser' is deprecated and will be removed in a future version. Please use 'date_format' instead, or read your data in as 'object' dtype and then call 'to_datetime'.\n",
      "  df_reviews = pd.read_csv('datasets/Reviews_export_2024_09_10_14_47_09.783.csv', parse_dates=['Review Creation Date'],\n"
     ]
    }
   ],
   "source": [
    "df_customers = pd.read_csv('datasets/customers.csv', parse_dates=['created_at'],\n",
    "                          date_parser=lambda x: pd.to_datetime(x, format='%m/%d/%y %I:%M %p'))\n",
    "df_orders = pd.read_csv('datasets/order_items.csv', parse_dates=['created_at'],\n",
    "                          date_parser=lambda x: pd.to_datetime(x, format='%m/%d/%y %I:%M %p'))\n",
    "df_items = pd.read_csv('datasets/po_items.csv', parse_dates=['created_at'],\n",
    "                          date_parser=lambda x: pd.to_datetime(x, format='%m/%d/%y %I:%M %p'))\n",
    "df_reviews = pd.read_csv('datasets/Reviews_export_2024_09_10_14_47_09.783.csv', parse_dates=['Review Creation Date'],\n",
    "                          date_parser=lambda x: pd.to_datetime(x, format='%m/%d/%y %I:%M %p'))"
   ]
  },
  {
   "cell_type": "code",
   "execution_count": 5,
   "id": "f22d9a3b-42ef-44d3-8830-9827f3f655e2",
   "metadata": {},
   "outputs": [
    {
     "name": "stdout",
     "output_type": "stream",
     "text": [
      "<class 'pandas.core.frame.DataFrame'>\n",
      "RangeIndex: 260896 entries, 0 to 260895\n",
      "Data columns (total 14 columns):\n",
      " #   Column                 Non-Null Count   Dtype         \n",
      "---  ------                 --------------   -----         \n",
      " 0   id                     260896 non-null  int64         \n",
      " 1   order_id               260896 non-null  int64         \n",
      " 2   description            260895 non-null  object        \n",
      " 3   sku                    260896 non-null  object        \n",
      " 4   regular_price          260262 non-null  float64       \n",
      " 5   price                  260896 non-null  float64       \n",
      " 6   qty                    260896 non-null  int64         \n",
      " 7   subtotal               260896 non-null  float64       \n",
      " 8   total_discount_amount  260896 non-null  float64       \n",
      " 9   code                   1386 non-null    object        \n",
      " 10  description.1          48196 non-null   object        \n",
      " 11  tax_amount             260896 non-null  float64       \n",
      " 12  total                  260896 non-null  float64       \n",
      " 13  created_at             260893 non-null  datetime64[ns]\n",
      "dtypes: datetime64[ns](1), float64(6), int64(3), object(4)\n",
      "memory usage: 27.9+ MB\n"
     ]
    }
   ],
   "source": [
    "df_customers.info()"
   ]
  },
  {
   "cell_type": "code",
   "execution_count": 6,
   "id": "e5778707-8bf4-4714-b9a7-4dff7ce49ab6",
   "metadata": {},
   "outputs": [
    {
     "data": {
      "text/html": [
       "<div>\n",
       "<style scoped>\n",
       "    .dataframe tbody tr th:only-of-type {\n",
       "        vertical-align: middle;\n",
       "    }\n",
       "\n",
       "    .dataframe tbody tr th {\n",
       "        vertical-align: top;\n",
       "    }\n",
       "\n",
       "    .dataframe thead th {\n",
       "        text-align: right;\n",
       "    }\n",
       "</style>\n",
       "<table border=\"1\" class=\"dataframe\">\n",
       "  <thead>\n",
       "    <tr style=\"text-align: right;\">\n",
       "      <th></th>\n",
       "      <th>id</th>\n",
       "      <th>order_id</th>\n",
       "      <th>description</th>\n",
       "      <th>sku</th>\n",
       "      <th>regular_price</th>\n",
       "      <th>price</th>\n",
       "      <th>qty</th>\n",
       "      <th>subtotal</th>\n",
       "      <th>total_discount_amount</th>\n",
       "      <th>code</th>\n",
       "      <th>description.1</th>\n",
       "      <th>tax_amount</th>\n",
       "      <th>total</th>\n",
       "      <th>created_at</th>\n",
       "    </tr>\n",
       "  </thead>\n",
       "  <tbody>\n",
       "    <tr>\n",
       "      <th>0</th>\n",
       "      <td>679118</td>\n",
       "      <td>496977</td>\n",
       "      <td>TaylorMade SIM Max Iron Set 5-PW and AW Stiff ...</td>\n",
       "      <td>TM-S17427</td>\n",
       "      <td>799.99</td>\n",
       "      <td>799.99</td>\n",
       "      <td>1</td>\n",
       "      <td>799.99</td>\n",
       "      <td>0.0</td>\n",
       "      <td>NaN</td>\n",
       "      <td>NaN</td>\n",
       "      <td>40.00</td>\n",
       "      <td>839.99</td>\n",
       "      <td>2021-09-10 00:00:00</td>\n",
       "    </tr>\n",
       "    <tr>\n",
       "      <th>1</th>\n",
       "      <td>679119</td>\n",
       "      <td>496978</td>\n",
       "      <td>TaylorMade M4 Iron Set 5-PW and AW Regular Rig...</td>\n",
       "      <td>TM-S17574</td>\n",
       "      <td>699.99</td>\n",
       "      <td>699.99</td>\n",
       "      <td>1</td>\n",
       "      <td>699.99</td>\n",
       "      <td>70.0</td>\n",
       "      <td>NaN</td>\n",
       "      <td>2021-01 - 10% Welcome - Unique Codes</td>\n",
       "      <td>94.34</td>\n",
       "      <td>724.33</td>\n",
       "      <td>2021-09-10 00:04:00</td>\n",
       "    </tr>\n",
       "    <tr>\n",
       "      <th>2</th>\n",
       "      <td>679120</td>\n",
       "      <td>496978</td>\n",
       "      <td>Titleist 816H1 4 Hybrid 23¬∞ Regular Right-Han...</td>\n",
       "      <td>TS-H08614</td>\n",
       "      <td>109.99</td>\n",
       "      <td>109.99</td>\n",
       "      <td>1</td>\n",
       "      <td>109.99</td>\n",
       "      <td>11.0</td>\n",
       "      <td>NaN</td>\n",
       "      <td>2021-01 - 10% Welcome - Unique Codes</td>\n",
       "      <td>14.82</td>\n",
       "      <td>113.81</td>\n",
       "      <td>2021-09-10 00:04:00</td>\n",
       "    </tr>\n",
       "  </tbody>\n",
       "</table>\n",
       "</div>"
      ],
      "text/plain": [
       "       id  order_id                                        description  \\\n",
       "0  679118    496977  TaylorMade SIM Max Iron Set 5-PW and AW Stiff ...   \n",
       "1  679119    496978  TaylorMade M4 Iron Set 5-PW and AW Regular Rig...   \n",
       "2  679120    496978  Titleist 816H1 4 Hybrid 23¬∞ Regular Right-Han...   \n",
       "\n",
       "         sku  regular_price   price  qty  subtotal  total_discount_amount  \\\n",
       "0  TM-S17427         799.99  799.99    1    799.99                    0.0   \n",
       "1  TM-S17574         699.99  699.99    1    699.99                   70.0   \n",
       "2  TS-H08614         109.99  109.99    1    109.99                   11.0   \n",
       "\n",
       "  code                         description.1  tax_amount   total  \\\n",
       "0  NaN                                   NaN       40.00  839.99   \n",
       "1  NaN  2021-01 - 10% Welcome - Unique Codes       94.34  724.33   \n",
       "2  NaN  2021-01 - 10% Welcome - Unique Codes       14.82  113.81   \n",
       "\n",
       "           created_at  \n",
       "0 2021-09-10 00:00:00  \n",
       "1 2021-09-10 00:04:00  \n",
       "2 2021-09-10 00:04:00  "
      ]
     },
     "execution_count": 6,
     "metadata": {},
     "output_type": "execute_result"
    }
   ],
   "source": [
    "df_customers.head(3)"
   ]
  },
  {
   "cell_type": "code",
   "execution_count": 7,
   "id": "8dd54136-db0c-454a-8d7a-315e4b3c8245",
   "metadata": {},
   "outputs": [
    {
     "name": "stdout",
     "output_type": "stream",
     "text": [
      "<class 'pandas.core.frame.DataFrame'>\n",
      "RangeIndex: 261287 entries, 0 to 261286\n",
      "Data columns (total 20 columns):\n",
      " #   Column                 Non-Null Count   Dtype         \n",
      "---  ------                 --------------   -----         \n",
      " 0   id                     261287 non-null  int64         \n",
      " 1   order_id               261287 non-null  int64         \n",
      " 2   customer_id            261287 non-null  int64         \n",
      " 3   description            261286 non-null  object        \n",
      " 4   model                  260950 non-null  object        \n",
      " 5   brand                  260950 non-null  object        \n",
      " 6   type                   260950 non-null  object        \n",
      " 7   model_id               260950 non-null  float64       \n",
      " 8   sku                    261287 non-null  object        \n",
      " 9   currency               261287 non-null  object        \n",
      " 10  regular_price          260653 non-null  float64       \n",
      " 11  price                  261287 non-null  float64       \n",
      " 12  qty                    261287 non-null  int64         \n",
      " 13  subtotal               261287 non-null  float64       \n",
      " 14  total_discount_amount  261287 non-null  float64       \n",
      " 15  code                   1386 non-null    object        \n",
      " 16  description.1          48208 non-null   object        \n",
      " 17  tax_amount             261287 non-null  float64       \n",
      " 18  total                  261287 non-null  float64       \n",
      " 19  created_at             261284 non-null  datetime64[ns]\n",
      "dtypes: datetime64[ns](1), float64(7), int64(4), object(8)\n",
      "memory usage: 39.9+ MB\n"
     ]
    }
   ],
   "source": [
    "df_orders.info()"
   ]
  },
  {
   "cell_type": "code",
   "execution_count": 8,
   "id": "5764900e-9a28-404e-b335-ccd6eed57450",
   "metadata": {},
   "outputs": [
    {
     "data": {
      "text/html": [
       "<div>\n",
       "<style scoped>\n",
       "    .dataframe tbody tr th:only-of-type {\n",
       "        vertical-align: middle;\n",
       "    }\n",
       "\n",
       "    .dataframe tbody tr th {\n",
       "        vertical-align: top;\n",
       "    }\n",
       "\n",
       "    .dataframe thead th {\n",
       "        text-align: right;\n",
       "    }\n",
       "</style>\n",
       "<table border=\"1\" class=\"dataframe\">\n",
       "  <thead>\n",
       "    <tr style=\"text-align: right;\">\n",
       "      <th></th>\n",
       "      <th>id</th>\n",
       "      <th>order_id</th>\n",
       "      <th>customer_id</th>\n",
       "      <th>description</th>\n",
       "      <th>model</th>\n",
       "      <th>brand</th>\n",
       "      <th>type</th>\n",
       "      <th>model_id</th>\n",
       "      <th>sku</th>\n",
       "      <th>currency</th>\n",
       "      <th>regular_price</th>\n",
       "      <th>price</th>\n",
       "      <th>qty</th>\n",
       "      <th>subtotal</th>\n",
       "      <th>total_discount_amount</th>\n",
       "      <th>code</th>\n",
       "      <th>description.1</th>\n",
       "      <th>tax_amount</th>\n",
       "      <th>total</th>\n",
       "      <th>created_at</th>\n",
       "    </tr>\n",
       "  </thead>\n",
       "  <tbody>\n",
       "    <tr>\n",
       "      <th>0</th>\n",
       "      <td>679118</td>\n",
       "      <td>496977</td>\n",
       "      <td>329221</td>\n",
       "      <td>TaylorMade SIM Max Iron Set 5-PW and AW Stiff ...</td>\n",
       "      <td>SIM Max</td>\n",
       "      <td>TaylorMade</td>\n",
       "      <td>Iron Set</td>\n",
       "      <td>11150.0</td>\n",
       "      <td>TM-S17427</td>\n",
       "      <td>CAD</td>\n",
       "      <td>799.99</td>\n",
       "      <td>799.99</td>\n",
       "      <td>1</td>\n",
       "      <td>799.99</td>\n",
       "      <td>0.0</td>\n",
       "      <td>NaN</td>\n",
       "      <td>NaN</td>\n",
       "      <td>40.00</td>\n",
       "      <td>839.99</td>\n",
       "      <td>2021-09-10 00:00:00</td>\n",
       "    </tr>\n",
       "    <tr>\n",
       "      <th>1</th>\n",
       "      <td>679119</td>\n",
       "      <td>496978</td>\n",
       "      <td>416222</td>\n",
       "      <td>TaylorMade M4 Iron Set 5-PW and AW Regular Rig...</td>\n",
       "      <td>M4</td>\n",
       "      <td>TaylorMade</td>\n",
       "      <td>Iron Set</td>\n",
       "      <td>9277.0</td>\n",
       "      <td>TM-S17574</td>\n",
       "      <td>CAD</td>\n",
       "      <td>699.99</td>\n",
       "      <td>699.99</td>\n",
       "      <td>1</td>\n",
       "      <td>699.99</td>\n",
       "      <td>70.0</td>\n",
       "      <td>NaN</td>\n",
       "      <td>2021-01 - 10% Welcome - Unique Codes</td>\n",
       "      <td>94.34</td>\n",
       "      <td>724.33</td>\n",
       "      <td>2021-09-10 00:05:00</td>\n",
       "    </tr>\n",
       "    <tr>\n",
       "      <th>2</th>\n",
       "      <td>679120</td>\n",
       "      <td>496978</td>\n",
       "      <td>416222</td>\n",
       "      <td>Titleist 816H1 4 Hybrid 23¬∞ Regular Right-Han...</td>\n",
       "      <td>816H1</td>\n",
       "      <td>Titleist</td>\n",
       "      <td>Hybrid</td>\n",
       "      <td>7562.0</td>\n",
       "      <td>TS-H08614</td>\n",
       "      <td>CAD</td>\n",
       "      <td>109.99</td>\n",
       "      <td>109.99</td>\n",
       "      <td>1</td>\n",
       "      <td>109.99</td>\n",
       "      <td>11.0</td>\n",
       "      <td>NaN</td>\n",
       "      <td>2021-01 - 10% Welcome - Unique Codes</td>\n",
       "      <td>14.82</td>\n",
       "      <td>113.81</td>\n",
       "      <td>2021-09-10 00:05:00</td>\n",
       "    </tr>\n",
       "  </tbody>\n",
       "</table>\n",
       "</div>"
      ],
      "text/plain": [
       "       id  order_id  customer_id  \\\n",
       "0  679118    496977       329221   \n",
       "1  679119    496978       416222   \n",
       "2  679120    496978       416222   \n",
       "\n",
       "                                         description    model       brand  \\\n",
       "0  TaylorMade SIM Max Iron Set 5-PW and AW Stiff ...  SIM Max  TaylorMade   \n",
       "1  TaylorMade M4 Iron Set 5-PW and AW Regular Rig...       M4  TaylorMade   \n",
       "2  Titleist 816H1 4 Hybrid 23¬∞ Regular Right-Han...    816H1    Titleist   \n",
       "\n",
       "       type  model_id        sku currency  regular_price   price  qty  \\\n",
       "0  Iron Set   11150.0  TM-S17427      CAD         799.99  799.99    1   \n",
       "1  Iron Set    9277.0  TM-S17574      CAD         699.99  699.99    1   \n",
       "2    Hybrid    7562.0  TS-H08614      CAD         109.99  109.99    1   \n",
       "\n",
       "   subtotal  total_discount_amount code                         description.1  \\\n",
       "0    799.99                    0.0  NaN                                   NaN   \n",
       "1    699.99                   70.0  NaN  2021-01 - 10% Welcome - Unique Codes   \n",
       "2    109.99                   11.0  NaN  2021-01 - 10% Welcome - Unique Codes   \n",
       "\n",
       "   tax_amount   total          created_at  \n",
       "0       40.00  839.99 2021-09-10 00:00:00  \n",
       "1       94.34  724.33 2021-09-10 00:05:00  \n",
       "2       14.82  113.81 2021-09-10 00:05:00  "
      ]
     },
     "execution_count": 8,
     "metadata": {},
     "output_type": "execute_result"
    }
   ],
   "source": [
    "df_orders.head(3)"
   ]
  },
  {
   "cell_type": "code",
   "execution_count": 9,
   "id": "ba05e687-406a-4538-899c-f8f1714c9a97",
   "metadata": {},
   "outputs": [
    {
     "name": "stdout",
     "output_type": "stream",
     "text": [
      "<class 'pandas.core.frame.DataFrame'>\n",
      "RangeIndex: 235854 entries, 0 to 235853\n",
      "Data columns (total 19 columns):\n",
      " #   Column             Non-Null Count   Dtype         \n",
      "---  ------             --------------   -----         \n",
      " 0   id                 235854 non-null  int64         \n",
      " 1   customer_id        235854 non-null  int64         \n",
      " 2   purchase_order_id  235854 non-null  int64         \n",
      " 3   status             235854 non-null  object        \n",
      " 4   model              235854 non-null  object        \n",
      " 5   product_type       235854 non-null  object        \n",
      " 6   brand              235854 non-null  object        \n",
      " 7   model_id           235854 non-null  int64         \n",
      " 8   brand_id           235854 non-null  int64         \n",
      " 9   product_type_id    235854 non-null  int64         \n",
      " 10  price              235854 non-null  float64       \n",
      " 11  currency           235854 non-null  object        \n",
      " 12  subtotal           0 non-null       float64       \n",
      " 13  margin_total       235854 non-null  float64       \n",
      " 14  bonus_total        235854 non-null  float64       \n",
      " 15  total              235854 non-null  float64       \n",
      " 16  created_at         235854 non-null  datetime64[ns]\n",
      " 17  received_at        0 non-null       float64       \n",
      " 18  inspected_at       103382 non-null  object        \n",
      "dtypes: datetime64[ns](1), float64(6), int64(6), object(6)\n",
      "memory usage: 34.2+ MB\n"
     ]
    }
   ],
   "source": [
    "df_items.info()"
   ]
  },
  {
   "cell_type": "code",
   "execution_count": 10,
   "id": "f60f230a-cef2-4606-bbc0-97c7c1390888",
   "metadata": {},
   "outputs": [],
   "source": [
    "df_items['received_at'] = pd.to_datetime(df_items['received_at'], format='%m/%d/%y %I:%M %p', errors='coerce')\n",
    "df_items['inspected_at'] = pd.to_datetime(df_items['inspected_at'], format='%m/%d/%y %I:%M %p', errors='coerce')"
   ]
  },
  {
   "cell_type": "code",
   "execution_count": 11,
   "id": "16e97bd3-eeb0-4504-97e5-210c4f94be3a",
   "metadata": {},
   "outputs": [
    {
     "data": {
      "text/html": [
       "<div>\n",
       "<style scoped>\n",
       "    .dataframe tbody tr th:only-of-type {\n",
       "        vertical-align: middle;\n",
       "    }\n",
       "\n",
       "    .dataframe tbody tr th {\n",
       "        vertical-align: top;\n",
       "    }\n",
       "\n",
       "    .dataframe thead th {\n",
       "        text-align: right;\n",
       "    }\n",
       "</style>\n",
       "<table border=\"1\" class=\"dataframe\">\n",
       "  <thead>\n",
       "    <tr style=\"text-align: right;\">\n",
       "      <th></th>\n",
       "      <th>id</th>\n",
       "      <th>customer_id</th>\n",
       "      <th>purchase_order_id</th>\n",
       "      <th>status</th>\n",
       "      <th>model</th>\n",
       "      <th>product_type</th>\n",
       "      <th>brand</th>\n",
       "      <th>model_id</th>\n",
       "      <th>brand_id</th>\n",
       "      <th>product_type_id</th>\n",
       "      <th>price</th>\n",
       "      <th>currency</th>\n",
       "      <th>subtotal</th>\n",
       "      <th>margin_total</th>\n",
       "      <th>bonus_total</th>\n",
       "      <th>total</th>\n",
       "      <th>created_at</th>\n",
       "      <th>received_at</th>\n",
       "      <th>inspected_at</th>\n",
       "    </tr>\n",
       "  </thead>\n",
       "  <tbody>\n",
       "    <tr>\n",
       "      <th>0</th>\n",
       "      <td>767181</td>\n",
       "      <td>416193</td>\n",
       "      <td>43112</td>\n",
       "      <td>Rejected</td>\n",
       "      <td>XR</td>\n",
       "      <td>Driver</td>\n",
       "      <td>Callaway</td>\n",
       "      <td>5622</td>\n",
       "      <td>5</td>\n",
       "      <td>2</td>\n",
       "      <td>95.0</td>\n",
       "      <td>CAD</td>\n",
       "      <td>NaN</td>\n",
       "      <td>0.0</td>\n",
       "      <td>9.5</td>\n",
       "      <td>104.5</td>\n",
       "      <td>2021-09-10 00:30:00</td>\n",
       "      <td>NaT</td>\n",
       "      <td>NaT</td>\n",
       "    </tr>\n",
       "    <tr>\n",
       "      <th>1</th>\n",
       "      <td>767182</td>\n",
       "      <td>416228</td>\n",
       "      <td>43113</td>\n",
       "      <td>Open</td>\n",
       "      <td>M3</td>\n",
       "      <td>Driver</td>\n",
       "      <td>TaylorMade</td>\n",
       "      <td>9265</td>\n",
       "      <td>28</td>\n",
       "      <td>2</td>\n",
       "      <td>150.0</td>\n",
       "      <td>USD</td>\n",
       "      <td>NaN</td>\n",
       "      <td>0.0</td>\n",
       "      <td>15.0</td>\n",
       "      <td>165.0</td>\n",
       "      <td>2021-09-10 01:30:00</td>\n",
       "      <td>NaT</td>\n",
       "      <td>NaT</td>\n",
       "    </tr>\n",
       "    <tr>\n",
       "      <th>2</th>\n",
       "      <td>767183</td>\n",
       "      <td>416228</td>\n",
       "      <td>43113</td>\n",
       "      <td>Open</td>\n",
       "      <td>AP2 716 Forged</td>\n",
       "      <td>Iron Set</td>\n",
       "      <td>Titleist</td>\n",
       "      <td>7505</td>\n",
       "      <td>30</td>\n",
       "      <td>4</td>\n",
       "      <td>390.0</td>\n",
       "      <td>USD</td>\n",
       "      <td>NaN</td>\n",
       "      <td>0.0</td>\n",
       "      <td>39.0</td>\n",
       "      <td>429.0</td>\n",
       "      <td>2021-09-10 01:30:00</td>\n",
       "      <td>NaT</td>\n",
       "      <td>NaT</td>\n",
       "    </tr>\n",
       "    <tr>\n",
       "      <th>3</th>\n",
       "      <td>767184</td>\n",
       "      <td>415077</td>\n",
       "      <td>43114</td>\n",
       "      <td>Open</td>\n",
       "      <td>SIM Max</td>\n",
       "      <td>Iron Set</td>\n",
       "      <td>TaylorMade</td>\n",
       "      <td>11150</td>\n",
       "      <td>28</td>\n",
       "      <td>4</td>\n",
       "      <td>325.0</td>\n",
       "      <td>USD</td>\n",
       "      <td>NaN</td>\n",
       "      <td>0.0</td>\n",
       "      <td>65.0</td>\n",
       "      <td>390.0</td>\n",
       "      <td>2021-09-10 01:30:00</td>\n",
       "      <td>NaT</td>\n",
       "      <td>NaT</td>\n",
       "    </tr>\n",
       "    <tr>\n",
       "      <th>4</th>\n",
       "      <td>767185</td>\n",
       "      <td>416235</td>\n",
       "      <td>43115</td>\n",
       "      <td>Open</td>\n",
       "      <td>Blueprint</td>\n",
       "      <td>Iron Set</td>\n",
       "      <td>Ping</td>\n",
       "      <td>11197</td>\n",
       "      <td>21</td>\n",
       "      <td>4</td>\n",
       "      <td>645.0</td>\n",
       "      <td>USD</td>\n",
       "      <td>NaN</td>\n",
       "      <td>0.0</td>\n",
       "      <td>129.0</td>\n",
       "      <td>774.0</td>\n",
       "      <td>2021-09-10 01:30:00</td>\n",
       "      <td>NaT</td>\n",
       "      <td>NaT</td>\n",
       "    </tr>\n",
       "    <tr>\n",
       "      <th>5</th>\n",
       "      <td>767186</td>\n",
       "      <td>317142</td>\n",
       "      <td>43116</td>\n",
       "      <td>Open</td>\n",
       "      <td>718 AP1</td>\n",
       "      <td>Iron Set</td>\n",
       "      <td>Titleist</td>\n",
       "      <td>8815</td>\n",
       "      <td>30</td>\n",
       "      <td>4</td>\n",
       "      <td>460.0</td>\n",
       "      <td>CAD</td>\n",
       "      <td>NaN</td>\n",
       "      <td>0.0</td>\n",
       "      <td>46.0</td>\n",
       "      <td>506.0</td>\n",
       "      <td>2021-09-10 02:00:00</td>\n",
       "      <td>NaT</td>\n",
       "      <td>NaT</td>\n",
       "    </tr>\n",
       "    <tr>\n",
       "      <th>6</th>\n",
       "      <td>767187</td>\n",
       "      <td>416249</td>\n",
       "      <td>43117</td>\n",
       "      <td>Accepted</td>\n",
       "      <td>M1 460 2017</td>\n",
       "      <td>Driver</td>\n",
       "      <td>TaylorMade</td>\n",
       "      <td>8285</td>\n",
       "      <td>28</td>\n",
       "      <td>2</td>\n",
       "      <td>175.0</td>\n",
       "      <td>CAD</td>\n",
       "      <td>NaN</td>\n",
       "      <td>0.0</td>\n",
       "      <td>17.5</td>\n",
       "      <td>192.5</td>\n",
       "      <td>2021-09-10 02:30:00</td>\n",
       "      <td>NaT</td>\n",
       "      <td>2021-09-23 12:15:00</td>\n",
       "    </tr>\n",
       "    <tr>\n",
       "      <th>7</th>\n",
       "      <td>767188</td>\n",
       "      <td>392519</td>\n",
       "      <td>43118</td>\n",
       "      <td>Accepted</td>\n",
       "      <td>Huntington Beach Soft 4</td>\n",
       "      <td>Putter</td>\n",
       "      <td>Cleveland</td>\n",
       "      <td>34902</td>\n",
       "      <td>7</td>\n",
       "      <td>6</td>\n",
       "      <td>60.0</td>\n",
       "      <td>CAD</td>\n",
       "      <td>NaN</td>\n",
       "      <td>0.0</td>\n",
       "      <td>6.0</td>\n",
       "      <td>66.0</td>\n",
       "      <td>2021-09-10 02:30:00</td>\n",
       "      <td>NaT</td>\n",
       "      <td>2021-09-23 14:33:00</td>\n",
       "    </tr>\n",
       "    <tr>\n",
       "      <th>8</th>\n",
       "      <td>767189</td>\n",
       "      <td>392519</td>\n",
       "      <td>43118</td>\n",
       "      <td>Accepted</td>\n",
       "      <td>G SF Tec</td>\n",
       "      <td>Driver</td>\n",
       "      <td>Ping</td>\n",
       "      <td>7773</td>\n",
       "      <td>21</td>\n",
       "      <td>2</td>\n",
       "      <td>165.0</td>\n",
       "      <td>CAD</td>\n",
       "      <td>NaN</td>\n",
       "      <td>0.0</td>\n",
       "      <td>16.5</td>\n",
       "      <td>181.5</td>\n",
       "      <td>2021-09-10 02:30:00</td>\n",
       "      <td>NaT</td>\n",
       "      <td>2021-09-23 14:32:00</td>\n",
       "    </tr>\n",
       "  </tbody>\n",
       "</table>\n",
       "</div>"
      ],
      "text/plain": [
       "       id  customer_id  purchase_order_id    status                    model  \\\n",
       "0  767181       416193              43112  Rejected                       XR   \n",
       "1  767182       416228              43113      Open                       M3   \n",
       "2  767183       416228              43113      Open           AP2 716 Forged   \n",
       "3  767184       415077              43114      Open                  SIM Max   \n",
       "4  767185       416235              43115      Open                Blueprint   \n",
       "5  767186       317142              43116      Open                  718 AP1   \n",
       "6  767187       416249              43117  Accepted              M1 460 2017   \n",
       "7  767188       392519              43118  Accepted  Huntington Beach Soft 4   \n",
       "8  767189       392519              43118  Accepted                 G SF Tec   \n",
       "\n",
       "  product_type       brand  model_id  brand_id  product_type_id  price  \\\n",
       "0       Driver    Callaway      5622         5                2   95.0   \n",
       "1       Driver  TaylorMade      9265        28                2  150.0   \n",
       "2     Iron Set    Titleist      7505        30                4  390.0   \n",
       "3     Iron Set  TaylorMade     11150        28                4  325.0   \n",
       "4     Iron Set        Ping     11197        21                4  645.0   \n",
       "5     Iron Set    Titleist      8815        30                4  460.0   \n",
       "6       Driver  TaylorMade      8285        28                2  175.0   \n",
       "7       Putter   Cleveland     34902         7                6   60.0   \n",
       "8       Driver        Ping      7773        21                2  165.0   \n",
       "\n",
       "  currency  subtotal  margin_total  bonus_total  total          created_at  \\\n",
       "0      CAD       NaN           0.0          9.5  104.5 2021-09-10 00:30:00   \n",
       "1      USD       NaN           0.0         15.0  165.0 2021-09-10 01:30:00   \n",
       "2      USD       NaN           0.0         39.0  429.0 2021-09-10 01:30:00   \n",
       "3      USD       NaN           0.0         65.0  390.0 2021-09-10 01:30:00   \n",
       "4      USD       NaN           0.0        129.0  774.0 2021-09-10 01:30:00   \n",
       "5      CAD       NaN           0.0         46.0  506.0 2021-09-10 02:00:00   \n",
       "6      CAD       NaN           0.0         17.5  192.5 2021-09-10 02:30:00   \n",
       "7      CAD       NaN           0.0          6.0   66.0 2021-09-10 02:30:00   \n",
       "8      CAD       NaN           0.0         16.5  181.5 2021-09-10 02:30:00   \n",
       "\n",
       "  received_at        inspected_at  \n",
       "0         NaT                 NaT  \n",
       "1         NaT                 NaT  \n",
       "2         NaT                 NaT  \n",
       "3         NaT                 NaT  \n",
       "4         NaT                 NaT  \n",
       "5         NaT                 NaT  \n",
       "6         NaT 2021-09-23 12:15:00  \n",
       "7         NaT 2021-09-23 14:33:00  \n",
       "8         NaT 2021-09-23 14:32:00  "
      ]
     },
     "execution_count": 11,
     "metadata": {},
     "output_type": "execute_result"
    }
   ],
   "source": [
    "df_items.head(9)"
   ]
  },
  {
   "cell_type": "code",
   "execution_count": 12,
   "id": "32751ca2-ab60-45ff-beda-94c6087d3bb9",
   "metadata": {},
   "outputs": [
    {
     "data": {
      "text/plain": [
       "0"
      ]
     },
     "execution_count": 12,
     "metadata": {},
     "output_type": "execute_result"
    }
   ],
   "source": [
    "df_items.received_at.nunique()"
   ]
  },
  {
   "cell_type": "code",
   "execution_count": 13,
   "id": "8f8a7368-9bb3-4cb0-9558-fcb54a348c0f",
   "metadata": {},
   "outputs": [],
   "source": [
    "df_reviews['Order Date'] = pd.to_datetime(df_reviews['Order Date'], format='%m/%d/%Y')"
   ]
  },
  {
   "cell_type": "code",
   "execution_count": 14,
   "id": "699cc197-aa85-404c-89c0-881ce557d34d",
   "metadata": {},
   "outputs": [
    {
     "name": "stdout",
     "output_type": "stream",
     "text": [
      "<class 'pandas.core.frame.DataFrame'>\n",
      "RangeIndex: 10693 entries, 0 to 10692\n",
      "Data columns (total 44 columns):\n",
      " #   Column                  Non-Null Count  Dtype         \n",
      "---  ------                  --------------  -----         \n",
      " 0   Review ID               10693 non-null  int64         \n",
      " 1   Review Creation Date    10693 non-null  datetime64[ns]\n",
      " 2   Review Type             10693 non-null  object        \n",
      " 3   Review Status           10693 non-null  object        \n",
      " 4   Status Details          0 non-null      float64       \n",
      " 5   Review Source           10693 non-null  object        \n",
      " 6   Review Score            10693 non-null  int64         \n",
      " 7   Review Title            10691 non-null  object        \n",
      " 8   Review Content          10691 non-null  object        \n",
      " 9   Sentiment Score         10687 non-null  float64       \n",
      " 10  Profanity Flag          45 non-null     float64       \n",
      " 11  Published Image URLs    0 non-null      float64       \n",
      " 12  Unpublished Image URLs  139 non-null    object        \n",
      " 13  Published Video URLs    0 non-null      float64       \n",
      " 14  Unpublished Video URLs  6 non-null      object        \n",
      " 15  Comment Date            3 non-null      object        \n",
      " 16  Comment Content         3 non-null      object        \n",
      " 17  Comment Public          3 non-null      float64       \n",
      " 18  Review Tags             3 non-null      object        \n",
      " 19  Thumbs Up               10693 non-null  int64         \n",
      " 20  Thumbs Down             10693 non-null  int64         \n",
      " 21  Order ID                5941 non-null   float64       \n",
      " 22  Order Date              5941 non-null   datetime64[ns]\n",
      " 23  Pushed to Social        1 non-null      object        \n",
      " 24  Reviewer Display Name   10693 non-null  object        \n",
      " 25  Reviewer Email          10693 non-null  object        \n",
      " 26  Reviewer Type           10693 non-null  object        \n",
      " 27  Reviewer Country        6104 non-null   object        \n",
      " 28  Reviewer Device Type    6105 non-null   object        \n",
      " 29  Product ID              10693 non-null  object        \n",
      " 30  Product Title           10693 non-null  object        \n",
      " 31  Product Description     5161 non-null   object        \n",
      " 32  Product URL             5161 non-null   object        \n",
      " 33  Product Image URL       5138 non-null   object        \n",
      " 34  Product Handle          0 non-null      float64       \n",
      " 35  Product Group           0 non-null      float64       \n",
      " 36  Product Category        0 non-null      float64       \n",
      " 37  Product UPC             0 non-null      float64       \n",
      " 38  Product SKU             2721 non-null   object        \n",
      " 39  Product Brand           5159 non-null   object        \n",
      " 40  Product MPN             0 non-null      float64       \n",
      " 41  Product ISBN            0 non-null      float64       \n",
      " 42  Incentivized Flag       0 non-null      float64       \n",
      " 43  Metaobject handle       0 non-null      float64       \n",
      "dtypes: datetime64[ns](2), float64(15), int64(4), object(23)\n",
      "memory usage: 3.6+ MB\n"
     ]
    }
   ],
   "source": [
    "df_reviews.info()"
   ]
  },
  {
   "cell_type": "code",
   "execution_count": 15,
   "id": "fdde0d43-4add-4d22-8695-90a2cac5e69e",
   "metadata": {},
   "outputs": [
    {
     "data": {
      "text/html": [
       "<div>\n",
       "<style scoped>\n",
       "    .dataframe tbody tr th:only-of-type {\n",
       "        vertical-align: middle;\n",
       "    }\n",
       "\n",
       "    .dataframe tbody tr th {\n",
       "        vertical-align: top;\n",
       "    }\n",
       "\n",
       "    .dataframe thead th {\n",
       "        text-align: right;\n",
       "    }\n",
       "</style>\n",
       "<table border=\"1\" class=\"dataframe\">\n",
       "  <thead>\n",
       "    <tr style=\"text-align: right;\">\n",
       "      <th></th>\n",
       "      <th>Review ID</th>\n",
       "      <th>Review Creation Date</th>\n",
       "      <th>Review Type</th>\n",
       "      <th>Review Status</th>\n",
       "      <th>Status Details</th>\n",
       "      <th>Review Source</th>\n",
       "      <th>Review Score</th>\n",
       "      <th>Review Title</th>\n",
       "      <th>Review Content</th>\n",
       "      <th>Sentiment Score</th>\n",
       "      <th>...</th>\n",
       "      <th>Product Handle</th>\n",
       "      <th>Product Group</th>\n",
       "      <th>Product Category</th>\n",
       "      <th>Product UPC</th>\n",
       "      <th>Product SKU</th>\n",
       "      <th>Product Brand</th>\n",
       "      <th>Product MPN</th>\n",
       "      <th>Product ISBN</th>\n",
       "      <th>Incentivized Flag</th>\n",
       "      <th>Metaobject handle</th>\n",
       "    </tr>\n",
       "  </thead>\n",
       "  <tbody>\n",
       "    <tr>\n",
       "      <th>0</th>\n",
       "      <td>620130900</td>\n",
       "      <td>2024-09-09 20:07:00</td>\n",
       "      <td>site_review</td>\n",
       "      <td>Published</td>\n",
       "      <td>NaN</td>\n",
       "      <td>site_review_after_product</td>\n",
       "      <td>5</td>\n",
       "      <td>Great product and as promised</td>\n",
       "      <td>Great product and as promised delivery date. I...</td>\n",
       "      <td>0.991433</td>\n",
       "      <td>...</td>\n",
       "      <td>NaN</td>\n",
       "      <td>NaN</td>\n",
       "      <td>NaN</td>\n",
       "      <td>NaN</td>\n",
       "      <td>NaN</td>\n",
       "      <td>NaN</td>\n",
       "      <td>NaN</td>\n",
       "      <td>NaN</td>\n",
       "      <td>NaN</td>\n",
       "      <td>NaN</td>\n",
       "    </tr>\n",
       "    <tr>\n",
       "      <th>1</th>\n",
       "      <td>620130775</td>\n",
       "      <td>2024-09-09 20:05:00</td>\n",
       "      <td>product_review</td>\n",
       "      <td>Published</td>\n",
       "      <td>NaN</td>\n",
       "      <td>reminder</td>\n",
       "      <td>5</td>\n",
       "      <td>Great clubs and in very</td>\n",
       "      <td>Great clubs and in very good condition at a gr...</td>\n",
       "      <td>0.985991</td>\n",
       "      <td>...</td>\n",
       "      <td>NaN</td>\n",
       "      <td>NaN</td>\n",
       "      <td>NaN</td>\n",
       "      <td>NaN</td>\n",
       "      <td>5-763#</td>\n",
       "      <td>Callaway</td>\n",
       "      <td>NaN</td>\n",
       "      <td>NaN</td>\n",
       "      <td>NaN</td>\n",
       "      <td>NaN</td>\n",
       "    </tr>\n",
       "    <tr>\n",
       "      <th>2</th>\n",
       "      <td>620125988</td>\n",
       "      <td>2024-09-09 19:35:00</td>\n",
       "      <td>product_review</td>\n",
       "      <td>Published</td>\n",
       "      <td>NaN</td>\n",
       "      <td>syndication</td>\n",
       "      <td>5</td>\n",
       "      <td>I love them and they</td>\n",
       "      <td>I love them and they are in great condition</td>\n",
       "      <td>0.979976</td>\n",
       "      <td>...</td>\n",
       "      <td>NaN</td>\n",
       "      <td>NaN</td>\n",
       "      <td>NaN</td>\n",
       "      <td>NaN</td>\n",
       "      <td>NaN</td>\n",
       "      <td>Titleist</td>\n",
       "      <td>NaN</td>\n",
       "      <td>NaN</td>\n",
       "      <td>NaN</td>\n",
       "      <td>NaN</td>\n",
       "    </tr>\n",
       "  </tbody>\n",
       "</table>\n",
       "<p>3 rows × 44 columns</p>\n",
       "</div>"
      ],
      "text/plain": [
       "   Review ID Review Creation Date     Review Type Review Status  \\\n",
       "0  620130900  2024-09-09 20:07:00     site_review     Published   \n",
       "1  620130775  2024-09-09 20:05:00  product_review     Published   \n",
       "2  620125988  2024-09-09 19:35:00  product_review     Published   \n",
       "\n",
       "   Status Details              Review Source  Review Score  \\\n",
       "0             NaN  site_review_after_product             5   \n",
       "1             NaN                   reminder             5   \n",
       "2             NaN                syndication             5   \n",
       "\n",
       "                    Review Title  \\\n",
       "0  Great product and as promised   \n",
       "1        Great clubs and in very   \n",
       "2           I love them and they   \n",
       "\n",
       "                                      Review Content  Sentiment Score  ...  \\\n",
       "0  Great product and as promised delivery date. I...         0.991433  ...   \n",
       "1  Great clubs and in very good condition at a gr...         0.985991  ...   \n",
       "2        I love them and they are in great condition         0.979976  ...   \n",
       "\n",
       "   Product Handle  Product Group Product Category  Product UPC Product SKU  \\\n",
       "0             NaN            NaN              NaN          NaN         NaN   \n",
       "1             NaN            NaN              NaN          NaN      5-763#   \n",
       "2             NaN            NaN              NaN          NaN         NaN   \n",
       "\n",
       "  Product Brand Product MPN  Product ISBN Incentivized Flag  Metaobject handle  \n",
       "0           NaN         NaN           NaN               NaN                NaN  \n",
       "1      Callaway         NaN           NaN               NaN                NaN  \n",
       "2      Titleist         NaN           NaN               NaN                NaN  \n",
       "\n",
       "[3 rows x 44 columns]"
      ]
     },
     "execution_count": 15,
     "metadata": {},
     "output_type": "execute_result"
    }
   ],
   "source": [
    "df_reviews.head(3)"
   ]
  },
  {
   "cell_type": "markdown",
   "id": "ab1753d0-9c3b-42eb-8530-8103789ebd6d",
   "metadata": {},
   "source": [
    "# 1. Who is Laps.com\n",
    "**Market place where people buy and sell or trade their golf clubs and others golfs items**\n",
    "\n",
    "A customer can be both a buyer and seller\n",
    "\n",
    "Do they buy only their branded golfs products they sell, or anyone can come and sell their golfs product even if they haven bought them with the brand?"
   ]
  },
  {
   "cell_type": "markdown",
   "id": "00f12050-1f06-4f9c-af27-780d44a0e66f",
   "metadata": {},
   "source": [
    "To answer this question, lets observe the clients that are both buyers and sellers, if any.\n",
    "\n",
    "The datasets df_customers and df_orders are connected by the id column, where the df_orders details the recordings about the orders from the df_customers.\n",
    "\n",
    "At the same time, the sku column is an indicator that the orders have stock keeping unit (unique identifier of a product).\n",
    "\n",
    "The df_items contains the orders of the buyers, judging by the column with statuses and columns with timestamps for the date of inspection and receipt.\n",
    "\n",
    "The relationship between df_orders and df_items is built on the column customer_id. So lets merge the datasets of sellers an buyers to observe whether "
   ]
  },
  {
   "cell_type": "code",
   "execution_count": 16,
   "id": "9c261426-9e45-4389-8099-25b3f586c2e0",
   "metadata": {},
   "outputs": [],
   "source": [
    "df_customers_orders = pd.merge(df_orders, df_items, on='customer_id', how='inner')"
   ]
  },
  {
   "cell_type": "code",
   "execution_count": 17,
   "id": "f1b2a9d8-9306-4559-babc-5bfce7cae8f0",
   "metadata": {},
   "outputs": [],
   "source": [
    "check_customers = df_customers_orders[['customer_id', 'brand_x', 'brand_y']].groupby(['customer_id', 'brand_x', 'brand_y'], as_index=False).size()\n",
    "check_customers['same_brand'] = check_customers['brand_x'] == check_customers['brand_y']"
   ]
  },
  {
   "cell_type": "code",
   "execution_count": 18,
   "id": "81b06ce7-71fc-4be7-9440-5ad8663e74de",
   "metadata": {},
   "outputs": [
    {
     "data": {
      "text/html": [
       "<div>\n",
       "<style scoped>\n",
       "    .dataframe tbody tr th:only-of-type {\n",
       "        vertical-align: middle;\n",
       "    }\n",
       "\n",
       "    .dataframe tbody tr th {\n",
       "        vertical-align: top;\n",
       "    }\n",
       "\n",
       "    .dataframe thead th {\n",
       "        text-align: right;\n",
       "    }\n",
       "</style>\n",
       "<table border=\"1\" class=\"dataframe\">\n",
       "  <thead>\n",
       "    <tr style=\"text-align: right;\">\n",
       "      <th></th>\n",
       "      <th>customer_id</th>\n",
       "      <th>brand_x</th>\n",
       "      <th>brand_y</th>\n",
       "    </tr>\n",
       "  </thead>\n",
       "  <tbody>\n",
       "    <tr>\n",
       "      <th>127</th>\n",
       "      <td>397347</td>\n",
       "      <td>Footjoy</td>\n",
       "      <td>Ping</td>\n",
       "    </tr>\n",
       "    <tr>\n",
       "      <th>129</th>\n",
       "      <td>416319</td>\n",
       "      <td>Wilson</td>\n",
       "      <td>Mizuno</td>\n",
       "    </tr>\n",
       "    <tr>\n",
       "      <th>139</th>\n",
       "      <td>265955</td>\n",
       "      <td>TaylorMade</td>\n",
       "      <td>Cleveland</td>\n",
       "    </tr>\n",
       "    <tr>\n",
       "      <th>141</th>\n",
       "      <td>265955</td>\n",
       "      <td>TaylorMade</td>\n",
       "      <td>Nike</td>\n",
       "    </tr>\n",
       "    <tr>\n",
       "      <th>142</th>\n",
       "      <td>265955</td>\n",
       "      <td>TaylorMade</td>\n",
       "      <td>Cobra</td>\n",
       "    </tr>\n",
       "    <tr>\n",
       "      <th>...</th>\n",
       "      <td>...</td>\n",
       "      <td>...</td>\n",
       "      <td>...</td>\n",
       "    </tr>\n",
       "    <tr>\n",
       "      <th>551685</th>\n",
       "      <td>1198330</td>\n",
       "      <td>Ping</td>\n",
       "      <td>PXG</td>\n",
       "    </tr>\n",
       "    <tr>\n",
       "      <th>551686</th>\n",
       "      <td>1198330</td>\n",
       "      <td>Ping</td>\n",
       "      <td>Tour Edge</td>\n",
       "    </tr>\n",
       "    <tr>\n",
       "      <th>551687</th>\n",
       "      <td>431862</td>\n",
       "      <td>TaylorMade</td>\n",
       "      <td>Ping</td>\n",
       "    </tr>\n",
       "    <tr>\n",
       "      <th>551688</th>\n",
       "      <td>1198371</td>\n",
       "      <td>Ping</td>\n",
       "      <td>TaylorMade</td>\n",
       "    </tr>\n",
       "    <tr>\n",
       "      <th>551768</th>\n",
       "      <td>439028</td>\n",
       "      <td>Ping</td>\n",
       "      <td>TaylorMade</td>\n",
       "    </tr>\n",
       "  </tbody>\n",
       "</table>\n",
       "<p>9101 rows × 3 columns</p>\n",
       "</div>"
      ],
      "text/plain": [
       "        customer_id     brand_x     brand_y\n",
       "127          397347     Footjoy        Ping\n",
       "129          416319      Wilson      Mizuno\n",
       "139          265955  TaylorMade   Cleveland\n",
       "141          265955  TaylorMade        Nike\n",
       "142          265955  TaylorMade       Cobra\n",
       "...             ...         ...         ...\n",
       "551685      1198330        Ping         PXG\n",
       "551686      1198330        Ping   Tour Edge\n",
       "551687       431862  TaylorMade        Ping\n",
       "551688      1198371        Ping  TaylorMade\n",
       "551768       439028        Ping  TaylorMade\n",
       "\n",
       "[9101 rows x 3 columns]"
      ]
     },
     "execution_count": 18,
     "metadata": {},
     "output_type": "execute_result"
    }
   ],
   "source": [
    "customers_with_no_true = check_customers.groupby('customer_id')['same_brand'].apply(lambda x: all(x == False))\n",
    "\n",
    "customers_with_no_true_ids = customers_with_no_true[customers_with_no_true].index\n",
    "\n",
    "df_filtered = df_customers_orders[df_customers_orders['customer_id'].isin(customers_with_no_true_ids)]\n",
    "\n",
    "brand_combinations = df_filtered[['customer_id', 'brand_x', 'brand_y']].drop_duplicates()\n",
    "brand_combinations"
   ]
  },
  {
   "cell_type": "code",
   "execution_count": 19,
   "id": "d3b93ce0-9ed8-44e9-bd8e-72a01ad2b835",
   "metadata": {},
   "outputs": [],
   "source": [
    "# Count unique customers in Dataset 1\n",
    "unique_customers_df1 = df_orders['customer_id'].nunique()\n",
    "\n",
    "# Count unique customers in Dataset 2\n",
    "unique_customers_df2 = df_items['customer_id'].nunique()\n",
    "\n",
    "unique_customers_intersection = df_customers_orders['customer_id'].nunique()"
   ]
  },
  {
   "cell_type": "code",
   "execution_count": 20,
   "id": "77af370c-329c-4a06-b76e-bd502c967637",
   "metadata": {},
   "outputs": [
    {
     "name": "stderr",
     "output_type": "stream",
     "text": [
      "C:\\Users\\user\\AppData\\Local\\Temp\\ipykernel_11044\\1837623678.py:8: FutureWarning: \n",
      "\n",
      "Passing `palette` without assigning `hue` is deprecated and will be removed in v0.14.0. Assign the `x` variable to `hue` and set `legend=False` for the same effect.\n",
      "\n",
      "  sns.barplot(x=list(customer_counts.keys()), y=list(customer_counts.values()), palette=\"Set2\")\n"
     ]
    },
    {
     "data": {
      "image/png": "[encoded data removed]",
      "text/plain": [
       "<Figure size 500x500 with 1 Axes>"
      ]
     },
     "metadata": {},
     "output_type": "display_data"
    }
   ],
   "source": [
    "customer_counts = {\n",
    "    'Sellers': unique_customers_df1,\n",
    "    'Buyers': unique_customers_df2,\n",
    "    'Both': unique_customers_intersection\n",
    "}\n",
    "\n",
    "plt.figure(figsize=(5, 5))\n",
    "sns.barplot(x=list(customer_counts.keys()), y=list(customer_counts.values()), palette=\"Set2\")\n",
    "\n",
    "# Customize plot\n",
    "plt.title(\"Types of customers\")\n",
    "plt.ylabel(\"Number of Customers\")\n",
    "plt.xlabel(\"Customer Type\")\n",
    "plt.savefig('unique_customers.png', dpi=300, bbox_inches='tight')  # Save as PNG file\n",
    "plt.show()  # Display the plot"
   ]
  },
  {
   "cell_type": "markdown",
   "id": "e85b73e0-df3f-4754-b477-745c6295daf6",
   "metadata": {},
   "source": [
    "Seemingly, some customers can sell the brands without previously buying any products with the same brand."
   ]
  },
  {
   "cell_type": "markdown",
   "id": "5ae7065e-23cc-4618-aeef-f53ae8304aec",
   "metadata": {},
   "source": [
    "# 2. We have .com and .co.uk  site \n",
    "**Are we getting both datasets**"
   ]
  },
  {
   "cell_type": "code",
   "execution_count": 21,
   "id": "7c85df6b-39fa-4240-9f80-b6338fbabf93",
   "metadata": {},
   "outputs": [
    {
     "data": {
      "text/plain": [
       "array(['CAD', 'USD'], dtype=object)"
      ]
     },
     "execution_count": 21,
     "metadata": {},
     "output_type": "execute_result"
    }
   ],
   "source": [
    "df_items.currency.unique()"
   ]
  },
  {
   "cell_type": "code",
   "execution_count": 22,
   "id": "76efa30a-8658-40d8-8db7-c70fc9a1747f",
   "metadata": {},
   "outputs": [
    {
     "data": {
      "text/plain": [
       "array(['CAD', 'USD'], dtype=object)"
      ]
     },
     "execution_count": 22,
     "metadata": {},
     "output_type": "execute_result"
    }
   ],
   "source": [
    "df_orders.currency.unique()"
   ]
  },
  {
   "cell_type": "markdown",
   "id": "1cccb71b-dfff-4f40-a059-778d5377586b",
   "metadata": {},
   "source": [
    "We cannot see the GBP code there, so we don't have the data from co.uk site, offering the prices in local currency."
   ]
  },
  {
   "cell_type": "markdown",
   "id": "65661d72-4fae-4cc4-8cd2-fc3ee45a8cd2",
   "metadata": {},
   "source": [
    "# 3. What is the customer lifetime span?"
   ]
  },
  {
   "cell_type": "code",
   "execution_count": 23,
   "id": "85f452df-beb7-4084-9e79-d3bb67c57f22",
   "metadata": {
    "scrolled": true
   },
   "outputs": [
    {
     "name": "stdout",
     "output_type": "stream",
     "text": [
      "Average customer lifetime span among sellers and buyers is 1 year\n"
     ]
    }
   ],
   "source": [
    "# Group by customer_id and calculate first and last purchase dates for orders\n",
    "df_orders_clv = df_orders.groupby('customer_id', as_index=False)['created_at'].agg(\n",
    "    first_purchase_date='min',\n",
    "    last_purchase_date='max'\n",
    ")\n",
    "\n",
    "# Group by customer_id and calculate first and last purchase dates for items\n",
    "df_items_clv = df_items.groupby('customer_id', as_index=False)['created_at'].agg(\n",
    "    first_purchase_date='min',\n",
    "    last_purchase_date='max'\n",
    ")\n",
    "\n",
    "# Merge the two DataFrames on customer_id\n",
    "df_clv_combined = pd.merge(df_orders_clv, df_items_clv, on='customer_id', suffixes=('_orders', '_items'))\n",
    "\n",
    "# Calculate the overall first and last purchase dates for CLV calculation\n",
    "df_clv_combined['overall_first_purchase_date'] = df_clv_combined[['first_purchase_date_orders', 'first_purchase_date_items']].min(axis=1)\n",
    "df_clv_combined['overall_last_purchase_date'] = df_clv_combined[['last_purchase_date_orders', 'last_purchase_date_items']].max(axis=1)\n",
    "\n",
    "# Calculate CLV in days\n",
    "df_clv_combined['clv_days'] = (df_clv_combined['overall_last_purchase_date'] - df_clv_combined['overall_first_purchase_date']).dt.days / 365\n",
    "\n",
    "print(f'Average customer lifetime span among sellers and buyers is {round(df_clv_combined.clv_days.mean())} year')"
   ]
  },
  {
   "cell_type": "markdown",
   "id": "66eb5ac3-e655-44ad-8642-404b23300a36",
   "metadata": {},
   "source": [
    "# 4. NPS Score is in the range of 70, which is quite good "
   ]
  },
  {
   "cell_type": "markdown",
   "id": "d6f021e3-19bb-4866-b0bc-fe6ccc63b848",
   "metadata": {},
   "source": [
    "**Need to  investigate the product review and their sentiment**"
   ]
  },
  {
   "cell_type": "code",
   "execution_count": 24,
   "id": "fa310f0d-7be9-4b4b-9abd-25f3b55a4d37",
   "metadata": {},
   "outputs": [
    {
     "name": "stdout",
     "output_type": "stream",
     "text": [
      "<class 'pandas.core.frame.DataFrame'>\n",
      "RangeIndex: 10693 entries, 0 to 10692\n",
      "Data columns (total 44 columns):\n",
      " #   Column                  Non-Null Count  Dtype         \n",
      "---  ------                  --------------  -----         \n",
      " 0   Review ID               10693 non-null  int64         \n",
      " 1   Review Creation Date    10693 non-null  datetime64[ns]\n",
      " 2   Review Type             10693 non-null  object        \n",
      " 3   Review Status           10693 non-null  object        \n",
      " 4   Status Details          0 non-null      float64       \n",
      " 5   Review Source           10693 non-null  object        \n",
      " 6   Review Score            10693 non-null  int64         \n",
      " 7   Review Title            10691 non-null  object        \n",
      " 8   Review Content          10691 non-null  object        \n",
      " 9   Sentiment Score         10687 non-null  float64       \n",
      " 10  Profanity Flag          45 non-null     float64       \n",
      " 11  Published Image URLs    0 non-null      float64       \n",
      " 12  Unpublished Image URLs  139 non-null    object        \n",
      " 13  Published Video URLs    0 non-null      float64       \n",
      " 14  Unpublished Video URLs  6 non-null      object        \n",
      " 15  Comment Date            3 non-null      object        \n",
      " 16  Comment Content         3 non-null      object        \n",
      " 17  Comment Public          3 non-null      float64       \n",
      " 18  Review Tags             3 non-null      object        \n",
      " 19  Thumbs Up               10693 non-null  int64         \n",
      " 20  Thumbs Down             10693 non-null  int64         \n",
      " 21  Order ID                5941 non-null   float64       \n",
      " 22  Order Date              5941 non-null   datetime64[ns]\n",
      " 23  Pushed to Social        1 non-null      object        \n",
      " 24  Reviewer Display Name   10693 non-null  object        \n",
      " 25  Reviewer Email          10693 non-null  object        \n",
      " 26  Reviewer Type           10693 non-null  object        \n",
      " 27  Reviewer Country        6104 non-null   object        \n",
      " 28  Reviewer Device Type    6105 non-null   object        \n",
      " 29  Product ID              10693 non-null  object        \n",
      " 30  Product Title           10693 non-null  object        \n",
      " 31  Product Description     5161 non-null   object        \n",
      " 32  Product URL             5161 non-null   object        \n",
      " 33  Product Image URL       5138 non-null   object        \n",
      " 34  Product Handle          0 non-null      float64       \n",
      " 35  Product Group           0 non-null      float64       \n",
      " 36  Product Category        0 non-null      float64       \n",
      " 37  Product UPC             0 non-null      float64       \n",
      " 38  Product SKU             2721 non-null   object        \n",
      " 39  Product Brand           5159 non-null   object        \n",
      " 40  Product MPN             0 non-null      float64       \n",
      " 41  Product ISBN            0 non-null      float64       \n",
      " 42  Incentivized Flag       0 non-null      float64       \n",
      " 43  Metaobject handle       0 non-null      float64       \n",
      "dtypes: datetime64[ns](2), float64(15), int64(4), object(23)\n",
      "memory usage: 3.6+ MB\n"
     ]
    }
   ],
   "source": [
    "df_reviews.info()"
   ]
  },
  {
   "cell_type": "code",
   "execution_count": 25,
   "id": "be045409-c955-459c-a63e-55f69c6b4bc6",
   "metadata": {},
   "outputs": [],
   "source": [
    "df_product_reviews = df_reviews[df_reviews['Review Type'] == 'product_review']"
   ]
  },
  {
   "cell_type": "code",
   "execution_count": 26,
   "id": "155c5343-f4ae-4de3-b594-49e438259ad4",
   "metadata": {},
   "outputs": [
    {
     "name": "stderr",
     "output_type": "stream",
     "text": [
      "C:\\Users\\user\\AppData\\Local\\Temp\\ipykernel_11044\\3263006893.py:5: SettingWithCopyWarning: \n",
      "A value is trying to be set on a copy of a slice from a DataFrame.\n",
      "Try using .loc[row_indexer,col_indexer] = value instead\n",
      "\n",
      "See the caveats in the documentation: https://pandas.pydata.org/pandas-docs/stable/user_guide/indexing.html#returning-a-view-versus-a-copy\n",
      "  df_product_reviews['Sentiment Category'] = pd.cut(df_product_reviews['Sentiment Score'], bins=bins, labels=labels)\n"
     ]
    }
   ],
   "source": [
    "bins = [-float('inf'), 0, 0.5, float('inf')]  # Bins for Negative, Neutral, Positive\n",
    "labels = ['Negative', 'Neutral', 'Positive']  # Corresponding labels\n",
    "\n",
    "# Categorize sentiment scores\n",
    "df_product_reviews['Sentiment Category'] = pd.cut(df_product_reviews['Sentiment Score'], bins=bins, labels=labels)"
   ]
  },
  {
   "cell_type": "code",
   "execution_count": 27,
   "id": "9f166338-fdb0-4ecd-9880-aa6ee2469101",
   "metadata": {},
   "outputs": [
    {
     "name": "stderr",
     "output_type": "stream",
     "text": [
      "C:\\Users\\user\\AppData\\Local\\Temp\\ipykernel_11044\\2677834134.py:1: FutureWarning: The default of observed=False is deprecated and will be changed to True in a future version of pandas. Pass observed=False to retain current behavior or observed=True to adopt the future default and silence this warning.\n",
      "  df_review_sentiment_scores = df_product_reviews.groupby('Sentiment Category', as_index=False).agg(count_of_reviews=('Review ID', 'count'))\n"
     ]
    },
    {
     "data": {
      "text/html": [
       "<div>\n",
       "<style scoped>\n",
       "    .dataframe tbody tr th:only-of-type {\n",
       "        vertical-align: middle;\n",
       "    }\n",
       "\n",
       "    .dataframe tbody tr th {\n",
       "        vertical-align: top;\n",
       "    }\n",
       "\n",
       "    .dataframe thead th {\n",
       "        text-align: right;\n",
       "    }\n",
       "</style>\n",
       "<table border=\"1\" class=\"dataframe\">\n",
       "  <thead>\n",
       "    <tr style=\"text-align: right;\">\n",
       "      <th></th>\n",
       "      <th>Sentiment Category</th>\n",
       "      <th>count_of_reviews</th>\n",
       "    </tr>\n",
       "  </thead>\n",
       "  <tbody>\n",
       "    <tr>\n",
       "      <th>0</th>\n",
       "      <td>Negative</td>\n",
       "      <td>27</td>\n",
       "    </tr>\n",
       "    <tr>\n",
       "      <th>1</th>\n",
       "      <td>Neutral</td>\n",
       "      <td>433</td>\n",
       "    </tr>\n",
       "    <tr>\n",
       "      <th>2</th>\n",
       "      <td>Positive</td>\n",
       "      <td>4698</td>\n",
       "    </tr>\n",
       "  </tbody>\n",
       "</table>\n",
       "</div>"
      ],
      "text/plain": [
       "  Sentiment Category  count_of_reviews\n",
       "0           Negative                27\n",
       "1            Neutral               433\n",
       "2           Positive              4698"
      ]
     },
     "execution_count": 27,
     "metadata": {},
     "output_type": "execute_result"
    }
   ],
   "source": [
    "df_review_sentiment_scores = df_product_reviews.groupby('Sentiment Category', as_index=False).agg(count_of_reviews=('Review ID', 'count'))\n",
    "df_review_sentiment_scores"
   ]
  },
  {
   "cell_type": "code",
   "execution_count": 28,
   "id": "4a930972-f550-4548-a88a-2c28a43af775",
   "metadata": {},
   "outputs": [
    {
     "data": {
      "image/png": "[encoded data removed]",
      "text/plain": [
       "<Figure size 600x600 with 3 Axes>"
      ]
     },
     "metadata": {},
     "output_type": "display_data"
    }
   ],
   "source": [
    "sns.jointplot(df_reviews['Sentiment Score'])\n",
    "plt.savefig('sentiment scores distribution.png', dpi=300, bbox_inches='tight')"
   ]
  },
  {
   "cell_type": "code",
   "execution_count": 30,
   "id": "832f4af7-18da-4d7b-a75d-1ae3635691b5",
   "metadata": {},
   "outputs": [
    {
     "data": {
      "image/png": "[encoded data removed]",
      "text/plain": [
       "<Figure size 640x480 with 1 Axes>"
      ]
     },
     "metadata": {},
     "output_type": "display_data"
    }
   ],
   "source": [
    "sns.barplot(data=df_review_sentiment_scores, x='Sentiment Category', y='count_of_reviews')\n",
    "plt.savefig('count of sent scores by categories.png', dpi=300, bbox_inches='tight')"
   ]
  },
  {
   "cell_type": "markdown",
   "id": "bddb9aa2-e282-408f-a3f5-31c35302e504",
   "metadata": {},
   "source": [
    "**What impact does a posive or negative review as on Sales or product sales**"
   ]
  },
  {
   "cell_type": "markdown",
   "id": "6bae1c46-814f-419b-826e-701ed54f7e37",
   "metadata": {},
   "source": [
    "To answer this question, we must be able to have common Order ID for the Dataset with Reviews and sold products to be able to precisely estimate the effect. \n",
    "\n",
    "However, we are enable to define the effect because of the missmatching IDs of Orders, leading to the inability to identify the specific entities."
   ]
  },
  {
   "cell_type": "markdown",
   "id": "1e18c0d6-b9cc-46d0-b50d-5c4b7ff31cb1",
   "metadata": {},
   "source": [
    "## 5. Total Customers around 1 M; however repeated rate is only 25% "
   ]
  },
  {
   "cell_type": "markdown",
   "id": "165edf26-8e6f-477d-90db-64bb512c549b",
   "metadata": {},
   "source": [
    "**Is that good for a company with such product lifespan ?**"
   ]
  },
  {
   "cell_type": "markdown",
   "id": "979037af-3c7c-494f-ae8f-1adfe8b98f43",
   "metadata": {},
   "source": [
    "We can calcualte Customer Lifetime Value (CLV) to answer this question. To do so we need to know Average Order Value (AOV)"
   ]
  },
  {
   "cell_type": "code",
   "execution_count": 56,
   "id": "49297883-2f59-440c-bab4-b0bae1716317",
   "metadata": {},
   "outputs": [],
   "source": [
    "conversion_rate = 0.75  # 1 CAD = 0.75 USD (you can update this to the current rate)\n",
    "\n",
    "# Create a new column with totals converted to USD\n",
    "df_items['total_in_usd'] = df_items.apply(lambda row: row['total'] * conversion_rate if row['currency'] == 'CAD' else row['total'], axis=1)"
   ]
  },
  {
   "cell_type": "code",
   "execution_count": 57,
   "id": "6ab20819-0842-42fb-bffe-b6023181914b",
   "metadata": {},
   "outputs": [
    {
     "data": {
      "text/plain": [
       "93.75"
      ]
     },
     "execution_count": 57,
     "metadata": {},
     "output_type": "execute_result"
    }
   ],
   "source": [
    "aov = df_items.total.median()\n",
    "aov = float(aov)\n",
    "aov"
   ]
  },
  {
   "cell_type": "code",
   "execution_count": 58,
   "id": "62d0675d-8e7e-445e-b364-068d64121817",
   "metadata": {},
   "outputs": [
    {
     "name": "stdout",
     "output_type": "stream",
     "text": [
      "CLV is 23.44. We need to compare it to Customer Aquisition Costs (CAC) to say whether we earn money from orders or spend more time on promotion.\n"
     ]
    }
   ],
   "source": [
    "clv = round(aov * 0.25 * 1, 2)\n",
    "print(f'CLV is {clv}. We need to compare it to Customer Aquisition Costs (CAC) to say whether we earn money from orders or spend more time on promotion.')"
   ]
  },
  {
   "cell_type": "markdown",
   "id": "88234d54-6758-43bf-947a-0b2037faa408",
   "metadata": {},
   "source": [
    "We can also evaluate projected revenue with the following calcualtions"
   ]
  },
  {
   "cell_type": "code",
   "execution_count": 54,
   "id": "465a78ea-100a-4cb7-b5a8-65debf097d91",
   "metadata": {},
   "outputs": [],
   "source": [
    "total_expected_revenue = 1000000 * clv"
   ]
  },
  {
   "cell_type": "code",
   "execution_count": 55,
   "id": "501dfa50-905d-4381-8693-480f0dfc22ed",
   "metadata": {},
   "outputs": [
    {
     "name": "stdout",
     "output_type": "stream",
     "text": [
      "The Total Expected Revenue of the project is at least 23440000.0\n"
     ]
    }
   ],
   "source": [
    "print(f'The Total Expected Revenue of the project is at least {total_expected_revenue}')"
   ]
  },
  {
   "cell_type": "markdown",
   "id": "3f3e7211-59e7-4b9a-8166-f8e3c750e088",
   "metadata": {},
   "source": [
    "## 6. So from the date of purchase to the date of your golf club lifespan users buy what ?"
   ]
  },
  {
   "cell_type": "code",
   "execution_count": 35,
   "id": "c0b82f42-a5ab-4c3e-bde8-7a69c61247db",
   "metadata": {},
   "outputs": [
    {
     "name": "stderr",
     "output_type": "stream",
     "text": [
      "C:\\Users\\user\\AppData\\Local\\Temp\\ipykernel_11044\\3273739942.py:11: SettingWithCopyWarning: \n",
      "A value is trying to be set on a copy of a slice from a DataFrame.\n",
      "Try using .loc[row_indexer,col_indexer] = value instead\n",
      "\n",
      "See the caveats in the documentation: https://pandas.pydata.org/pandas-docs/stable/user_guide/indexing.html#returning-a-view-versus-a-copy\n",
      "  df_purchases['min_lifespan_days'] = df_purchases['product_type'].map(lifespan_mapping) * 365\n"
     ]
    }
   ],
   "source": [
    "lifespan_mapping = {\n",
    "    'Driver': 3,\n",
    "    'Iron Set': 5,\n",
    "    'Putter': 5,\n",
    "    'Fairway Wood': 5,\n",
    "    'Wedge': 5,\n",
    "    'Hybrid': 5,\n",
    "    'Club Set': 5\n",
    "}\n",
    "df_purchases = df_items[df_items.status == 'Accepted']\n",
    "df_purchases['min_lifespan_days'] = df_purchases['product_type'].map(lifespan_mapping) * 365\n",
    "\n",
    "# Get the first purchase date for each customer\n",
    "first_purchase_dates = df_purchases.sort_values('created_at').groupby('customer_id').first().reset_index()\n",
    "first_purchase_dates = first_purchase_dates[['customer_id', 'created_at', 'product_type']]\n",
    "first_purchase_dates.columns = ['customer_id', 'first_purchase_date', 'first_product_type']\n",
    "\n",
    "# Merge first purchase dates with original data\n",
    "df_merged = pd.merge(df_purchases, first_purchase_dates, on='customer_id')\n",
    "\n",
    "# Filter purchases within the minimum lifespan after the first purchase\n",
    "df_merged['within_lifespan'] = (df_merged['created_at'] >= df_merged['first_purchase_date']) & \\\n",
    "                                (df_merged['created_at'] <= df_merged['first_purchase_date'] + pd.to_timedelta(df_merged['min_lifespan_days'], unit='d'))\n",
    "\n",
    "# Collect subsequent purchases in a list\n",
    "subsequent_purchases = df_merged[df_merged['within_lifespan']].groupby('customer_id')['product_type'].apply(list).reset_index()\n",
    "subsequent_purchases.columns = ['customer_id', 'subsequent_purchases']\n",
    "\n",
    "# Merge the subsequent purchases back to the original DataFrame\n",
    "df_final = pd.merge(first_purchase_dates, subsequent_purchases, on='customer_id', how='left')\n",
    "\n",
    "# Fill NaN with empty lists\n",
    "df_final['subsequent_purchases'] = df_final['subsequent_purchases'].apply(lambda x: x if isinstance(x, list) else [])"
   ]
  },
  {
   "cell_type": "code",
   "execution_count": 36,
   "id": "e6a77ee8-1324-4b20-bba7-74e29f68bbac",
   "metadata": {},
   "outputs": [
    {
     "data": {
      "text/html": [
       "<div>\n",
       "<style scoped>\n",
       "    .dataframe tbody tr th:only-of-type {\n",
       "        vertical-align: middle;\n",
       "    }\n",
       "\n",
       "    .dataframe tbody tr th {\n",
       "        vertical-align: top;\n",
       "    }\n",
       "\n",
       "    .dataframe thead th {\n",
       "        text-align: right;\n",
       "    }\n",
       "</style>\n",
       "<table border=\"1\" class=\"dataframe\">\n",
       "  <thead>\n",
       "    <tr style=\"text-align: right;\">\n",
       "      <th></th>\n",
       "      <th>customer_id</th>\n",
       "      <th>first_purchase_date</th>\n",
       "      <th>first_product_type</th>\n",
       "      <th>subsequent_purchases</th>\n",
       "    </tr>\n",
       "  </thead>\n",
       "  <tbody>\n",
       "    <tr>\n",
       "      <th>0</th>\n",
       "      <td>7</td>\n",
       "      <td>2023-12-14 16:30:00</td>\n",
       "      <td>Driver</td>\n",
       "      <td>[Wedge, Wedge, Wedge, Driver, Hybrid, Wedge, W...</td>\n",
       "    </tr>\n",
       "    <tr>\n",
       "      <th>1</th>\n",
       "      <td>8</td>\n",
       "      <td>2024-04-04 19:05:00</td>\n",
       "      <td>Hybrid</td>\n",
       "      <td>[Fairway Wood, Putter, Hybrid, Hybrid, Hybrid,...</td>\n",
       "    </tr>\n",
       "    <tr>\n",
       "      <th>2</th>\n",
       "      <td>9</td>\n",
       "      <td>2024-06-27 20:20:00</td>\n",
       "      <td>Fairway Wood</td>\n",
       "      <td>[Driver, Driver, Fairway Wood, Driver, Driver,...</td>\n",
       "    </tr>\n",
       "    <tr>\n",
       "      <th>3</th>\n",
       "      <td>85</td>\n",
       "      <td>2021-12-22 22:00:00</td>\n",
       "      <td>Fairway Wood</td>\n",
       "      <td>[Fairway Wood, Driver, Iron Set, Fairway Wood,...</td>\n",
       "    </tr>\n",
       "    <tr>\n",
       "      <th>4</th>\n",
       "      <td>2253</td>\n",
       "      <td>2021-10-12 15:30:00</td>\n",
       "      <td>Driver</td>\n",
       "      <td>[Driver, Putter, Driver, Driver, Driver, Drive...</td>\n",
       "    </tr>\n",
       "    <tr>\n",
       "      <th>...</th>\n",
       "      <td>...</td>\n",
       "      <td>...</td>\n",
       "      <td>...</td>\n",
       "      <td>...</td>\n",
       "    </tr>\n",
       "    <tr>\n",
       "      <th>11486</th>\n",
       "      <td>1193839</td>\n",
       "      <td>2024-09-02 17:40:00</td>\n",
       "      <td>Iron Set</td>\n",
       "      <td>[Wedge, Wedge, Driver, Fairway Wood, Iron Set,...</td>\n",
       "    </tr>\n",
       "    <tr>\n",
       "      <th>11487</th>\n",
       "      <td>1194013</td>\n",
       "      <td>2024-09-02 22:35:00</td>\n",
       "      <td>Driver</td>\n",
       "      <td>[Driver, Driver]</td>\n",
       "    </tr>\n",
       "    <tr>\n",
       "      <th>11488</th>\n",
       "      <td>1194202</td>\n",
       "      <td>2024-09-03 15:00:00</td>\n",
       "      <td>Fairway Wood</td>\n",
       "      <td>[Fairway Wood]</td>\n",
       "    </tr>\n",
       "    <tr>\n",
       "      <th>11489</th>\n",
       "      <td>1194786</td>\n",
       "      <td>2024-09-04 12:25:00</td>\n",
       "      <td>Putter</td>\n",
       "      <td>[Putter]</td>\n",
       "    </tr>\n",
       "    <tr>\n",
       "      <th>11490</th>\n",
       "      <td>1194879</td>\n",
       "      <td>2024-09-10 13:15:00</td>\n",
       "      <td>Wedge</td>\n",
       "      <td>[Wedge, Iron Set, Iron Set, Iron Set, Iron Set...</td>\n",
       "    </tr>\n",
       "  </tbody>\n",
       "</table>\n",
       "<p>11491 rows × 4 columns</p>\n",
       "</div>"
      ],
      "text/plain": [
       "       customer_id first_purchase_date first_product_type  \\\n",
       "0                7 2023-12-14 16:30:00             Driver   \n",
       "1                8 2024-04-04 19:05:00             Hybrid   \n",
       "2                9 2024-06-27 20:20:00       Fairway Wood   \n",
       "3               85 2021-12-22 22:00:00       Fairway Wood   \n",
       "4             2253 2021-10-12 15:30:00             Driver   \n",
       "...            ...                 ...                ...   \n",
       "11486      1193839 2024-09-02 17:40:00           Iron Set   \n",
       "11487      1194013 2024-09-02 22:35:00             Driver   \n",
       "11488      1194202 2024-09-03 15:00:00       Fairway Wood   \n",
       "11489      1194786 2024-09-04 12:25:00             Putter   \n",
       "11490      1194879 2024-09-10 13:15:00              Wedge   \n",
       "\n",
       "                                    subsequent_purchases  \n",
       "0      [Wedge, Wedge, Wedge, Driver, Hybrid, Wedge, W...  \n",
       "1      [Fairway Wood, Putter, Hybrid, Hybrid, Hybrid,...  \n",
       "2      [Driver, Driver, Fairway Wood, Driver, Driver,...  \n",
       "3      [Fairway Wood, Driver, Iron Set, Fairway Wood,...  \n",
       "4      [Driver, Putter, Driver, Driver, Driver, Drive...  \n",
       "...                                                  ...  \n",
       "11486  [Wedge, Wedge, Driver, Fairway Wood, Iron Set,...  \n",
       "11487                                   [Driver, Driver]  \n",
       "11488                                     [Fairway Wood]  \n",
       "11489                                           [Putter]  \n",
       "11490  [Wedge, Iron Set, Iron Set, Iron Set, Iron Set...  \n",
       "\n",
       "[11491 rows x 4 columns]"
      ]
     },
     "execution_count": 36,
     "metadata": {},
     "output_type": "execute_result"
    }
   ],
   "source": [
    "df_final"
   ]
  },
  {
   "cell_type": "code",
   "execution_count": 37,
   "id": "74ac2464-9c7b-4707-8acd-b996b94e7275",
   "metadata": {},
   "outputs": [],
   "source": [
    "# Function to find the most popular post-sale product for each first product type\n",
    "def most_popular_subsequent(df):\n",
    "    # Group by the first product type\n",
    "    grouped = df.groupby('first_product_type')['subsequent_purchases'].apply(list).reset_index()\n",
    "\n",
    "    # Initialize a list to store the most popular product for each type\n",
    "    popular_products = []\n",
    "\n",
    "    for _, row in grouped.iterrows():\n",
    "        # Flatten the list of subsequent purchases for each first product type\n",
    "        flat_list = [item for sublist in row['subsequent_purchases'] for item in sublist]\n",
    "        if flat_list:  # If there are any subsequent purchases\n",
    "            # Count occurrences of each product and find the most common one\n",
    "            most_common_product = Counter(flat_list).most_common(1)[0][0]\n",
    "        else:\n",
    "            most_common_product = None  # No subsequent purchases\n",
    "\n",
    "        popular_products.append({\n",
    "            'first_product_type': row['first_product_type'],\n",
    "            'most_popular_post_sale': most_common_product\n",
    "        })\n",
    "\n",
    "    return pd.DataFrame(popular_products)\n",
    "\n",
    "# Get the most popular post-sale products for each first product type\n",
    "popular_products_df = most_popular_subsequent(df_final)"
   ]
  },
  {
   "cell_type": "code",
   "execution_count": 38,
   "id": "7a1891fc-3f01-4cec-8c92-88244ac36dc5",
   "metadata": {},
   "outputs": [
    {
     "data": {
      "text/html": [
       "<div>\n",
       "<style scoped>\n",
       "    .dataframe tbody tr th:only-of-type {\n",
       "        vertical-align: middle;\n",
       "    }\n",
       "\n",
       "    .dataframe tbody tr th {\n",
       "        vertical-align: top;\n",
       "    }\n",
       "\n",
       "    .dataframe thead th {\n",
       "        text-align: right;\n",
       "    }\n",
       "</style>\n",
       "<table border=\"1\" class=\"dataframe\">\n",
       "  <thead>\n",
       "    <tr style=\"text-align: right;\">\n",
       "      <th></th>\n",
       "      <th>first_product_type</th>\n",
       "      <th>most_popular_post_sale</th>\n",
       "    </tr>\n",
       "  </thead>\n",
       "  <tbody>\n",
       "    <tr>\n",
       "      <th>0</th>\n",
       "      <td>Club Set</td>\n",
       "      <td>Fairway Wood</td>\n",
       "    </tr>\n",
       "    <tr>\n",
       "      <th>1</th>\n",
       "      <td>Driver</td>\n",
       "      <td>Driver</td>\n",
       "    </tr>\n",
       "    <tr>\n",
       "      <th>2</th>\n",
       "      <td>Fairway Wood</td>\n",
       "      <td>Fairway Wood</td>\n",
       "    </tr>\n",
       "    <tr>\n",
       "      <th>3</th>\n",
       "      <td>Hybrid</td>\n",
       "      <td>Hybrid</td>\n",
       "    </tr>\n",
       "    <tr>\n",
       "      <th>4</th>\n",
       "      <td>Iron Set</td>\n",
       "      <td>Iron Set</td>\n",
       "    </tr>\n",
       "    <tr>\n",
       "      <th>5</th>\n",
       "      <td>Putter</td>\n",
       "      <td>Driver</td>\n",
       "    </tr>\n",
       "    <tr>\n",
       "      <th>6</th>\n",
       "      <td>Wedge</td>\n",
       "      <td>Wedge</td>\n",
       "    </tr>\n",
       "  </tbody>\n",
       "</table>\n",
       "</div>"
      ],
      "text/plain": [
       "  first_product_type most_popular_post_sale\n",
       "0           Club Set           Fairway Wood\n",
       "1             Driver                 Driver\n",
       "2       Fairway Wood           Fairway Wood\n",
       "3             Hybrid                 Hybrid\n",
       "4           Iron Set               Iron Set\n",
       "5             Putter                 Driver\n",
       "6              Wedge                  Wedge"
      ]
     },
     "execution_count": 38,
     "metadata": {},
     "output_type": "execute_result"
    }
   ],
   "source": [
    "popular_products_df"
   ]
  },
  {
   "cell_type": "markdown",
   "id": "500ae43b-c4ff-489e-ba0f-dc73303648ec",
   "metadata": {},
   "source": [
    "**What are they golf balls, bags**"
   ]
  },
  {
   "cell_type": "markdown",
   "id": "321a77f1-b46b-48d4-98c9-8087f9f1f359",
   "metadata": {},
   "source": [
    "According to Google, the average lifespan for golf balls is 1-2 months, while for bags its about 8 years."
   ]
  },
  {
   "cell_type": "markdown",
   "id": "792b0c63-cec7-4ed9-ab13-827801c42b97",
   "metadata": {},
   "source": [
    "**How do the brand keep intouch with it client during that 2-4 years ? Any campaign, what tool, get we get some campaign history ?**"
   ]
  },
  {
   "cell_type": "markdown",
   "id": "420645d4-32b6-446a-9fc8-a0bcac311cc6",
   "metadata": {},
   "source": [
    "The data itself give no extensive answer to this question. However the brand collects and studies the reviews of from the different sources to estimate the satisfaction rate of the clients.\n",
    "\n",
    "We don't have the campaign history itself. However, utilizing Google Tag Manager and Google Analytics 4 will help to study and adapt to the behavior of the site or app users. The tools also enable the companies to evaluate and optimize the efficiency of the campaigns."
   ]
  },
  {
   "cell_type": "markdown",
   "id": "7202430b-8082-47b8-b191-4e9303e549bc",
   "metadata": {},
   "source": [
    "# 7. Store credits are given based on transactions"
   ]
  },
  {
   "cell_type": "markdown",
   "id": "6d441973-c142-406f-a979-4c495129d585",
   "metadata": {},
   "source": [
    "only 40% of customers used the store credits. why?"
   ]
  },
  {
   "cell_type": "markdown",
   "id": "b572ee1b-81b5-4287-818b-28fe3e4a86d4",
   "metadata": {},
   "source": [
    "**Is credit too low, not appealing, brand power issues**"
   ]
  },
  {
   "cell_type": "markdown",
   "id": "a189b9bb-4d38-44ca-a271-26aab8686f80",
   "metadata": {},
   "source": [
    "The scope of the possible problems is the following:\n",
    "- Many customers might not be aware that they have earned store credits, either due to ineffective communication or unclear instructions;\n",
    "- If the amount of store credit earned is small relative to the total purchase value or if the discounts from credits are perceived as insignificant, customers may not be motivated to use them;\n",
    "- Customers who don't shop often may not accumulate enough credits to use, or they may forget about the store credits between long intervals between purchases;\n",
    "- Some customers may misunderstand how the credits work."
   ]
  },
  {
   "cell_type": "markdown",
   "id": "81e7e2f3-a48b-487d-b938-f57f546154ab",
   "metadata": {},
   "source": [
    "**Why people will keep buying these consumable with Laps.com in comparison to competitors**:\n",
    "\n",
    "For Casual Buyers:\n",
    "\n",
    "The platform provides the ability to find the best price for almost each golf product or sell the golf products themselves;\n",
    "\n",
    "For Professionals:\n",
    "\n",
    "The ability to select the golf products using the specific criteria. At the same time, the sellers can earn money on the platform by choosing the best price and analyzing other offers."
   ]
  },
  {
   "cell_type": "markdown",
   "id": "049e1814-0bfc-4528-9b64-c3632c2f9edb",
   "metadata": {},
   "source": [
    "**What the incentive ?**"
   ]
  },
  {
   "cell_type": "markdown",
   "id": "1a1c1e11-3b2f-42dd-9176-10cd271c6d33",
   "metadata": {},
   "source": [
    "- Subsription plan. The clients will regularly receive consumables by the end of the lifespan of products;\n",
    "- Personal offers. Provision of individual discounts to the specific segments of buyers;\n",
    "- Decrease commission for sellers. The sellers will get more money according to their account level;\n",
    "- Notifications. The clients may subscribe to specific products or categories of products to be notified when the new goods appear on the platform with special offer."
   ]
  },
  {
   "cell_type": "markdown",
   "id": "eae9ab0d-c8db-40e0-8515-7a0716105c70",
   "metadata": {},
   "source": [
    "# 8. All used golf products are resold as refurbished product with certified accrediation "
   ]
  },
  {
   "cell_type": "markdown",
   "id": "12983351-84da-486a-88aa-bcd601369d30",
   "metadata": {},
   "source": [
    "How many sales, revenue, aov, arpu , total customers "
   ]
  },
  {
   "cell_type": "code",
   "execution_count": 41,
   "id": "33ea8a94-cc59-4c76-9474-a97cb3cae7c8",
   "metadata": {},
   "outputs": [
    {
     "data": {
      "text/plain": [
       "24535"
      ]
     },
     "execution_count": 41,
     "metadata": {},
     "output_type": "execute_result"
    }
   ],
   "source": [
    "all_sales = df_purchases.purchase_order_id.nunique()\n",
    "all_sales"
   ]
  },
  {
   "cell_type": "code",
   "execution_count": 45,
   "id": "71363a16-ae82-4f5f-b7a2-55afcfb21ec0",
   "metadata": {},
   "outputs": [
    {
     "data": {
      "text/html": [
       "<div>\n",
       "<style scoped>\n",
       "    .dataframe tbody tr th:only-of-type {\n",
       "        vertical-align: middle;\n",
       "    }\n",
       "\n",
       "    .dataframe tbody tr th {\n",
       "        vertical-align: top;\n",
       "    }\n",
       "\n",
       "    .dataframe thead th {\n",
       "        text-align: right;\n",
       "    }\n",
       "</style>\n",
       "<table border=\"1\" class=\"dataframe\">\n",
       "  <thead>\n",
       "    <tr style=\"text-align: right;\">\n",
       "      <th></th>\n",
       "      <th>id</th>\n",
       "      <th>customer_id</th>\n",
       "      <th>purchase_order_id</th>\n",
       "      <th>status</th>\n",
       "      <th>model</th>\n",
       "      <th>product_type</th>\n",
       "      <th>brand</th>\n",
       "      <th>model_id</th>\n",
       "      <th>brand_id</th>\n",
       "      <th>product_type_id</th>\n",
       "      <th>price</th>\n",
       "      <th>currency</th>\n",
       "      <th>subtotal</th>\n",
       "      <th>margin_total</th>\n",
       "      <th>bonus_total</th>\n",
       "      <th>total</th>\n",
       "      <th>created_at</th>\n",
       "      <th>received_at</th>\n",
       "      <th>inspected_at</th>\n",
       "      <th>min_lifespan_days</th>\n",
       "    </tr>\n",
       "  </thead>\n",
       "  <tbody>\n",
       "    <tr>\n",
       "      <th>6</th>\n",
       "      <td>767187</td>\n",
       "      <td>416249</td>\n",
       "      <td>43117</td>\n",
       "      <td>Accepted</td>\n",
       "      <td>M1 460 2017</td>\n",
       "      <td>Driver</td>\n",
       "      <td>TaylorMade</td>\n",
       "      <td>8285</td>\n",
       "      <td>28</td>\n",
       "      <td>2</td>\n",
       "      <td>175.0</td>\n",
       "      <td>CAD</td>\n",
       "      <td>NaN</td>\n",
       "      <td>0.0</td>\n",
       "      <td>17.5</td>\n",
       "      <td>192.5</td>\n",
       "      <td>2021-09-10 02:30:00</td>\n",
       "      <td>NaT</td>\n",
       "      <td>2021-09-23 12:15:00</td>\n",
       "      <td>1095</td>\n",
       "    </tr>\n",
       "    <tr>\n",
       "      <th>7</th>\n",
       "      <td>767188</td>\n",
       "      <td>392519</td>\n",
       "      <td>43118</td>\n",
       "      <td>Accepted</td>\n",
       "      <td>Huntington Beach Soft 4</td>\n",
       "      <td>Putter</td>\n",
       "      <td>Cleveland</td>\n",
       "      <td>34902</td>\n",
       "      <td>7</td>\n",
       "      <td>6</td>\n",
       "      <td>60.0</td>\n",
       "      <td>CAD</td>\n",
       "      <td>NaN</td>\n",
       "      <td>0.0</td>\n",
       "      <td>6.0</td>\n",
       "      <td>66.0</td>\n",
       "      <td>2021-09-10 02:30:00</td>\n",
       "      <td>NaT</td>\n",
       "      <td>2021-09-23 14:33:00</td>\n",
       "      <td>1825</td>\n",
       "    </tr>\n",
       "    <tr>\n",
       "      <th>8</th>\n",
       "      <td>767189</td>\n",
       "      <td>392519</td>\n",
       "      <td>43118</td>\n",
       "      <td>Accepted</td>\n",
       "      <td>G SF Tec</td>\n",
       "      <td>Driver</td>\n",
       "      <td>Ping</td>\n",
       "      <td>7773</td>\n",
       "      <td>21</td>\n",
       "      <td>2</td>\n",
       "      <td>165.0</td>\n",
       "      <td>CAD</td>\n",
       "      <td>NaN</td>\n",
       "      <td>0.0</td>\n",
       "      <td>16.5</td>\n",
       "      <td>181.5</td>\n",
       "      <td>2021-09-10 02:30:00</td>\n",
       "      <td>NaT</td>\n",
       "      <td>2021-09-23 14:32:00</td>\n",
       "      <td>1095</td>\n",
       "    </tr>\n",
       "  </tbody>\n",
       "</table>\n",
       "</div>"
      ],
      "text/plain": [
       "       id  customer_id  purchase_order_id    status                    model  \\\n",
       "6  767187       416249              43117  Accepted              M1 460 2017   \n",
       "7  767188       392519              43118  Accepted  Huntington Beach Soft 4   \n",
       "8  767189       392519              43118  Accepted                 G SF Tec   \n",
       "\n",
       "  product_type       brand  model_id  brand_id  product_type_id  price  \\\n",
       "6       Driver  TaylorMade      8285        28                2  175.0   \n",
       "7       Putter   Cleveland     34902         7                6   60.0   \n",
       "8       Driver        Ping      7773        21                2  165.0   \n",
       "\n",
       "  currency  subtotal  margin_total  bonus_total  total          created_at  \\\n",
       "6      CAD       NaN           0.0         17.5  192.5 2021-09-10 02:30:00   \n",
       "7      CAD       NaN           0.0          6.0   66.0 2021-09-10 02:30:00   \n",
       "8      CAD       NaN           0.0         16.5  181.5 2021-09-10 02:30:00   \n",
       "\n",
       "  received_at        inspected_at  min_lifespan_days  \n",
       "6         NaT 2021-09-23 12:15:00               1095  \n",
       "7         NaT 2021-09-23 14:33:00               1825  \n",
       "8         NaT 2021-09-23 14:32:00               1095  "
      ]
     },
     "execution_count": 45,
     "metadata": {},
     "output_type": "execute_result"
    }
   ],
   "source": [
    "df_purchases.head(3)"
   ]
  },
  {
   "cell_type": "code",
   "execution_count": 64,
   "id": "86ec14ea-0553-4fd7-9664-d3efa6368bbd",
   "metadata": {},
   "outputs": [
    {
     "name": "stderr",
     "output_type": "stream",
     "text": [
      "C:\\Users\\user\\AppData\\Local\\Temp\\ipykernel_11044\\2371199889.py:2: SettingWithCopyWarning: \n",
      "A value is trying to be set on a copy of a slice from a DataFrame.\n",
      "Try using .loc[row_indexer,col_indexer] = value instead\n",
      "\n",
      "See the caveats in the documentation: https://pandas.pydata.org/pandas-docs/stable/user_guide/indexing.html#returning-a-view-versus-a-copy\n",
      "  df_purchases['total_in_usd'] = df_purchases.apply(lambda row: round(row['total'] * conversion_rate, 2) if row['currency'] == 'CAD' else row['total'], axis=1)\n"
     ]
    }
   ],
   "source": [
    "conversion_rate = 0.75\n",
    "df_purchases['total_in_usd'] = df_purchases.apply(lambda row: round(row['total'] * conversion_rate, 2) if row['currency'] == 'CAD' else row['total'], axis=1)\n",
    "revenue = round(float(df_purchases.total_in_usd.sum()), 2)"
   ]
  },
  {
   "cell_type": "code",
   "execution_count": 65,
   "id": "b78f2720-8b7c-42b4-997a-4ef715a6d695",
   "metadata": {},
   "outputs": [
    {
     "data": {
      "text/plain": [
       "93.75"
      ]
     },
     "execution_count": 65,
     "metadata": {},
     "output_type": "execute_result"
    }
   ],
   "source": [
    "aov"
   ]
  },
  {
   "cell_type": "code",
   "execution_count": 66,
   "id": "372f6448-9206-4a5e-904d-809656927a9b",
   "metadata": {},
   "outputs": [],
   "source": [
    "arpu = revenue / df_purchases.customer_id.nunique()"
   ]
  },
  {
   "cell_type": "code",
   "execution_count": 71,
   "id": "10aeaf18-2a9c-443c-b929-881a54526745",
   "metadata": {},
   "outputs": [],
   "source": [
    "items_customers = df_items['customer_id']\n",
    "orders_customers = df_orders['customer_id']\n",
    "all_customers = pd.concat([items_customers, orders_customers])\n",
    "arpu = revenue / all_customers.nunique()"
   ]
  },
  {
   "cell_type": "code",
   "execution_count": 75,
   "id": "9f4b5eb0-917d-4a2a-9e6a-154e783b2882",
   "metadata": {},
   "outputs": [
    {
     "name": "stdout",
     "output_type": "stream",
     "text": [
      "\n",
      "Number of Sales - 24535\n",
      "Revenue - 17936642.18\n",
      "AOV - 93.75\n",
      "ARPU - 130.86708142419377\n",
      "Total Customers - 137060\n",
      "    \n"
     ]
    }
   ],
   "source": [
    "print(\n",
    "    f'''\n",
    "Number of Sales - {all_sales}\n",
    "Revenue - {revenue}\n",
    "AOV - {aov}\n",
    "ARPU - {arpu}\n",
    "Total Customers - {all_customers.nunique()}\n",
    "    ''')"
   ]
  },
  {
   "cell_type": "markdown",
   "id": "8e516ef8-3957-4205-ad42-fdca05583648",
   "metadata": {},
   "source": [
    "**Who are these customers , are they new customers or exisiting customers**\n",
    "\n",
    "Skip this questions, not enough information what to find here"
   ]
  },
  {
   "cell_type": "markdown",
   "id": "fe0c059b-b4a2-4200-be90-0951bb3246aa",
   "metadata": {},
   "source": [
    "**how many customers buiying the refurbish product comeback ?**"
   ]
  },
  {
   "cell_type": "code",
   "execution_count": 79,
   "id": "3bd07527-8844-4c28-b2b3-4bf47ccfcd5b",
   "metadata": {},
   "outputs": [],
   "source": [
    "customer_purchase_counts = df_purchases.groupby('customer_id').size()\n",
    "\n",
    "# Step 2: Identify repeat customers (more than 1 purchase)\n",
    "repeat_customers = customer_purchase_counts[customer_purchase_counts > 1].index\n",
    "\n",
    "# Step 3: Calculate the share of repeat customers\n",
    "total_customers = df_purchases['customer_id'].nunique()  # Total unique customers\n",
    "repeat_customer_count = len(repeat_customers)            # Count of repeat customers\n",
    "repeat_customer_share = (repeat_customer_count / total_customers)"
   ]
  },
  {
   "cell_type": "code",
   "execution_count": 81,
   "id": "2df44e04-7b66-4cd5-b634-562887e26a00",
   "metadata": {},
   "outputs": [
    {
     "name": "stdout",
     "output_type": "stream",
     "text": [
      "8370 customers has come back after the first buy\n"
     ]
    }
   ],
   "source": [
    "print(f'{repeat_customer_count} customers has come back after the first buy.')"
   ]
  },
  {
   "cell_type": "markdown",
   "id": "e7b734dd-49a8-4467-8737-ebc45a983007",
   "metadata": {},
   "source": [
    "**Has any of the customers buying refurbish used store credit , what %**\n",
    "\n",
    "**Has any of the customers buying refurbish bought new golf product , what %**\n",
    "\n",
    "Datasets doesn't indicate the information about the store credits and whether the products are new or refurbished, need to get more context to answer the questions."
   ]
  },
  {
   "cell_type": "code",
   "execution_count": null,
   "id": "b2c5fb23-fa76-4a95-9c0c-66bb772ab339",
   "metadata": {},
   "outputs": [],
   "source": []
  }
 ],
 "metadata": {
  "kernelspec": {
   "display_name": "Python 3 (ipykernel)",
   "language": "python",
   "name": "python3"
  },
  "language_info": {
   "codemirror_mode": {
    "name": "ipython",
    "version": 3
   },
   "file_extension": ".py",
   "mimetype": "text/x-python",
   "name": "python",
   "nbconvert_exporter": "python",
   "pygments_lexer": "ipython3",
   "version": "3.12.2"
  }
 },
 "nbformat": 4,
 "nbformat_minor": 5
}
